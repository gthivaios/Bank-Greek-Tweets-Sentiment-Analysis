{
  "nbformat": 4,
  "nbformat_minor": 0,
  "metadata": {
    "colab": {
      "provenance": [],
      "authorship_tag": "ABX9TyPbJ5s9vMr0dvc0FVk98uyD",
      "include_colab_link": true
    },
    "kernelspec": {
      "name": "python3",
      "display_name": "Python 3"
    },
    "language_info": {
      "name": "python"
    }
  },
  "cells": [
    {
      "cell_type": "markdown",
      "metadata": {
        "id": "view-in-github",
        "colab_type": "text"
      },
      "source": [
        "<a href=\"https://colab.research.google.com/github/gthivaios/Bank-Greek-Tweets-Sentiment-Analysis/blob/main/Trace.ipynb\" target=\"_parent\"><img src=\"https://colab.research.google.com/assets/colab-badge.svg\" alt=\"Open In Colab\"/></a>"
      ]
    },
    {
      "cell_type": "markdown",
      "source": [
        "## Detect Liquid Racism in Antiracist documents\n",
        "We have a set of 73 documents that have been classified into 2 basic categories. The Liquid Racism category and the Pura Antiracist Category. The documents are in Greek Language.\n",
        "For the detection of texts, specific key-words were used, such as **«μετανάστης», «πρόσφυγας», «ρατσισμός», «αντι-ρατσισμός»** and their derivatives.\n",
        "For our analysis we use the Spacy library, Sklearn.\n",
        "Our basic steps in order to export some insights are the following:\n",
        "1. Data Preparation(cleaning texts, remove stopwords, lemmatize)\n",
        "2. Create Wordclouds for the whole corpus of texts and for each category seperately, in order to see some basic info regarding the vocabulary.\n",
        "3. Create a similarity heatmap\n",
        "4. Run a classification problem using sklearn library(tf-idf, classification algorithm using train and test)"
      ],
      "metadata": {
        "id": "norijF4DurGh"
      }
    },
    {
      "cell_type": "markdown",
      "source": [
        "### Download packages and Install libraries"
      ],
      "metadata": {
        "id": "nXdY_hLcxS03"
      }
    },
    {
      "cell_type": "code",
      "execution_count": null,
      "metadata": {
        "id": "TO6ubR_OumA5"
      },
      "outputs": [],
      "source": [
        "!pip install xlrd\n",
        "!spacy download el_core_news_lg"
      ]
    },
    {
      "cell_type": "code",
      "source": [
        "import pandas as pd\n",
        "import matplotlib.pyplot as plt\n",
        "from wordcloud import WordCloud\n",
        "import seaborn as sns\n",
        "import re\n",
        "import numpy as np\n",
        "import spacy\n",
        "import sklearn\n",
        "import statistics\n",
        "from sklearn.feature_extraction.text import TfidfVectorizer, CountVectorizer\n",
        "from sklearn.metrics.pairwise import cosine_similarity\n",
        "import gensim\n",
        "from sklearn import preprocessing"
      ],
      "metadata": {
        "id": "L-MtL_K8xgKU"
      },
      "execution_count": 2,
      "outputs": []
    },
    {
      "cell_type": "markdown",
      "source": [
        "### Read the file and export some basic descriptives"
      ],
      "metadata": {
        "id": "72qDyLpOxnRX"
      }
    },
    {
      "cell_type": "code",
      "source": [
        "df = pd.read_excel('Source_Data.xlsx')\n",
        "\n",
        "df1 = pd.DataFrame(df)"
      ],
      "metadata": {
        "id": "1O8rBlNtx3TB"
      },
      "execution_count": 29,
      "outputs": []
    },
    {
      "cell_type": "code",
      "source": [
        "query1 = df1.groupby(\"Source\")[\"id\"].count()\n",
        "print(query1)\n",
        "query1.plot.bar(x=\"query2\", y=\"\")"
      ],
      "metadata": {
        "id": "l4t7ytYWyrfv"
      },
      "execution_count": null,
      "outputs": []
    },
    {
      "cell_type": "code",
      "source": [
        "query2 = df1.groupby(\"Liquid_Racism\")[\"id\"].count()\n",
        "print(query2)\n",
        "query2.plot.bar(x=\"query2\", y=\"\")"
      ],
      "metadata": {
        "id": "i0t3JkvkT6FT"
      },
      "execution_count": null,
      "outputs": []
    },
    {
      "cell_type": "code",
      "source": [
        "query3 = df1.groupby(\"Category\")[\"id\"].count()\n",
        "print(query3)\n",
        "query3.plot.bar(x=\"query3\", y=\"\")"
      ],
      "metadata": {
        "id": "PNMkfuPAySF1"
      },
      "execution_count": null,
      "outputs": []
    },
    {
      "cell_type": "code",
      "source": [
        "query4 = df1.groupby(\"Public_Sector\")[\"id\"].count()\n",
        "print(query4)\n",
        "query4.plot.bar(x=\"query4\", y=\"\")"
      ],
      "metadata": {
        "id": "5VyUJUo3zXjk"
      },
      "execution_count": null,
      "outputs": []
    },
    {
      "cell_type": "markdown",
      "source": [
        "## Text cleaning and transforming using Spacy"
      ],
      "metadata": {
        "id": "Zq4dkuAYYtd0"
      }
    },
    {
      "cell_type": "code",
      "source": [
        "nlp = spacy.load(\"el_core_news_lg\")"
      ],
      "metadata": {
        "id": "iAjUTXYWVtLq"
      },
      "execution_count": 8,
      "outputs": []
    },
    {
      "cell_type": "code",
      "source": [
        "def preprocessor(text):\n",
        "  #text = re.sub('<[^>]*>', '', text)\n",
        "  #text = re.sub('[\\W]+', '', text.lower())\n",
        "  text = re.sub(r'προσφυγ.*|πρόσφυγ.*|προσφύγ.*', 'προσφυγ', text)\n",
        "  text = re.sub(r'μεταν.*', 'μεταναστ', text)\n",
        "  text = re.sub(r'ρατσισ.*', 'ρατσισ', text)\n",
        "  return text"
      ],
      "metadata": {
        "id": "OgA6ymIG7Hwh"
      },
      "execution_count": 9,
      "outputs": []
    },
    {
      "cell_type": "code",
      "source": [
        "# Stop words\n",
        "# Link to greek stop words: https://www.translatum.gr/forum/index.php?topic=3550.0?topic=3550.0\n",
        "STOP_WORDS = set(\n",
        "    \"\"\"\n",
        "αδιάκοπα αι ακόμα ακόμη ακριβώς άλλα αλλά αλλαχού άλλες άλλη άλλην\n",
        "άλλης αλλιώς αλλιώτικα άλλο άλλοι αλλοιώς αλλοιώτικα άλλον άλλος άλλοτε αλλού\n",
        "άλλους άλλων άμα άμεσα αμέσως αν ανά ανάμεσα αναμεταξύ άνευ αντί αντίπερα αντίς\n",
        "άνω ανωτέρω άξαφνα απ απέναντι από απόψε άρα άραγε αρκετά αρκετές\n",
        "αρχικά ας αύριο αυτά αυτές αυτή αυτήν αυτής αυτό αυτοί αυτόν αυτός αυτού αυτούς\n",
        "αυτών αφότου αφού\n",
        "βέβαια βεβαιότατα βρίσκω\n",
        "γι για γιατί γρήγορα γύρω\n",
        "δα δε δείνα δεν δεξιά δήθεν δηλαδή δι δια διαρκώς δικά δικό δικοί δικός δικού\n",
        "δικούς διόλου δίπλα δίχως\n",
        "εάν εαυτό εαυτόν εαυτού εαυτούς εαυτών έγκαιρα εγκαίρως εγώ εδώ ειδεμή είθε είμαι\n",
        "είμαστε είναι εις είσαι είσαστε είστε είτε είχα είχαμε είχαν είχατε είχε είχες έκαστα\n",
        "έκαστες έκαστη έκαστην έκαστης έκαστο έκαστοι έκαστον έκαστος εκάστου εκάστους εκάστων\n",
        "εκεί εκείνα εκείνες εκείνη εκείνην εκείνης εκείνο εκείνοι εκείνον εκείνος εκείνου\n",
        "εκείνους εκείνων εκτός εμάς εμείς εμένα εμπρός εν ένα έναν ένας ενός εντελώς εντός\n",
        "εναντίον  εξής  εξαιτίας  επιπλέον επόμενη εντωμεταξύ ενώ εξ έξαφνα εξήσ εξίσου έξω επάνω\n",
        "επειδή έπειτα επί επίσης επομένως εσάς εσείς εσένα έστω εσύ ετέρα ετέραι ετέρας έτερες\n",
        "έτερη έτερης έτερο έτεροι έτερον έτερος ετέρου έτερους ετέρων ετούτα ετούτες ετούτη ετούτην\n",
        "ετούτης ετούτο ετούτοι ετούτον ετούτος ετούτου ετούτους ετούτων έτσι εύγε ευθύς ευτυχώς εφεξής\n",
        "έχει έχεις έχετε έχομε έχουμε έχουν εχτές έχω έως έγιναν  έγινε  έκανε  έξι  έχοντας\n",
        "η ή ήδη ήμασταν ήμαστε ήμουν ήσασταν ήσαστε ήσουν ήταν ήτανε ήτοι ήττον\n",
        "θα\n",
        "ι ιδία ίδια ίδιαν ιδίας ίδιες ίδιο ίδιοι ίδιον ίδιοσ ίδιος ιδίου ίδιους ίδιων ιδίως ιι ιιι\n",
        "ίσαμε ίσια ίσως\n",
        "κ κάθε καθεμία καθεμίας καθένα καθένας καθενός καθετί καθόλου καθώς και κακά κακώς καλά\n",
        "καλώς καμία καμίαν καμίας κάμποσα κάμποσες κάμποση κάμποσην κάμποσης κάμποσο κάμποσοι\n",
        "κάμποσον κάμποσος κάμποσου κάμποσους κάμποσων κανείς κάνεν κανένα κανέναν κανένας\n",
        "κανενός κάνω κάποια κάποιαν κάποιας κάποιες κάποιο κάποιοι κάποιον κάποιος κάποιου κάποιους\n",
        "κάποιων κάποτε κάπου κάπως κατ κατά κάτι κατιτί κατόπιν κάτω κιόλας κλπ κοντά κτλ κυρίως\n",
        "λιγάκι λίγο λιγότερο λόγω λοιπά λοιπόν\n",
        "μα μαζί μακάρι μακρυά μάλιστα μάλλον μας με μεθαύριο μείον μέλει μέλλεται μεμιάς μεν\n",
        "μερικά μερικές μερικοί μερικούς μερικών μέσα μετ μετά μεταναστ μεταξύ μέχρι μη μήδε μην μήπως\n",
        "μήτε μια μιαν μιας μόλις μολονότι μονάχα μόνες μόνη μόνην μόνης μόνο μόνοι μονομιάς\n",
        "μόνος μόνου μόνους μόνων μου μπορεί μπορούν μπρος μέσω  μία  μεσώ\n",
        "να ναι νωρίς\n",
        "ξανά ξαφνικά ο αυτός μου\n",
        "ο οι όλα όλες όλη όλην όλης όλο ολόγυρα όλοι όλον ολονέν όλος ολότελα όλου όλους όλων\n",
        "όλως ολωσδιόλου όμως όποια οποιαδήποτε οποίαν οποιανδήποτε οποίας οποίος οποιασδήποτε οποιδήποτε\n",
        "όποιες οποιεσδήποτε όποιο οποιοδηήποτε όποιοι όποιον οποιονδήποτε όποιος οποιοσδήποτε\n",
        "οποίου οποιουδήποτε οποίους οποιουσδήποτε οποίων οποιωνδήποτε όποτε οποτεδήποτε όπου\n",
        "οπουδήποτε όπως ορισμένα ορισμένες ορισμένων ορισμένως όσα οσαδήποτε όσες οσεσδήποτε\n",
        "όση οσηδήποτε όσην οσηνδήποτε όσης οσησδήποτε όσο οσοδήποτε όσοι οσοιδήποτε όσον οσονδήποτε\n",
        "όσος οσοσδήποτε όσου οσουδήποτε όσους οσουσδήποτε όσων οσωνδήποτε όταν ότι οτιδήποτε\n",
        "ότου ου ουδέ ούτε όχι οποία  οποίες  οποίο  οποίοι  οπότε  ος\n",
        "πάνω  παρά  περί  πολλά  πολλές  πολλοί  πολλούς  που  πρώτα  πρώτες  πρώτη  πρώτο  πρώτος  πως\n",
        "πάλι πάντα πάντοτε παντού πάντως πάρα πέρα πέρι περίπου περισσότερο πέρσι πέρυσι πια πιθανόν\n",
        "πιο πίσω πλάι πλέον πλην ποιά ποιάν ποιάς ποιές ποιό ποιοί ποιόν ποιός ποιού ποιούς\n",
        "ποιών πολύ πόσες πόση πόσην πόσης πόσοι πόσος πόσους πότε ποτέ πού πούθε πουθενά πρέπει\n",
        "πριν προ προκειμένου πρόκειται πρόπερσι προς προσφυγ προτού προχθές προχτές πρωτύτερα πώς ρατσισ\n",
        "σαν σας σε σεις σου στα στη στην στης στις στο στον στου στους στων συγχρόνως\n",
        "συν συνάμα συνεπώς συχνάς συχνές συχνή συχνήν συχνής συχνό συχνοί συχνόν\n",
        "συχνός συχνού συχνούς συχνών συχνώς σχεδόν\n",
        "τα τάδε ταύτα ταύτες ταύτη ταύτην ταύτης ταύτοταύτον ταύτος ταύτου ταύτων τάχα τάχατε\n",
        "τελευταία  τελευταίο  τελευταίος  τού  τρία  τρίτη  τρεις τελικά τελικώς τες τέτοια τέτοιαν\n",
        "τέτοιας τέτοιες τέτοιο τέτοιοι τέτοιον τέτοιος τέτοιου\n",
        "τέτοιους τέτοιων τη την της τι τίποτα τίποτε τις το τοι τον τοσ τόσα τόσες τόση τόσην\n",
        "τόσης τόσο τόσοι τόσον τόσος τόσου τόσους τόσων τότε του τουλάχιστο τουλάχιστον τους τούς τούτα\n",
        "τούτες τούτη τούτην τούτης τούτο τούτοι τούτοις τούτον τούτος τούτου τούτους τούτων τυχόν\n",
        "των τώρα\n",
        "υπ υπέρ υπό υπόψη υπόψιν ύστερα\n",
        "χωρίς χωριστά σε\n",
        "ω ως ωσάν ωσότου ώσπου ώστε ωστόσο ωχ\n",
        "\"\"\".split()\n",
        ")"
      ],
      "metadata": {
        "id": "UjYhoXhBYIv-"
      },
      "execution_count": 10,
      "outputs": []
    },
    {
      "cell_type": "code",
      "source": [
        "# removing special characters and numbers\n",
        "df1['Text'] = df1['Text'].str.lower()\n",
        "remove_spec_char_numb = lambda x: re.sub(r'(http\\S+)|rt|(@[A-Za-z0-9]+)|(\\w+:\\/\\/\\S+)|([()\\-\"#/;:<>{}`+=~|.!?_,])', '', str(x))\n",
        "df1['Text'] = df1['Text'].apply(remove_spec_char_numb)\n",
        "df1['Text2'] = df1['Text'].apply(lambda x : \" \".join(word for word in x.split() if word not in STOP_WORDS))\n",
        "df1['lemmatized'] = df1['Text2'].apply(lambda x: \" \".join([preprocessor(y.lemma_) for y in nlp(x) if not preprocessor(y.lemma_) in STOP_WORDS]))"
      ],
      "metadata": {
        "id": "iBal6sXxcLfe"
      },
      "execution_count": 11,
      "outputs": []
    },
    {
      "cell_type": "markdown",
      "source": [
        "### Create a wordcloud for the entire dataframe"
      ],
      "metadata": {
        "id": "LzEEhTZ_Y2Pb"
      }
    },
    {
      "cell_type": "code",
      "source": [
        "allwords = ' '.join( [twts for twts in df1['lemmatized']] )\n",
        "wordcloud = WordCloud(width=800, height=500, random_state=21, max_font_size=119).generate(allwords)\n",
        "# create a dictionary of word frequencies\n",
        "text_dictionary = wordcloud.process_text(allwords)\n",
        "# sort the dictionary\n",
        "word_freq={k: v for k, v in sorted(text_dictionary.items(),reverse=True, key=lambda item: item[1])}\n",
        "print(list(word_freq.items())[:10])\n",
        "plt.imshow(wordcloud, interpolation = \"bilinear\")\n",
        "plt.axis('off')\n",
        "plt.show()"
      ],
      "metadata": {
        "id": "Do0VU2vRY72l"
      },
      "execution_count": null,
      "outputs": []
    },
    {
      "cell_type": "markdown",
      "source": [
        "### Wordcloud for the Liquid Racism Texts"
      ],
      "metadata": {
        "id": "IexlAbj0kySK"
      }
    },
    {
      "cell_type": "code",
      "source": [
        "Liquid_Racism_Texts = df1[df1['Liquid_Racism']=='ΝΑΙ']\n",
        "allwords_LR = ' '.join( [x for x in Liquid_Racism_Texts['lemmatized']] )\n",
        "wordcloud = WordCloud(width=800, height=500, random_state=21, max_font_size=119).generate(allwords_LR)\n",
        "text_dictionary = wordcloud.process_text(allwords_LR)\n",
        "# sort the dictionary\n",
        "word_freq={k: v for k, v in sorted(text_dictionary.items(),reverse=True, key=lambda item: item[1])}\n",
        "\n",
        "#use words_ to print relative word frequencies\n",
        "rel_freq=wordcloud.words_\n",
        "\n",
        "#print results\n",
        "print(list(word_freq.items())[:20])\n",
        "plt.imshow(wordcloud, interpolation = \"bilinear\")\n",
        "plt.axis('off')\n",
        "plt.show()"
      ],
      "metadata": {
        "id": "0qjEebu0k3_x"
      },
      "execution_count": null,
      "outputs": []
    },
    {
      "cell_type": "markdown",
      "source": [
        "### Wordcloud for the Pure Antiracist Texts"
      ],
      "metadata": {
        "id": "y8mhoFtulC35"
      }
    },
    {
      "cell_type": "code",
      "source": [
        "Pure_Antiracism_Texts = df1[df1['Liquid_Racism']=='ΟΧΙ']\n",
        "allwords_PA = ' '.join( [x for x in Pure_Antiracism_Texts['lemmatized']] )\n",
        "wordcloud = WordCloud(width=800, height=500, random_state=21, max_font_size=119).generate(allwords_PA)\n",
        "# create a dictionary of word frequencies\n",
        "text_dictionary = wordcloud.process_text(allwords_PA)\n",
        "# sort the dictionary\n",
        "word_freq={k: v for k, v in sorted(text_dictionary.items(),reverse=True, key=lambda item: item[1])}\n",
        "\n",
        "#use words_ to print relative word frequencies\n",
        "rel_freq=wordcloud.words_\n",
        "\n",
        "#print results\n",
        "print(list(word_freq.items())[:10])\n",
        "plt.imshow(wordcloud, interpolation = \"bilinear\")\n",
        "plt.axis('off')\n",
        "plt.show()"
      ],
      "metadata": {
        "id": "8UPr3VlglFTY"
      },
      "execution_count": null,
      "outputs": []
    },
    {
      "cell_type": "markdown",
      "source": [
        "### TF-IDF Transformation"
      ],
      "metadata": {
        "id": "UZQTZuPBZjSp"
      }
    },
    {
      "cell_type": "code",
      "source": [
        "#from sklearn.feature_extraction.text import TfidfVectorizer\n",
        "v = TfidfVectorizer()\n",
        "x = v.fit_transform(Liquid_Racism_Texts['lemmatized']).toarray()"
      ],
      "metadata": {
        "id": "vmDWlWwDZkWF"
      },
      "execution_count": 15,
      "outputs": []
    },
    {
      "cell_type": "code",
      "source": [
        "# create a list with all the tfidf weights\n",
        "weights = np.asarray(x.mean(axis=0)).ravel().tolist()\n",
        "words_list = [word for line in Liquid_Racism_Texts['lemmatized'] for word in line.split()]\n",
        "# apply the tfidf value to the corresponding term\n",
        "weights_df = pd.DataFrame({'term': v.get_feature_names_out(), 'weight': weights})\n",
        "# Sort the top 20 keywords\n",
        "weights_df.sort_values(by='weight', ascending=False).head(20)"
      ],
      "metadata": {
        "colab": {
          "base_uri": "https://localhost:8080/",
          "height": 676
        },
        "id": "9dNFy6GvZ9cU",
        "outputId": "adc53ace-e914-44a6-cc1e-75b5f238af23"
      },
      "execution_count": 16,
      "outputs": [
        {
          "output_type": "execute_result",
          "data": {
            "text/plain": [
              "              term    weight\n",
              "604         ασύλου  0.043438\n",
              "851     διαδικασία  0.037960\n",
              "1289    ευρωπαϊκός  0.036995\n",
              "946           δομή  0.035828\n",
              "2811          χώρα  0.034827\n",
              "1084        ελλάδα  0.032345\n",
              "202          άσυλο  0.031988\n",
              "1779          νέος  0.029285\n",
              "2187     προστασία  0.027852\n",
              "1004            εε  0.024240\n",
              "1822         νόμος  0.023334\n",
              "466   αντιμετωπίζω  0.022608\n",
              "926     δικαιούμαι  0.022293\n",
              "2524        σύνορο  0.021901\n",
              "1292        ευρώπη  0.021522\n",
              "1944         παιδί  0.020883\n",
              "2094      πολιτική  0.020409\n",
              "1530        κοινός  0.019883\n",
              "2706     φιλοξενία  0.019673\n",
              "2591       τουρκία  0.019021"
            ],
            "text/html": [
              "\n",
              "  <div id=\"df-2828b03f-36bc-4d19-88e9-c32089520694\" class=\"colab-df-container\">\n",
              "    <div>\n",
              "<style scoped>\n",
              "    .dataframe tbody tr th:only-of-type {\n",
              "        vertical-align: middle;\n",
              "    }\n",
              "\n",
              "    .dataframe tbody tr th {\n",
              "        vertical-align: top;\n",
              "    }\n",
              "\n",
              "    .dataframe thead th {\n",
              "        text-align: right;\n",
              "    }\n",
              "</style>\n",
              "<table border=\"1\" class=\"dataframe\">\n",
              "  <thead>\n",
              "    <tr style=\"text-align: right;\">\n",
              "      <th></th>\n",
              "      <th>term</th>\n",
              "      <th>weight</th>\n",
              "    </tr>\n",
              "  </thead>\n",
              "  <tbody>\n",
              "    <tr>\n",
              "      <th>604</th>\n",
              "      <td>ασύλου</td>\n",
              "      <td>0.043438</td>\n",
              "    </tr>\n",
              "    <tr>\n",
              "      <th>851</th>\n",
              "      <td>διαδικασία</td>\n",
              "      <td>0.037960</td>\n",
              "    </tr>\n",
              "    <tr>\n",
              "      <th>1289</th>\n",
              "      <td>ευρωπαϊκός</td>\n",
              "      <td>0.036995</td>\n",
              "    </tr>\n",
              "    <tr>\n",
              "      <th>946</th>\n",
              "      <td>δομή</td>\n",
              "      <td>0.035828</td>\n",
              "    </tr>\n",
              "    <tr>\n",
              "      <th>2811</th>\n",
              "      <td>χώρα</td>\n",
              "      <td>0.034827</td>\n",
              "    </tr>\n",
              "    <tr>\n",
              "      <th>1084</th>\n",
              "      <td>ελλάδα</td>\n",
              "      <td>0.032345</td>\n",
              "    </tr>\n",
              "    <tr>\n",
              "      <th>202</th>\n",
              "      <td>άσυλο</td>\n",
              "      <td>0.031988</td>\n",
              "    </tr>\n",
              "    <tr>\n",
              "      <th>1779</th>\n",
              "      <td>νέος</td>\n",
              "      <td>0.029285</td>\n",
              "    </tr>\n",
              "    <tr>\n",
              "      <th>2187</th>\n",
              "      <td>προστασία</td>\n",
              "      <td>0.027852</td>\n",
              "    </tr>\n",
              "    <tr>\n",
              "      <th>1004</th>\n",
              "      <td>εε</td>\n",
              "      <td>0.024240</td>\n",
              "    </tr>\n",
              "    <tr>\n",
              "      <th>1822</th>\n",
              "      <td>νόμος</td>\n",
              "      <td>0.023334</td>\n",
              "    </tr>\n",
              "    <tr>\n",
              "      <th>466</th>\n",
              "      <td>αντιμετωπίζω</td>\n",
              "      <td>0.022608</td>\n",
              "    </tr>\n",
              "    <tr>\n",
              "      <th>926</th>\n",
              "      <td>δικαιούμαι</td>\n",
              "      <td>0.022293</td>\n",
              "    </tr>\n",
              "    <tr>\n",
              "      <th>2524</th>\n",
              "      <td>σύνορο</td>\n",
              "      <td>0.021901</td>\n",
              "    </tr>\n",
              "    <tr>\n",
              "      <th>1292</th>\n",
              "      <td>ευρώπη</td>\n",
              "      <td>0.021522</td>\n",
              "    </tr>\n",
              "    <tr>\n",
              "      <th>1944</th>\n",
              "      <td>παιδί</td>\n",
              "      <td>0.020883</td>\n",
              "    </tr>\n",
              "    <tr>\n",
              "      <th>2094</th>\n",
              "      <td>πολιτική</td>\n",
              "      <td>0.020409</td>\n",
              "    </tr>\n",
              "    <tr>\n",
              "      <th>1530</th>\n",
              "      <td>κοινός</td>\n",
              "      <td>0.019883</td>\n",
              "    </tr>\n",
              "    <tr>\n",
              "      <th>2706</th>\n",
              "      <td>φιλοξενία</td>\n",
              "      <td>0.019673</td>\n",
              "    </tr>\n",
              "    <tr>\n",
              "      <th>2591</th>\n",
              "      <td>τουρκία</td>\n",
              "      <td>0.019021</td>\n",
              "    </tr>\n",
              "  </tbody>\n",
              "</table>\n",
              "</div>\n",
              "    <div class=\"colab-df-buttons\">\n",
              "\n",
              "  <div class=\"colab-df-container\">\n",
              "    <button class=\"colab-df-convert\" onclick=\"convertToInteractive('df-2828b03f-36bc-4d19-88e9-c32089520694')\"\n",
              "            title=\"Convert this dataframe to an interactive table.\"\n",
              "            style=\"display:none;\">\n",
              "\n",
              "  <svg xmlns=\"http://www.w3.org/2000/svg\" height=\"24px\" viewBox=\"0 -960 960 960\">\n",
              "    <path d=\"M120-120v-720h720v720H120Zm60-500h600v-160H180v160Zm220 220h160v-160H400v160Zm0 220h160v-160H400v160ZM180-400h160v-160H180v160Zm440 0h160v-160H620v160ZM180-180h160v-160H180v160Zm440 0h160v-160H620v160Z\"/>\n",
              "  </svg>\n",
              "    </button>\n",
              "\n",
              "  <style>\n",
              "    .colab-df-container {\n",
              "      display:flex;\n",
              "      gap: 12px;\n",
              "    }\n",
              "\n",
              "    .colab-df-convert {\n",
              "      background-color: #E8F0FE;\n",
              "      border: none;\n",
              "      border-radius: 50%;\n",
              "      cursor: pointer;\n",
              "      display: none;\n",
              "      fill: #1967D2;\n",
              "      height: 32px;\n",
              "      padding: 0 0 0 0;\n",
              "      width: 32px;\n",
              "    }\n",
              "\n",
              "    .colab-df-convert:hover {\n",
              "      background-color: #E2EBFA;\n",
              "      box-shadow: 0px 1px 2px rgba(60, 64, 67, 0.3), 0px 1px 3px 1px rgba(60, 64, 67, 0.15);\n",
              "      fill: #174EA6;\n",
              "    }\n",
              "\n",
              "    .colab-df-buttons div {\n",
              "      margin-bottom: 4px;\n",
              "    }\n",
              "\n",
              "    [theme=dark] .colab-df-convert {\n",
              "      background-color: #3B4455;\n",
              "      fill: #D2E3FC;\n",
              "    }\n",
              "\n",
              "    [theme=dark] .colab-df-convert:hover {\n",
              "      background-color: #434B5C;\n",
              "      box-shadow: 0px 1px 3px 1px rgba(0, 0, 0, 0.15);\n",
              "      filter: drop-shadow(0px 1px 2px rgba(0, 0, 0, 0.3));\n",
              "      fill: #FFFFFF;\n",
              "    }\n",
              "  </style>\n",
              "\n",
              "    <script>\n",
              "      const buttonEl =\n",
              "        document.querySelector('#df-2828b03f-36bc-4d19-88e9-c32089520694 button.colab-df-convert');\n",
              "      buttonEl.style.display =\n",
              "        google.colab.kernel.accessAllowed ? 'block' : 'none';\n",
              "\n",
              "      async function convertToInteractive(key) {\n",
              "        const element = document.querySelector('#df-2828b03f-36bc-4d19-88e9-c32089520694');\n",
              "        const dataTable =\n",
              "          await google.colab.kernel.invokeFunction('convertToInteractive',\n",
              "                                                    [key], {});\n",
              "        if (!dataTable) return;\n",
              "\n",
              "        const docLinkHtml = 'Like what you see? Visit the ' +\n",
              "          '<a target=\"_blank\" href=https://colab.research.google.com/notebooks/data_table.ipynb>data table notebook</a>'\n",
              "          + ' to learn more about interactive tables.';\n",
              "        element.innerHTML = '';\n",
              "        dataTable['output_type'] = 'display_data';\n",
              "        await google.colab.output.renderOutput(dataTable, element);\n",
              "        const docLink = document.createElement('div');\n",
              "        docLink.innerHTML = docLinkHtml;\n",
              "        element.appendChild(docLink);\n",
              "      }\n",
              "    </script>\n",
              "  </div>\n",
              "\n",
              "\n",
              "<div id=\"df-4c490155-2d39-4acf-be20-689a4c13fd61\">\n",
              "  <button class=\"colab-df-quickchart\" onclick=\"quickchart('df-4c490155-2d39-4acf-be20-689a4c13fd61')\"\n",
              "            title=\"Suggest charts\"\n",
              "            style=\"display:none;\">\n",
              "\n",
              "<svg xmlns=\"http://www.w3.org/2000/svg\" height=\"24px\"viewBox=\"0 0 24 24\"\n",
              "     width=\"24px\">\n",
              "    <g>\n",
              "        <path d=\"M19 3H5c-1.1 0-2 .9-2 2v14c0 1.1.9 2 2 2h14c1.1 0 2-.9 2-2V5c0-1.1-.9-2-2-2zM9 17H7v-7h2v7zm4 0h-2V7h2v10zm4 0h-2v-4h2v4z\"/>\n",
              "    </g>\n",
              "</svg>\n",
              "  </button>\n",
              "\n",
              "<style>\n",
              "  .colab-df-quickchart {\n",
              "      --bg-color: #E8F0FE;\n",
              "      --fill-color: #1967D2;\n",
              "      --hover-bg-color: #E2EBFA;\n",
              "      --hover-fill-color: #174EA6;\n",
              "      --disabled-fill-color: #AAA;\n",
              "      --disabled-bg-color: #DDD;\n",
              "  }\n",
              "\n",
              "  [theme=dark] .colab-df-quickchart {\n",
              "      --bg-color: #3B4455;\n",
              "      --fill-color: #D2E3FC;\n",
              "      --hover-bg-color: #434B5C;\n",
              "      --hover-fill-color: #FFFFFF;\n",
              "      --disabled-bg-color: #3B4455;\n",
              "      --disabled-fill-color: #666;\n",
              "  }\n",
              "\n",
              "  .colab-df-quickchart {\n",
              "    background-color: var(--bg-color);\n",
              "    border: none;\n",
              "    border-radius: 50%;\n",
              "    cursor: pointer;\n",
              "    display: none;\n",
              "    fill: var(--fill-color);\n",
              "    height: 32px;\n",
              "    padding: 0;\n",
              "    width: 32px;\n",
              "  }\n",
              "\n",
              "  .colab-df-quickchart:hover {\n",
              "    background-color: var(--hover-bg-color);\n",
              "    box-shadow: 0 1px 2px rgba(60, 64, 67, 0.3), 0 1px 3px 1px rgba(60, 64, 67, 0.15);\n",
              "    fill: var(--button-hover-fill-color);\n",
              "  }\n",
              "\n",
              "  .colab-df-quickchart-complete:disabled,\n",
              "  .colab-df-quickchart-complete:disabled:hover {\n",
              "    background-color: var(--disabled-bg-color);\n",
              "    fill: var(--disabled-fill-color);\n",
              "    box-shadow: none;\n",
              "  }\n",
              "\n",
              "  .colab-df-spinner {\n",
              "    border: 2px solid var(--fill-color);\n",
              "    border-color: transparent;\n",
              "    border-bottom-color: var(--fill-color);\n",
              "    animation:\n",
              "      spin 1s steps(1) infinite;\n",
              "  }\n",
              "\n",
              "  @keyframes spin {\n",
              "    0% {\n",
              "      border-color: transparent;\n",
              "      border-bottom-color: var(--fill-color);\n",
              "      border-left-color: var(--fill-color);\n",
              "    }\n",
              "    20% {\n",
              "      border-color: transparent;\n",
              "      border-left-color: var(--fill-color);\n",
              "      border-top-color: var(--fill-color);\n",
              "    }\n",
              "    30% {\n",
              "      border-color: transparent;\n",
              "      border-left-color: var(--fill-color);\n",
              "      border-top-color: var(--fill-color);\n",
              "      border-right-color: var(--fill-color);\n",
              "    }\n",
              "    40% {\n",
              "      border-color: transparent;\n",
              "      border-right-color: var(--fill-color);\n",
              "      border-top-color: var(--fill-color);\n",
              "    }\n",
              "    60% {\n",
              "      border-color: transparent;\n",
              "      border-right-color: var(--fill-color);\n",
              "    }\n",
              "    80% {\n",
              "      border-color: transparent;\n",
              "      border-right-color: var(--fill-color);\n",
              "      border-bottom-color: var(--fill-color);\n",
              "    }\n",
              "    90% {\n",
              "      border-color: transparent;\n",
              "      border-bottom-color: var(--fill-color);\n",
              "    }\n",
              "  }\n",
              "</style>\n",
              "\n",
              "  <script>\n",
              "    async function quickchart(key) {\n",
              "      const quickchartButtonEl =\n",
              "        document.querySelector('#' + key + ' button');\n",
              "      quickchartButtonEl.disabled = true;  // To prevent multiple clicks.\n",
              "      quickchartButtonEl.classList.add('colab-df-spinner');\n",
              "      try {\n",
              "        const charts = await google.colab.kernel.invokeFunction(\n",
              "            'suggestCharts', [key], {});\n",
              "      } catch (error) {\n",
              "        console.error('Error during call to suggestCharts:', error);\n",
              "      }\n",
              "      quickchartButtonEl.classList.remove('colab-df-spinner');\n",
              "      quickchartButtonEl.classList.add('colab-df-quickchart-complete');\n",
              "    }\n",
              "    (() => {\n",
              "      let quickchartButtonEl =\n",
              "        document.querySelector('#df-4c490155-2d39-4acf-be20-689a4c13fd61 button');\n",
              "      quickchartButtonEl.style.display =\n",
              "        google.colab.kernel.accessAllowed ? 'block' : 'none';\n",
              "    })();\n",
              "  </script>\n",
              "</div>\n",
              "    </div>\n",
              "  </div>\n"
            ],
            "application/vnd.google.colaboratory.intrinsic+json": {
              "type": "dataframe",
              "summary": "{\n  \"name\": \"weights_df\",\n  \"rows\": 20,\n  \"fields\": [\n    {\n      \"column\": \"term\",\n      \"properties\": {\n        \"dtype\": \"string\",\n        \"samples\": [\n          \"\\u03b1\\u03c3\\u03cd\\u03bb\\u03bf\\u03c5\",\n          \"\\u03ba\\u03bf\\u03b9\\u03bd\\u03cc\\u03c2\",\n          \"\\u03c0\\u03b1\\u03b9\\u03b4\\u03af\"\n        ],\n        \"num_unique_values\": 20,\n        \"semantic_type\": \"\",\n        \"description\": \"\"\n      }\n    },\n    {\n      \"column\": \"weight\",\n      \"properties\": {\n        \"dtype\": \"number\",\n        \"std\": 0.007448828511726542,\n        \"min\": 0.01902103836324781,\n        \"max\": 0.043437949519060916,\n        \"samples\": [\n          0.043437949519060916,\n          0.019883238482420643,\n          0.020883037714908754\n        ],\n        \"num_unique_values\": 20,\n        \"semantic_type\": \"\",\n        \"description\": \"\"\n      }\n    }\n  ]\n}"
            }
          },
          "metadata": {},
          "execution_count": 16
        }
      ]
    },
    {
      "cell_type": "code",
      "source": [
        "# create a list with all the tfidf weights\n",
        "z = v.fit_transform(Pure_Antiracism_Texts['lemmatized']).toarray()\n",
        "weights_z = np.asarray(z.mean(axis=0)).ravel().tolist()\n",
        "words_list_z = [word for line in Pure_Antiracism_Texts['lemmatized'] for word in line.split()]\n",
        "# apply the tfidf value to the corresponding term\n",
        "weights_df1 = pd.DataFrame({'term': v.get_feature_names_out(), 'weight': weights_z})\n",
        "# Sort the top 20 keywords\n",
        "weights_df1.sort_values(by='weight', ascending=False).head(20)"
      ],
      "metadata": {
        "colab": {
          "base_uri": "https://localhost:8080/",
          "height": 676
        },
        "id": "yNrWjRhEa9lG",
        "outputId": "bdf66120-475d-486e-e122-3c043677ed34"
      },
      "execution_count": 17,
      "outputs": [
        {
          "output_type": "execute_result",
          "data": {
            "text/plain": [
              "             term    weight\n",
              "391         παιδί  0.063511\n",
              "285      κοινωνία  0.045464\n",
              "102         βοηθώ  0.043634\n",
              "272     κατανοήσω  0.042318\n",
              "151  διαφορετικός  0.040951\n",
              "76           αξία  0.038246\n",
              "61     αναγνωρίζω  0.037193\n",
              "441  πρωθυπουργός  0.034666\n",
              "170           δύο  0.034320\n",
              "339    μητσοτάκης  0.033873\n",
              "492       σχετίζω  0.032437\n",
              "355            νδ  0.031838\n",
              "89         αρχίζω  0.031670\n",
              "490         σχέση  0.031048\n",
              "225     εφημερίδα  0.030696\n",
              "149       διαφορά  0.029351\n",
              "423      πολιτική  0.027968\n",
              "156      διερευνώ  0.027827\n",
              "454        σήμερα  0.027138\n",
              "516        υπάρχω  0.027081"
            ],
            "text/html": [
              "\n",
              "  <div id=\"df-88fa145f-ec70-471e-940b-a3f66e448185\" class=\"colab-df-container\">\n",
              "    <div>\n",
              "<style scoped>\n",
              "    .dataframe tbody tr th:only-of-type {\n",
              "        vertical-align: middle;\n",
              "    }\n",
              "\n",
              "    .dataframe tbody tr th {\n",
              "        vertical-align: top;\n",
              "    }\n",
              "\n",
              "    .dataframe thead th {\n",
              "        text-align: right;\n",
              "    }\n",
              "</style>\n",
              "<table border=\"1\" class=\"dataframe\">\n",
              "  <thead>\n",
              "    <tr style=\"text-align: right;\">\n",
              "      <th></th>\n",
              "      <th>term</th>\n",
              "      <th>weight</th>\n",
              "    </tr>\n",
              "  </thead>\n",
              "  <tbody>\n",
              "    <tr>\n",
              "      <th>391</th>\n",
              "      <td>παιδί</td>\n",
              "      <td>0.063511</td>\n",
              "    </tr>\n",
              "    <tr>\n",
              "      <th>285</th>\n",
              "      <td>κοινωνία</td>\n",
              "      <td>0.045464</td>\n",
              "    </tr>\n",
              "    <tr>\n",
              "      <th>102</th>\n",
              "      <td>βοηθώ</td>\n",
              "      <td>0.043634</td>\n",
              "    </tr>\n",
              "    <tr>\n",
              "      <th>272</th>\n",
              "      <td>κατανοήσω</td>\n",
              "      <td>0.042318</td>\n",
              "    </tr>\n",
              "    <tr>\n",
              "      <th>151</th>\n",
              "      <td>διαφορετικός</td>\n",
              "      <td>0.040951</td>\n",
              "    </tr>\n",
              "    <tr>\n",
              "      <th>76</th>\n",
              "      <td>αξία</td>\n",
              "      <td>0.038246</td>\n",
              "    </tr>\n",
              "    <tr>\n",
              "      <th>61</th>\n",
              "      <td>αναγνωρίζω</td>\n",
              "      <td>0.037193</td>\n",
              "    </tr>\n",
              "    <tr>\n",
              "      <th>441</th>\n",
              "      <td>πρωθυπουργός</td>\n",
              "      <td>0.034666</td>\n",
              "    </tr>\n",
              "    <tr>\n",
              "      <th>170</th>\n",
              "      <td>δύο</td>\n",
              "      <td>0.034320</td>\n",
              "    </tr>\n",
              "    <tr>\n",
              "      <th>339</th>\n",
              "      <td>μητσοτάκης</td>\n",
              "      <td>0.033873</td>\n",
              "    </tr>\n",
              "    <tr>\n",
              "      <th>492</th>\n",
              "      <td>σχετίζω</td>\n",
              "      <td>0.032437</td>\n",
              "    </tr>\n",
              "    <tr>\n",
              "      <th>355</th>\n",
              "      <td>νδ</td>\n",
              "      <td>0.031838</td>\n",
              "    </tr>\n",
              "    <tr>\n",
              "      <th>89</th>\n",
              "      <td>αρχίζω</td>\n",
              "      <td>0.031670</td>\n",
              "    </tr>\n",
              "    <tr>\n",
              "      <th>490</th>\n",
              "      <td>σχέση</td>\n",
              "      <td>0.031048</td>\n",
              "    </tr>\n",
              "    <tr>\n",
              "      <th>225</th>\n",
              "      <td>εφημερίδα</td>\n",
              "      <td>0.030696</td>\n",
              "    </tr>\n",
              "    <tr>\n",
              "      <th>149</th>\n",
              "      <td>διαφορά</td>\n",
              "      <td>0.029351</td>\n",
              "    </tr>\n",
              "    <tr>\n",
              "      <th>423</th>\n",
              "      <td>πολιτική</td>\n",
              "      <td>0.027968</td>\n",
              "    </tr>\n",
              "    <tr>\n",
              "      <th>156</th>\n",
              "      <td>διερευνώ</td>\n",
              "      <td>0.027827</td>\n",
              "    </tr>\n",
              "    <tr>\n",
              "      <th>454</th>\n",
              "      <td>σήμερα</td>\n",
              "      <td>0.027138</td>\n",
              "    </tr>\n",
              "    <tr>\n",
              "      <th>516</th>\n",
              "      <td>υπάρχω</td>\n",
              "      <td>0.027081</td>\n",
              "    </tr>\n",
              "  </tbody>\n",
              "</table>\n",
              "</div>\n",
              "    <div class=\"colab-df-buttons\">\n",
              "\n",
              "  <div class=\"colab-df-container\">\n",
              "    <button class=\"colab-df-convert\" onclick=\"convertToInteractive('df-88fa145f-ec70-471e-940b-a3f66e448185')\"\n",
              "            title=\"Convert this dataframe to an interactive table.\"\n",
              "            style=\"display:none;\">\n",
              "\n",
              "  <svg xmlns=\"http://www.w3.org/2000/svg\" height=\"24px\" viewBox=\"0 -960 960 960\">\n",
              "    <path d=\"M120-120v-720h720v720H120Zm60-500h600v-160H180v160Zm220 220h160v-160H400v160Zm0 220h160v-160H400v160ZM180-400h160v-160H180v160Zm440 0h160v-160H620v160ZM180-180h160v-160H180v160Zm440 0h160v-160H620v160Z\"/>\n",
              "  </svg>\n",
              "    </button>\n",
              "\n",
              "  <style>\n",
              "    .colab-df-container {\n",
              "      display:flex;\n",
              "      gap: 12px;\n",
              "    }\n",
              "\n",
              "    .colab-df-convert {\n",
              "      background-color: #E8F0FE;\n",
              "      border: none;\n",
              "      border-radius: 50%;\n",
              "      cursor: pointer;\n",
              "      display: none;\n",
              "      fill: #1967D2;\n",
              "      height: 32px;\n",
              "      padding: 0 0 0 0;\n",
              "      width: 32px;\n",
              "    }\n",
              "\n",
              "    .colab-df-convert:hover {\n",
              "      background-color: #E2EBFA;\n",
              "      box-shadow: 0px 1px 2px rgba(60, 64, 67, 0.3), 0px 1px 3px 1px rgba(60, 64, 67, 0.15);\n",
              "      fill: #174EA6;\n",
              "    }\n",
              "\n",
              "    .colab-df-buttons div {\n",
              "      margin-bottom: 4px;\n",
              "    }\n",
              "\n",
              "    [theme=dark] .colab-df-convert {\n",
              "      background-color: #3B4455;\n",
              "      fill: #D2E3FC;\n",
              "    }\n",
              "\n",
              "    [theme=dark] .colab-df-convert:hover {\n",
              "      background-color: #434B5C;\n",
              "      box-shadow: 0px 1px 3px 1px rgba(0, 0, 0, 0.15);\n",
              "      filter: drop-shadow(0px 1px 2px rgba(0, 0, 0, 0.3));\n",
              "      fill: #FFFFFF;\n",
              "    }\n",
              "  </style>\n",
              "\n",
              "    <script>\n",
              "      const buttonEl =\n",
              "        document.querySelector('#df-88fa145f-ec70-471e-940b-a3f66e448185 button.colab-df-convert');\n",
              "      buttonEl.style.display =\n",
              "        google.colab.kernel.accessAllowed ? 'block' : 'none';\n",
              "\n",
              "      async function convertToInteractive(key) {\n",
              "        const element = document.querySelector('#df-88fa145f-ec70-471e-940b-a3f66e448185');\n",
              "        const dataTable =\n",
              "          await google.colab.kernel.invokeFunction('convertToInteractive',\n",
              "                                                    [key], {});\n",
              "        if (!dataTable) return;\n",
              "\n",
              "        const docLinkHtml = 'Like what you see? Visit the ' +\n",
              "          '<a target=\"_blank\" href=https://colab.research.google.com/notebooks/data_table.ipynb>data table notebook</a>'\n",
              "          + ' to learn more about interactive tables.';\n",
              "        element.innerHTML = '';\n",
              "        dataTable['output_type'] = 'display_data';\n",
              "        await google.colab.output.renderOutput(dataTable, element);\n",
              "        const docLink = document.createElement('div');\n",
              "        docLink.innerHTML = docLinkHtml;\n",
              "        element.appendChild(docLink);\n",
              "      }\n",
              "    </script>\n",
              "  </div>\n",
              "\n",
              "\n",
              "<div id=\"df-6d40a187-f2fd-4fb4-8be6-593dc4909e44\">\n",
              "  <button class=\"colab-df-quickchart\" onclick=\"quickchart('df-6d40a187-f2fd-4fb4-8be6-593dc4909e44')\"\n",
              "            title=\"Suggest charts\"\n",
              "            style=\"display:none;\">\n",
              "\n",
              "<svg xmlns=\"http://www.w3.org/2000/svg\" height=\"24px\"viewBox=\"0 0 24 24\"\n",
              "     width=\"24px\">\n",
              "    <g>\n",
              "        <path d=\"M19 3H5c-1.1 0-2 .9-2 2v14c0 1.1.9 2 2 2h14c1.1 0 2-.9 2-2V5c0-1.1-.9-2-2-2zM9 17H7v-7h2v7zm4 0h-2V7h2v10zm4 0h-2v-4h2v4z\"/>\n",
              "    </g>\n",
              "</svg>\n",
              "  </button>\n",
              "\n",
              "<style>\n",
              "  .colab-df-quickchart {\n",
              "      --bg-color: #E8F0FE;\n",
              "      --fill-color: #1967D2;\n",
              "      --hover-bg-color: #E2EBFA;\n",
              "      --hover-fill-color: #174EA6;\n",
              "      --disabled-fill-color: #AAA;\n",
              "      --disabled-bg-color: #DDD;\n",
              "  }\n",
              "\n",
              "  [theme=dark] .colab-df-quickchart {\n",
              "      --bg-color: #3B4455;\n",
              "      --fill-color: #D2E3FC;\n",
              "      --hover-bg-color: #434B5C;\n",
              "      --hover-fill-color: #FFFFFF;\n",
              "      --disabled-bg-color: #3B4455;\n",
              "      --disabled-fill-color: #666;\n",
              "  }\n",
              "\n",
              "  .colab-df-quickchart {\n",
              "    background-color: var(--bg-color);\n",
              "    border: none;\n",
              "    border-radius: 50%;\n",
              "    cursor: pointer;\n",
              "    display: none;\n",
              "    fill: var(--fill-color);\n",
              "    height: 32px;\n",
              "    padding: 0;\n",
              "    width: 32px;\n",
              "  }\n",
              "\n",
              "  .colab-df-quickchart:hover {\n",
              "    background-color: var(--hover-bg-color);\n",
              "    box-shadow: 0 1px 2px rgba(60, 64, 67, 0.3), 0 1px 3px 1px rgba(60, 64, 67, 0.15);\n",
              "    fill: var(--button-hover-fill-color);\n",
              "  }\n",
              "\n",
              "  .colab-df-quickchart-complete:disabled,\n",
              "  .colab-df-quickchart-complete:disabled:hover {\n",
              "    background-color: var(--disabled-bg-color);\n",
              "    fill: var(--disabled-fill-color);\n",
              "    box-shadow: none;\n",
              "  }\n",
              "\n",
              "  .colab-df-spinner {\n",
              "    border: 2px solid var(--fill-color);\n",
              "    border-color: transparent;\n",
              "    border-bottom-color: var(--fill-color);\n",
              "    animation:\n",
              "      spin 1s steps(1) infinite;\n",
              "  }\n",
              "\n",
              "  @keyframes spin {\n",
              "    0% {\n",
              "      border-color: transparent;\n",
              "      border-bottom-color: var(--fill-color);\n",
              "      border-left-color: var(--fill-color);\n",
              "    }\n",
              "    20% {\n",
              "      border-color: transparent;\n",
              "      border-left-color: var(--fill-color);\n",
              "      border-top-color: var(--fill-color);\n",
              "    }\n",
              "    30% {\n",
              "      border-color: transparent;\n",
              "      border-left-color: var(--fill-color);\n",
              "      border-top-color: var(--fill-color);\n",
              "      border-right-color: var(--fill-color);\n",
              "    }\n",
              "    40% {\n",
              "      border-color: transparent;\n",
              "      border-right-color: var(--fill-color);\n",
              "      border-top-color: var(--fill-color);\n",
              "    }\n",
              "    60% {\n",
              "      border-color: transparent;\n",
              "      border-right-color: var(--fill-color);\n",
              "    }\n",
              "    80% {\n",
              "      border-color: transparent;\n",
              "      border-right-color: var(--fill-color);\n",
              "      border-bottom-color: var(--fill-color);\n",
              "    }\n",
              "    90% {\n",
              "      border-color: transparent;\n",
              "      border-bottom-color: var(--fill-color);\n",
              "    }\n",
              "  }\n",
              "</style>\n",
              "\n",
              "  <script>\n",
              "    async function quickchart(key) {\n",
              "      const quickchartButtonEl =\n",
              "        document.querySelector('#' + key + ' button');\n",
              "      quickchartButtonEl.disabled = true;  // To prevent multiple clicks.\n",
              "      quickchartButtonEl.classList.add('colab-df-spinner');\n",
              "      try {\n",
              "        const charts = await google.colab.kernel.invokeFunction(\n",
              "            'suggestCharts', [key], {});\n",
              "      } catch (error) {\n",
              "        console.error('Error during call to suggestCharts:', error);\n",
              "      }\n",
              "      quickchartButtonEl.classList.remove('colab-df-spinner');\n",
              "      quickchartButtonEl.classList.add('colab-df-quickchart-complete');\n",
              "    }\n",
              "    (() => {\n",
              "      let quickchartButtonEl =\n",
              "        document.querySelector('#df-6d40a187-f2fd-4fb4-8be6-593dc4909e44 button');\n",
              "      quickchartButtonEl.style.display =\n",
              "        google.colab.kernel.accessAllowed ? 'block' : 'none';\n",
              "    })();\n",
              "  </script>\n",
              "</div>\n",
              "    </div>\n",
              "  </div>\n"
            ],
            "application/vnd.google.colaboratory.intrinsic+json": {
              "type": "dataframe",
              "summary": "{\n  \"name\": \"weights_df1\",\n  \"rows\": 20,\n  \"fields\": [\n    {\n      \"column\": \"term\",\n      \"properties\": {\n        \"dtype\": \"string\",\n        \"samples\": [\n          \"\\u03c0\\u03b1\\u03b9\\u03b4\\u03af\",\n          \"\\u03b4\\u03b9\\u03b5\\u03c1\\u03b5\\u03c5\\u03bd\\u03ce\",\n          \"\\u03b4\\u03b9\\u03b1\\u03c6\\u03bf\\u03c1\\u03ac\"\n        ],\n        \"num_unique_values\": 20,\n        \"semantic_type\": \"\",\n        \"description\": \"\"\n      }\n    },\n    {\n      \"column\": \"weight\",\n      \"properties\": {\n        \"dtype\": \"number\",\n        \"std\": 0.008632642504312206,\n        \"min\": 0.027080506074431254,\n        \"max\": 0.0635113469000843,\n        \"samples\": [\n          0.0635113469000843,\n          0.027826663328472733,\n          0.029350764180848376\n        ],\n        \"num_unique_values\": 20,\n        \"semantic_type\": \"\",\n        \"description\": \"\"\n      }\n    }\n  ]\n}"
            }
          },
          "metadata": {},
          "execution_count": 17
        }
      ]
    },
    {
      "cell_type": "markdown",
      "source": [
        "## 2-grams based on tf-idf score"
      ],
      "metadata": {
        "id": "-kgtpXcft9bD"
      }
    },
    {
      "cell_type": "code",
      "source": [
        "vectorizer1 = CountVectorizer(ngram_range = (2,2))\n",
        "vectorizer2 = CountVectorizer(ngram_range = (2,2))\n",
        "X1 = vectorizer1.fit_transform(Liquid_Racism_Texts['lemmatized'])\n",
        "X2 = vectorizer2.fit_transform(Pure_Antiracism_Texts['lemmatized'])\n",
        "features1 = (vectorizer1.get_feature_names_out())\n",
        "features2 = (vectorizer2.get_feature_names_out())"
      ],
      "metadata": {
        "id": "dypBhgqdPZvK"
      },
      "execution_count": 18,
      "outputs": []
    },
    {
      "cell_type": "code",
      "source": [
        "# Applying TFIDF\n",
        "vectorizer1 = TfidfVectorizer(ngram_range = (2,2))\n",
        "vectorizer2 = TfidfVectorizer(ngram_range = (2,2))\n",
        "X1 = vectorizer1.fit_transform(Liquid_Racism_Texts['lemmatized'])\n",
        "X2 = vectorizer2.fit_transform(Pure_Antiracism_Texts['lemmatized'])\n",
        "#scores = (X1.toarray())\n",
        "#print(\"\\n\\nScores : \\n\", scores)"
      ],
      "metadata": {
        "id": "u7f7khgWuKTL"
      },
      "execution_count": 19,
      "outputs": []
    },
    {
      "cell_type": "code",
      "source": [
        "means_X1 = X1.mean(axis = 0)\n",
        "means_X2 = X2.mean(axis = 0)\n",
        "data1 = []\n",
        "data2 =[]\n",
        "for col, term in enumerate(features1):\n",
        "  data1.append( (term, means_X1[0,col] ))\n",
        "ranking1 = pd.DataFrame(data1, columns = ['term','rank'])\n",
        "words1 = (ranking1.sort_values('rank', ascending = False))\n",
        "print (\"\\n\\nWords1 head : \\n\", words1.head(20))\n",
        "for col, term in enumerate(features2):\n",
        "  data2.append( (term, means_X2[0,col] ))\n",
        "ranking2 = pd.DataFrame(data2, columns = ['term','rank'])\n",
        "words2 = (ranking2.sort_values('rank', ascending = False))\n",
        "print (\"\\n\\nWords2 head : \\n\", words2.head(20))"
      ],
      "metadata": {
        "colab": {
          "base_uri": "https://localhost:8080/"
        },
        "id": "vtKqaY0cuMLw",
        "outputId": "c9393311-c7f5-4d54-df3a-56b95ced3edf"
      },
      "execution_count": 20,
      "outputs": [
        {
          "output_type": "stream",
          "name": "stdout",
          "text": [
            "\n",
            "\n",
            "Words1 head : \n",
            "                        term      rank\n",
            "1888         δομή φιλοξενία  0.014074\n",
            "1777      διεθνής προστασία  0.011367\n",
            "192                covid 19  0.010817\n",
            "5783        χορήγηση ασύλου  0.010461\n",
            "1663      διαδικασία ασύλου  0.010357\n",
            "1816       δικαιούμαι άσυλο  0.010341\n",
            "1677    διαδικασία χορήγηση  0.010236\n",
            "2576    ευρωπαϊκός πολιτική  0.010026\n",
            "5576        υπουργός ασύλου  0.009854\n",
            "2582        ευρωπαϊκός χώρα  0.009770\n",
            "3079      κοινός ευρωπαϊκός  0.009634\n",
            "5567       υπουργείο ασύλου  0.009453\n",
            "575         αιτούντων άσυλο  0.009282\n",
            "5553    υποδοχή ταυτοποίηση  0.008583\n",
            "966     αποσυμφόρηση νησιών  0.008424\n",
            "1667     διαδικασία εξέταση  0.008171\n",
            "5202           σχέδιο νόμος  0.008140\n",
            "1105   ασυνόδευτων ανηλίκων  0.008074\n",
            "2197    ελλάδα αντιμετωπίζω  0.008071\n",
            "2475  επιτάχυνση διαδικασία  0.007834\n",
            "\n",
            "\n",
            "Words2 head : \n",
            "                        term      rank\n",
            "596      σήμερα αντιμέτωπος  0.021537\n",
            "364         κοινωνία σήμερα  0.021537\n",
            "571              πρεσπών νδ  0.021537\n",
            "239      ελληνικός κοινωνία  0.021537\n",
            "441      μητσοτάκης πότισαν  0.021537\n",
            "625        συμφωνία πρεσπών  0.021537\n",
            "198      διχασμός ελληνικός  0.021537\n",
            "591           πότισαν μίσος  0.021537\n",
            "466           νδ μητσοτάκης  0.021537\n",
            "87   αντιμέτωπος αντιφάσεις  0.021537\n",
            "425          μίσος διχασμός  0.021537\n",
            "120      βάρκα πρωθυπουργός  0.018443\n",
            "659     τετραγωνίσει κύκλος  0.018443\n",
            "580   πρωθυπουργός ακολουθώ  0.018443\n",
            "529               πατάω δύο  0.018443\n",
            "581  πρωθυπουργός γεωργιάδη  0.018443\n",
            "391            κύκλος πατάω  0.018443\n",
            "272  ευρωπαϊκός φιλελεύθερη  0.018443\n",
            "60      ακολουθώ ευρωπαϊκός  0.018443\n",
            "129       βορίδη ακροδεξιάς  0.018443\n"
          ]
        }
      ]
    },
    {
      "cell_type": "markdown",
      "source": [
        "## Conclusion 1\n",
        "\n",
        "Based on word frequency as this is captured in the wordcloud and on the tf-idf measure which indicates the word importance we can mention the following points:\n",
        "\n",
        "\n",
        "\n",
        "*   Regarding the texts of liquid racism, we notice that words referring to the nation-state ('**χώρα**', '**Ελλάδα**') and words referring to a place of detention ('δομή') predominate.\n",
        "*   Regarding the purely anti-racist texts, we notice that words denoting care, collectivity and solidarity dominate ('**παιδί**','**κοινωνία**' '**φαγητό**', '**νερό**')\n",
        "\n",
        "\n",
        "\n"
      ],
      "metadata": {
        "id": "4raXtoP5E9EB"
      }
    },
    {
      "cell_type": "markdown",
      "source": [
        "## Similarity measurement"
      ],
      "metadata": {
        "id": "Jo9_iLHIr27I"
      }
    },
    {
      "cell_type": "markdown",
      "source": [
        "### We want to check the similarity between the liquid racism texts"
      ],
      "metadata": {
        "id": "fcijI-9quldZ"
      }
    },
    {
      "cell_type": "code",
      "source": [
        "array1 = df1[df1['Liquid_Racism']=='ΝΑΙ']['lemmatized'].values.tolist()\n",
        "docs1 = [nlp(arr) for arr in array1]"
      ],
      "metadata": {
        "id": "1PQ6EP0rr-iz"
      },
      "execution_count": 21,
      "outputs": []
    },
    {
      "cell_type": "code",
      "source": [
        "labels = df1[df1['Liquid_Racism']=='ΝΑΙ']['Text_Title']\n",
        "def create_heatmap(similarity, cmap = \"YlGnBu\"):\n",
        "  df2 = pd.DataFrame(similarity)\n",
        "  df2.columns = labels\n",
        "  df2.index = labels\n",
        "  fig, ax = plt.subplots(figsize=(5,5))\n",
        "  sns.heatmap(df2, cmap=cmap)"
      ],
      "metadata": {
        "id": "vlb6oUDhtRUR"
      },
      "execution_count": 22,
      "outputs": []
    },
    {
      "cell_type": "code",
      "source": [
        "similarity = []\n",
        "for i in range(len(docs1)):\n",
        "  row = []\n",
        "  for j in range(len(docs1)):\n",
        "    row.append(docs1[i].similarity(docs1[j]))\n",
        "  similarity.append(row)\n",
        "create_heatmap(similarity)"
      ],
      "metadata": {
        "id": "Hmwa-QMMs-gW"
      },
      "execution_count": null,
      "outputs": []
    },
    {
      "cell_type": "code",
      "source": [
        "print(statistics.mean(row))"
      ],
      "metadata": {
        "colab": {
          "base_uri": "https://localhost:8080/"
        },
        "id": "ssADLxxntoBI",
        "outputId": "5a5b0c9b-1e83-41cf-c1f0-d1f2a4362e39"
      },
      "execution_count": 24,
      "outputs": [
        {
          "output_type": "stream",
          "name": "stdout",
          "text": [
            "0.6402751595168293\n"
          ]
        }
      ]
    },
    {
      "cell_type": "markdown",
      "source": [
        "### We want to check the similarity between the text of Pure Antiracism"
      ],
      "metadata": {
        "id": "Y1pC9ArZvVOO"
      }
    },
    {
      "cell_type": "code",
      "source": [
        "array2 = df1[df1['Liquid_Racism']=='ΟΧΙ']['lemmatized'].values.tolist()\n",
        "docs2 = [nlp(arr) for arr in array2]"
      ],
      "metadata": {
        "id": "ZyWin6aKva_z"
      },
      "execution_count": 25,
      "outputs": []
    },
    {
      "cell_type": "code",
      "source": [
        "labels = df1[df1['Liquid_Racism']=='ΟΧΙ']['Text_Title']\n",
        "def create_heatmap(similarity, cmap = \"YlGnBu\"):\n",
        "  df2 = pd.DataFrame(similarity)\n",
        "  df2.columns = labels\n",
        "  df2.index = labels\n",
        "  fig, ax = plt.subplots(figsize=(5,5))\n",
        "  sns.heatmap(df2, cmap=cmap)"
      ],
      "metadata": {
        "id": "Mr1tCpUjviE3"
      },
      "execution_count": 26,
      "outputs": []
    },
    {
      "cell_type": "code",
      "source": [
        "similarity = []\n",
        "for i in range(len(docs2)):\n",
        "  row = []\n",
        "  for j in range(len(docs2)):\n",
        "    row.append(docs2[i].similarity(docs2[j]))\n",
        "  similarity.append(row)\n",
        "create_heatmap(similarity)"
      ],
      "metadata": {
        "id": "GpiCZXjrvoSl"
      },
      "execution_count": null,
      "outputs": []
    },
    {
      "cell_type": "code",
      "source": [
        "print(statistics.mean(row))"
      ],
      "metadata": {
        "colab": {
          "base_uri": "https://localhost:8080/"
        },
        "id": "qP8t11cvvwEg",
        "outputId": "4d0c8aee-20fc-4d53-893d-c56e1d5517b3"
      },
      "execution_count": 28,
      "outputs": [
        {
          "output_type": "stream",
          "name": "stdout",
          "text": [
            "0.6404504450625502\n"
          ]
        }
      ]
    }
  ]
}