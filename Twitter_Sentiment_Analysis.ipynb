{
 "cells": [
  {
   "cell_type": "markdown",
   "metadata": {},
   "source": [
    "# Text Mining Assignment - Giannis Thivaios"
   ]
  },
  {
   "cell_type": "code",
   "execution_count": 2,
   "metadata": {},
   "outputs": [],
   "source": [
    "import json\n",
    "import pandas as pd\n",
    "import matplotlib.pyplot as plt\n",
    "from wordcloud import WordCloud\n",
    "import seaborn as sns\n",
    "import re\n",
    "import numpy as np\n",
    "from sklearn.feature_extraction.text import CountVectorizer\n",
    "from sklearn.feature_extraction.text import TfidfVectorizer\n",
    "from sklearn import preprocessing"
   ]
  },
  {
   "cell_type": "markdown",
   "metadata": {},
   "source": [
    "## Read the dataset"
   ]
  },
  {
   "cell_type": "code",
   "execution_count": 3,
   "metadata": {},
   "outputs": [],
   "source": [
    "tweets = []\n",
    "for line in open('tweets_test.json', 'r'):\n",
    "    tweets.append(json.loads(line))"
   ]
  },
  {
   "cell_type": "code",
   "execution_count": 4,
   "metadata": {},
   "outputs": [],
   "source": [
    "# Store as a dataframe\n",
    "df = pd.DataFrame(tweets)"
   ]
  },
  {
   "cell_type": "code",
   "execution_count": 5,
   "metadata": {},
   "outputs": [
    {
     "data": {
      "text/html": [
       "<div>\n",
       "<style scoped>\n",
       "    .dataframe tbody tr th:only-of-type {\n",
       "        vertical-align: middle;\n",
       "    }\n",
       "\n",
       "    .dataframe tbody tr th {\n",
       "        vertical-align: top;\n",
       "    }\n",
       "\n",
       "    .dataframe thead th {\n",
       "        text-align: right;\n",
       "    }\n",
       "</style>\n",
       "<table border=\"1\" class=\"dataframe\">\n",
       "  <thead>\n",
       "    <tr style=\"text-align: right;\">\n",
       "      <th></th>\n",
       "      <th>channel</th>\n",
       "      <th>createdate</th>\n",
       "      <th>id</th>\n",
       "      <th>impact</th>\n",
       "      <th>query_name</th>\n",
       "      <th>sentiment</th>\n",
       "      <th>text</th>\n",
       "    </tr>\n",
       "  </thead>\n",
       "  <tbody>\n",
       "    <tr>\n",
       "      <th>0</th>\n",
       "      <td>twitter</td>\n",
       "      <td>2021-06-08 10:59:47.000</td>\n",
       "      <td>1402218796425924611</td>\n",
       "      <td>0.20</td>\n",
       "      <td>Eurobank</td>\n",
       "      <td>negative</td>\n",
       "      <td>RT @re_aiiii: H eurobank έβγαλε διαφήμιση ότι ...</td>\n",
       "    </tr>\n",
       "    <tr>\n",
       "      <th>1</th>\n",
       "      <td>twitter</td>\n",
       "      <td>2021-09-25 09:02:10.000</td>\n",
       "      <td>1441689475105624067</td>\n",
       "      <td>0.10</td>\n",
       "      <td>Piraeus Bank</td>\n",
       "      <td>neutral</td>\n",
       "      <td>RT @GTrapeziotis: Κανονικά ο Βαξεβάνης θα πρέπ...</td>\n",
       "    </tr>\n",
       "    <tr>\n",
       "      <th>2</th>\n",
       "      <td>twitter</td>\n",
       "      <td>2021-07-16 09:46:11.000</td>\n",
       "      <td>1415971011229634565</td>\n",
       "      <td>0.07</td>\n",
       "      <td>Piraeus Bank</td>\n",
       "      <td>negative</td>\n",
       "      <td>ΔΕΛΤΙΟ ΤΥΠΟΥ Συνάντηση μελών της ΚΟ του ΜέΡΑ25...</td>\n",
       "    </tr>\n",
       "    <tr>\n",
       "      <th>3</th>\n",
       "      <td>twitter</td>\n",
       "      <td>2021-09-07 10:31:30.000</td>\n",
       "      <td>1435188973878579202</td>\n",
       "      <td>0.30</td>\n",
       "      <td>Alpha Bank</td>\n",
       "      <td>neutral</td>\n",
       "      <td>Στις τράπεζες, οριακή άνοδο καταγράφουν Πειραι...</td>\n",
       "    </tr>\n",
       "    <tr>\n",
       "      <th>4</th>\n",
       "      <td>twitter</td>\n",
       "      <td>2021-07-06 20:28:47.000</td>\n",
       "      <td>1412508851467960320</td>\n",
       "      <td>0.13</td>\n",
       "      <td>Ethniki Trapeza</td>\n",
       "      <td>negative</td>\n",
       "      <td>RT @spigaro: Πρόεδρος στην Εθνική Τράπεζα ο Γκ...</td>\n",
       "    </tr>\n",
       "  </tbody>\n",
       "</table>\n",
       "</div>"
      ],
      "text/plain": [
       "   channel               createdate                   id  impact  \\\n",
       "0  twitter  2021-06-08 10:59:47.000  1402218796425924611    0.20   \n",
       "1  twitter  2021-09-25 09:02:10.000  1441689475105624067    0.10   \n",
       "2  twitter  2021-07-16 09:46:11.000  1415971011229634565    0.07   \n",
       "3  twitter  2021-09-07 10:31:30.000  1435188973878579202    0.30   \n",
       "4  twitter  2021-07-06 20:28:47.000  1412508851467960320    0.13   \n",
       "\n",
       "        query_name sentiment  \\\n",
       "0         Eurobank  negative   \n",
       "1     Piraeus Bank   neutral   \n",
       "2     Piraeus Bank  negative   \n",
       "3       Alpha Bank   neutral   \n",
       "4  Ethniki Trapeza  negative   \n",
       "\n",
       "                                                text  \n",
       "0  RT @re_aiiii: H eurobank έβγαλε διαφήμιση ότι ...  \n",
       "1  RT @GTrapeziotis: Κανονικά ο Βαξεβάνης θα πρέπ...  \n",
       "2  ΔΕΛΤΙΟ ΤΥΠΟΥ Συνάντηση μελών της ΚΟ του ΜέΡΑ25...  \n",
       "3  Στις τράπεζες, οριακή άνοδο καταγράφουν Πειραι...  \n",
       "4  RT @spigaro: Πρόεδρος στην Εθνική Τράπεζα ο Γκ...  "
      ]
     },
     "execution_count": 5,
     "metadata": {},
     "output_type": "execute_result"
    }
   ],
   "source": [
    "df.head()"
   ]
  },
  {
   "cell_type": "markdown",
   "metadata": {},
   "source": [
    "## Extract some descriptives"
   ]
  },
  {
   "cell_type": "markdown",
   "metadata": {},
   "source": [
    "*With the following command we print a summary of the table about the index type, column type, non-null values and memory usage*"
   ]
  },
  {
   "cell_type": "code",
   "execution_count": 6,
   "metadata": {},
   "outputs": [
    {
     "name": "stdout",
     "output_type": "stream",
     "text": [
      "<class 'pandas.core.frame.DataFrame'>\n",
      "RangeIndex: 5000 entries, 0 to 4999\n",
      "Data columns (total 7 columns):\n",
      "channel       5000 non-null object\n",
      "createdate    5000 non-null object\n",
      "id            5000 non-null int64\n",
      "impact        5000 non-null float64\n",
      "query_name    5000 non-null object\n",
      "sentiment     5000 non-null object\n",
      "text          5000 non-null object\n",
      "dtypes: float64(1), int64(1), object(5)\n",
      "memory usage: 273.5+ KB\n",
      "None\n"
     ]
    }
   ],
   "source": [
    "print(df.info())"
   ]
  },
  {
   "cell_type": "code",
   "execution_count": 108,
   "metadata": {},
   "outputs": [
    {
     "data": {
      "text/plain": [
       "'2021-06-02 06:01:28.000'"
      ]
     },
     "execution_count": 108,
     "metadata": {},
     "output_type": "execute_result"
    }
   ],
   "source": [
    "min(df[\"createdate\"])"
   ]
  },
  {
   "cell_type": "code",
   "execution_count": 109,
   "metadata": {},
   "outputs": [
    {
     "data": {
      "text/plain": [
       "'2021-10-31 23:33:57.000'"
      ]
     },
     "execution_count": 109,
     "metadata": {},
     "output_type": "execute_result"
    }
   ],
   "source": [
    "max(df[\"createdate\"])"
   ]
  },
  {
   "cell_type": "markdown",
   "metadata": {},
   "source": [
    " *We have 5 months of tweets*"
   ]
  },
  {
   "cell_type": "code",
   "execution_count": 110,
   "metadata": {},
   "outputs": [
    {
     "data": {
      "text/plain": [
       "array(['twitter'], dtype=object)"
      ]
     },
     "execution_count": 110,
     "metadata": {},
     "output_type": "execute_result"
    }
   ],
   "source": [
    "df.channel.unique()"
   ]
  },
  {
   "cell_type": "markdown",
   "metadata": {},
   "source": [
    "*Only from 'twitter' channel we have data*"
   ]
  },
  {
   "cell_type": "code",
   "execution_count": 111,
   "metadata": {},
   "outputs": [
    {
     "data": {
      "text/plain": [
       "array(['Eurobank', 'Piraeus Bank', 'Alpha Bank', 'Ethniki Trapeza'],\n",
       "      dtype=object)"
      ]
     },
     "execution_count": 111,
     "metadata": {},
     "output_type": "execute_result"
    }
   ],
   "source": [
    "df.query_name.unique()"
   ]
  },
  {
   "cell_type": "markdown",
   "metadata": {},
   "source": [
    "*4 banks in the queries*"
   ]
  },
  {
   "cell_type": "code",
   "execution_count": 113,
   "metadata": {},
   "outputs": [
    {
     "data": {
      "text/plain": [
       "sentiment\n",
       "negative    2533\n",
       "neutral     2425\n",
       "positive      42\n",
       "Name: id, dtype: int64"
      ]
     },
     "execution_count": 113,
     "metadata": {},
     "output_type": "execute_result"
    }
   ],
   "source": [
    "# Total count of tweets per sentiment\n",
    "df.groupby(\"sentiment\")[\"id\"].count()"
   ]
  },
  {
   "cell_type": "code",
   "execution_count": 114,
   "metadata": {},
   "outputs": [
    {
     "data": {
      "text/plain": [
       "query_name\n",
       "Eurobank            899\n",
       "Alpha Bank         1171\n",
       "Ethniki Trapeza    1400\n",
       "Piraeus Bank       1530\n",
       "Name: id, dtype: int64"
      ]
     },
     "execution_count": 114,
     "metadata": {},
     "output_type": "execute_result"
    }
   ],
   "source": [
    "# Total count of tweets per bank\n",
    "df.groupby(\"query_name\")[\"id\"].count().sort_values(ascending=True)"
   ]
  },
  {
   "cell_type": "code",
   "execution_count": 115,
   "metadata": {},
   "outputs": [
    {
     "data": {
      "text/html": [
       "<div>\n",
       "<style scoped>\n",
       "    .dataframe tbody tr th:only-of-type {\n",
       "        vertical-align: middle;\n",
       "    }\n",
       "\n",
       "    .dataframe tbody tr th {\n",
       "        vertical-align: top;\n",
       "    }\n",
       "\n",
       "    .dataframe thead th {\n",
       "        text-align: right;\n",
       "    }\n",
       "</style>\n",
       "<table border=\"1\" class=\"dataframe\">\n",
       "  <thead>\n",
       "    <tr style=\"text-align: right;\">\n",
       "      <th></th>\n",
       "      <th>channel</th>\n",
       "      <th>createdate</th>\n",
       "      <th>id</th>\n",
       "      <th>impact</th>\n",
       "      <th>query_name</th>\n",
       "      <th>sentiment</th>\n",
       "      <th>text</th>\n",
       "      <th>month</th>\n",
       "    </tr>\n",
       "  </thead>\n",
       "  <tbody>\n",
       "    <tr>\n",
       "      <th>0</th>\n",
       "      <td>twitter</td>\n",
       "      <td>2021-06-08 10:59:47.000</td>\n",
       "      <td>1402218796425924611</td>\n",
       "      <td>0.20</td>\n",
       "      <td>Eurobank</td>\n",
       "      <td>negative</td>\n",
       "      <td>RT @re_aiiii: H eurobank έβγαλε διαφήμιση ότι ...</td>\n",
       "      <td>6</td>\n",
       "    </tr>\n",
       "    <tr>\n",
       "      <th>1</th>\n",
       "      <td>twitter</td>\n",
       "      <td>2021-09-25 09:02:10.000</td>\n",
       "      <td>1441689475105624067</td>\n",
       "      <td>0.10</td>\n",
       "      <td>Piraeus Bank</td>\n",
       "      <td>neutral</td>\n",
       "      <td>RT @GTrapeziotis: Κανονικά ο Βαξεβάνης θα πρέπ...</td>\n",
       "      <td>9</td>\n",
       "    </tr>\n",
       "    <tr>\n",
       "      <th>2</th>\n",
       "      <td>twitter</td>\n",
       "      <td>2021-07-16 09:46:11.000</td>\n",
       "      <td>1415971011229634565</td>\n",
       "      <td>0.07</td>\n",
       "      <td>Piraeus Bank</td>\n",
       "      <td>negative</td>\n",
       "      <td>ΔΕΛΤΙΟ ΤΥΠΟΥ Συνάντηση μελών της ΚΟ του ΜέΡΑ25...</td>\n",
       "      <td>7</td>\n",
       "    </tr>\n",
       "    <tr>\n",
       "      <th>3</th>\n",
       "      <td>twitter</td>\n",
       "      <td>2021-09-07 10:31:30.000</td>\n",
       "      <td>1435188973878579202</td>\n",
       "      <td>0.30</td>\n",
       "      <td>Alpha Bank</td>\n",
       "      <td>neutral</td>\n",
       "      <td>Στις τράπεζες, οριακή άνοδο καταγράφουν Πειραι...</td>\n",
       "      <td>9</td>\n",
       "    </tr>\n",
       "    <tr>\n",
       "      <th>4</th>\n",
       "      <td>twitter</td>\n",
       "      <td>2021-07-06 20:28:47.000</td>\n",
       "      <td>1412508851467960320</td>\n",
       "      <td>0.13</td>\n",
       "      <td>Ethniki Trapeza</td>\n",
       "      <td>negative</td>\n",
       "      <td>RT @spigaro: Πρόεδρος στην Εθνική Τράπεζα ο Γκ...</td>\n",
       "      <td>7</td>\n",
       "    </tr>\n",
       "  </tbody>\n",
       "</table>\n",
       "</div>"
      ],
      "text/plain": [
       "   channel               createdate                   id  impact  \\\n",
       "0  twitter  2021-06-08 10:59:47.000  1402218796425924611    0.20   \n",
       "1  twitter  2021-09-25 09:02:10.000  1441689475105624067    0.10   \n",
       "2  twitter  2021-07-16 09:46:11.000  1415971011229634565    0.07   \n",
       "3  twitter  2021-09-07 10:31:30.000  1435188973878579202    0.30   \n",
       "4  twitter  2021-07-06 20:28:47.000  1412508851467960320    0.13   \n",
       "\n",
       "        query_name sentiment  \\\n",
       "0         Eurobank  negative   \n",
       "1     Piraeus Bank   neutral   \n",
       "2     Piraeus Bank  negative   \n",
       "3       Alpha Bank   neutral   \n",
       "4  Ethniki Trapeza  negative   \n",
       "\n",
       "                                                text  month  \n",
       "0  RT @re_aiiii: H eurobank έβγαλε διαφήμιση ότι ...      6  \n",
       "1  RT @GTrapeziotis: Κανονικά ο Βαξεβάνης θα πρέπ...      9  \n",
       "2  ΔΕΛΤΙΟ ΤΥΠΟΥ Συνάντηση μελών της ΚΟ του ΜέΡΑ25...      7  \n",
       "3  Στις τράπεζες, οριακή άνοδο καταγράφουν Πειραι...      9  \n",
       "4  RT @spigaro: Πρόεδρος στην Εθνική Τράπεζα ο Γκ...      7  "
      ]
     },
     "execution_count": 115,
     "metadata": {},
     "output_type": "execute_result"
    }
   ],
   "source": [
    "# df['month'] = df['createdate'].str.slice(0, 7)\n",
    "df['month'] = pd.DatetimeIndex(df['createdate']).month\n",
    "df.head()"
   ]
  },
  {
   "cell_type": "markdown",
   "metadata": {},
   "source": [
    "*We created an extra column named as 'month' based on createdate in order to answer the task questions*"
   ]
  },
  {
   "cell_type": "code",
   "execution_count": 116,
   "metadata": {},
   "outputs": [
    {
     "name": "stdout",
     "output_type": "stream",
     "text": [
      "month\n",
      "6     563\n",
      "7     969\n",
      "8     194\n",
      "9     558\n",
      "10    249\n",
      "Name: sentiment, dtype: int64\n"
     ]
    },
    {
     "data": {
      "text/plain": [
       "<matplotlib.axes._subplots.AxesSubplot at 0x1606fd4f400>"
      ]
     },
     "execution_count": 116,
     "metadata": {},
     "output_type": "execute_result"
    },
    {
     "data": {
      "image/png": "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\n",
      "text/plain": [
       "<Figure size 432x288 with 1 Axes>"
      ]
     },
     "metadata": {
      "needs_background": "light"
     },
     "output_type": "display_data"
    }
   ],
   "source": [
    "df1 = df[df[\"sentiment\"] == \"negative\"].groupby(\"month\")[\"sentiment\"].count()\n",
    "print(df1)\n",
    "df1.plot.bar(x=\"Month\", y=\"Sentiment\")"
   ]
  },
  {
   "cell_type": "markdown",
   "metadata": {},
   "source": [
    "**Month 7(July 21) has the biggest number of negative tweets**"
   ]
  },
  {
   "cell_type": "code",
   "execution_count": 121,
   "metadata": {},
   "outputs": [
    {
     "name": "stdout",
     "output_type": "stream",
     "text": [
      "query_name\n",
      "Alpha Bank          47\n",
      "Ethniki Trapeza    531\n",
      "Eurobank            70\n",
      "Piraeus Bank       321\n",
      "Name: sentiment, dtype: int64\n"
     ]
    },
    {
     "data": {
      "text/plain": [
       "<matplotlib.axes._subplots.AxesSubplot at 0x16070a068d0>"
      ]
     },
     "execution_count": 121,
     "metadata": {},
     "output_type": "execute_result"
    },
    {
     "data": {
      "image/png": "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\n",
      "text/plain": [
       "<Figure size 432x288 with 1 Axes>"
      ]
     },
     "metadata": {
      "needs_background": "light"
     },
     "output_type": "display_data"
    }
   ],
   "source": [
    "df2 = df[(df[\"month\"] == 7) & (df[\"sentiment\"] == \"negative\")].groupby(\"query_name\")[\"sentiment\"].count()\n",
    "print(df2)\n",
    "df2.plot.bar()"
   ]
  },
  {
   "cell_type": "markdown",
   "metadata": {},
   "source": [
    "**Ethniki trapeza has for July the most negative sentiment**"
   ]
  },
  {
   "cell_type": "code",
   "execution_count": 60,
   "metadata": {},
   "outputs": [],
   "source": [
    "# We select the columns that may could be correlated. The other columns are enumerated\n",
    "df3 = df[[\"impact\", \"query_name\", \"sentiment\"]]"
   ]
  },
  {
   "cell_type": "code",
   "execution_count": 61,
   "metadata": {},
   "outputs": [
    {
     "name": "stderr",
     "output_type": "stream",
     "text": [
      "C:\\Users\\uogss\\AppData\\Local\\Continuum\\anaconda3\\lib\\site-packages\\ipykernel_launcher.py:1: SettingWithCopyWarning: \n",
      "A value is trying to be set on a copy of a slice from a DataFrame.\n",
      "Try using .loc[row_indexer,col_indexer] = value instead\n",
      "\n",
      "See the caveats in the documentation: http://pandas.pydata.org/pandas-docs/stable/indexing.html#indexing-view-versus-copy\n",
      "  \"\"\"Entry point for launching an IPython kernel.\n",
      "C:\\Users\\uogss\\AppData\\Local\\Continuum\\anaconda3\\lib\\site-packages\\ipykernel_launcher.py:2: SettingWithCopyWarning: \n",
      "A value is trying to be set on a copy of a slice from a DataFrame.\n",
      "Try using .loc[row_indexer,col_indexer] = value instead\n",
      "\n",
      "See the caveats in the documentation: http://pandas.pydata.org/pandas-docs/stable/indexing.html#indexing-view-versus-copy\n",
      "  \n"
     ]
    },
    {
     "data": {
      "text/html": [
       "<div>\n",
       "<style scoped>\n",
       "    .dataframe tbody tr th:only-of-type {\n",
       "        vertical-align: middle;\n",
       "    }\n",
       "\n",
       "    .dataframe tbody tr th {\n",
       "        vertical-align: top;\n",
       "    }\n",
       "\n",
       "    .dataframe thead th {\n",
       "        text-align: right;\n",
       "    }\n",
       "</style>\n",
       "<table border=\"1\" class=\"dataframe\">\n",
       "  <thead>\n",
       "    <tr style=\"text-align: right;\">\n",
       "      <th></th>\n",
       "      <th>impact</th>\n",
       "      <th>query_name</th>\n",
       "      <th>sentiment</th>\n",
       "      <th>query_name_code</th>\n",
       "      <th>sentiment_code</th>\n",
       "    </tr>\n",
       "  </thead>\n",
       "  <tbody>\n",
       "    <tr>\n",
       "      <th>0</th>\n",
       "      <td>0.20</td>\n",
       "      <td>Eurobank</td>\n",
       "      <td>negative</td>\n",
       "      <td>1</td>\n",
       "      <td>1</td>\n",
       "    </tr>\n",
       "    <tr>\n",
       "      <th>1</th>\n",
       "      <td>0.10</td>\n",
       "      <td>Piraeus Bank</td>\n",
       "      <td>neutral</td>\n",
       "      <td>2</td>\n",
       "      <td>2</td>\n",
       "    </tr>\n",
       "    <tr>\n",
       "      <th>2</th>\n",
       "      <td>0.07</td>\n",
       "      <td>Piraeus Bank</td>\n",
       "      <td>negative</td>\n",
       "      <td>2</td>\n",
       "      <td>1</td>\n",
       "    </tr>\n",
       "    <tr>\n",
       "      <th>3</th>\n",
       "      <td>0.30</td>\n",
       "      <td>Alpha Bank</td>\n",
       "      <td>neutral</td>\n",
       "      <td>3</td>\n",
       "      <td>2</td>\n",
       "    </tr>\n",
       "    <tr>\n",
       "      <th>4</th>\n",
       "      <td>0.13</td>\n",
       "      <td>Ethniki Trapeza</td>\n",
       "      <td>negative</td>\n",
       "      <td>4</td>\n",
       "      <td>1</td>\n",
       "    </tr>\n",
       "  </tbody>\n",
       "</table>\n",
       "</div>"
      ],
      "text/plain": [
       "   impact       query_name sentiment  query_name_code  sentiment_code\n",
       "0    0.20         Eurobank  negative                1               1\n",
       "1    0.10     Piraeus Bank   neutral                2               2\n",
       "2    0.07     Piraeus Bank  negative                2               1\n",
       "3    0.30       Alpha Bank   neutral                3               2\n",
       "4    0.13  Ethniki Trapeza  negative                4               1"
      ]
     },
     "execution_count": 61,
     "metadata": {},
     "output_type": "execute_result"
    }
   ],
   "source": [
    "df3['query_name_code'] = pd.factorize(df['query_name'])[0] + 1\n",
    "df3['sentiment_code'] = pd.factorize(df['sentiment'])[0] + 1\n",
    "df3.head()"
   ]
  },
  {
   "cell_type": "markdown",
   "metadata": {},
   "source": [
    "*Above i converted the categorical columns to numerical in order to apply the correlation method*"
   ]
  },
  {
   "cell_type": "code",
   "execution_count": 62,
   "metadata": {},
   "outputs": [
    {
     "data": {
      "text/html": [
       "<div>\n",
       "<style scoped>\n",
       "    .dataframe tbody tr th:only-of-type {\n",
       "        vertical-align: middle;\n",
       "    }\n",
       "\n",
       "    .dataframe tbody tr th {\n",
       "        vertical-align: top;\n",
       "    }\n",
       "\n",
       "    .dataframe thead th {\n",
       "        text-align: right;\n",
       "    }\n",
       "</style>\n",
       "<table border=\"1\" class=\"dataframe\">\n",
       "  <thead>\n",
       "    <tr style=\"text-align: right;\">\n",
       "      <th></th>\n",
       "      <th>impact</th>\n",
       "      <th>query_name_code</th>\n",
       "      <th>sentiment_code</th>\n",
       "    </tr>\n",
       "  </thead>\n",
       "  <tbody>\n",
       "    <tr>\n",
       "      <th>impact</th>\n",
       "      <td>1.000000</td>\n",
       "      <td>-0.080782</td>\n",
       "      <td>0.324342</td>\n",
       "    </tr>\n",
       "    <tr>\n",
       "      <th>query_name_code</th>\n",
       "      <td>-0.080782</td>\n",
       "      <td>1.000000</td>\n",
       "      <td>-0.075441</td>\n",
       "    </tr>\n",
       "    <tr>\n",
       "      <th>sentiment_code</th>\n",
       "      <td>0.324342</td>\n",
       "      <td>-0.075441</td>\n",
       "      <td>1.000000</td>\n",
       "    </tr>\n",
       "  </tbody>\n",
       "</table>\n",
       "</div>"
      ],
      "text/plain": [
       "                   impact  query_name_code  sentiment_code\n",
       "impact           1.000000        -0.080782        0.324342\n",
       "query_name_code -0.080782         1.000000       -0.075441\n",
       "sentiment_code   0.324342        -0.075441        1.000000"
      ]
     },
     "execution_count": 62,
     "metadata": {},
     "output_type": "execute_result"
    }
   ],
   "source": [
    "df3.corr()"
   ]
  },
  {
   "cell_type": "markdown",
   "metadata": {},
   "source": [
    "*Does not seem that we have correlations betwwen different columns*"
   ]
  },
  {
   "cell_type": "code",
   "execution_count": 128,
   "metadata": {},
   "outputs": [
    {
     "data": {
      "text/plain": [
       "Text(0.5, 1.0, 'Correlation Heatmap')"
      ]
     },
     "execution_count": 128,
     "metadata": {},
     "output_type": "execute_result"
    },
    {
     "data": {
      "image/png": "iVBORw0KGgoAAAANSUhEUgAAAm8AAAFACAYAAADqJJv2AAAABHNCSVQICAgIfAhkiAAAAAlwSFlzAAALEgAACxIB0t1+/AAAADl0RVh0U29mdHdhcmUAbWF0cGxvdGxpYiB2ZXJzaW9uIDMuMC4zLCBodHRwOi8vbWF0cGxvdGxpYi5vcmcvnQurowAAIABJREFUeJzt3XecVOXZ//HPdxcRBIJ0oqjoE0xiAVRsURQ1GDAqxoKoMZKfj0QjPtFYEYMI9hJ9JZooMQZjw45gUFGk2JAmRSwRFRWVBYMFNKDA9fvjHNZhWbbg7g6H+b55zYs559znLrOzs9dc9ymKCMzMzMwsG4ry3QEzMzMzqzoHb2ZmZmYZ4uDNzMzMLEMcvJmZmZlliIM3MzMzswxx8GZmZmaWIQ7ezCwTJM2X9NMN3LerpDdruk9mZvng4M3MqkTSiZKmSVom6WNJT0jaP9/9Ko+kkPSDNcsR8VxE/LAW2mmftlWvzPrhki6vgfq7SVrwXesxs02Lgzczq5Sk3wM3AVcCbYBtgb8AvTagrnpVWWdmZuVz8GZmFZLUFBgCnBkRj0TElxHxTUSMjojz0zKbS7pJ0kfp4yZJm6fbuklaIOlCSQuBf5S3Li17uKSZkj6T9KKkjuvp016SXkrLfSzpZkn1022T0mKz0izh8WUzWJJ+LGlCuv9cSUfmbBsu6RZJ/5K0VNLLkv7nO76G+6Tj+UzSLEndcrb9WtLraVvvSPpNur4R8ASwVTqOZZK2kjRY0oOS7k73mSNpR0kDJC2S9IGkQyurv8zP5mJJn6RT0yd9l7GaWe1z8GZmldkXaAA8WkGZgcA+QGegE7AXcEnO9rZAc2A7oF956yTtDtwB/AZoAdwGjFoTBJaxCjgHaJn27xDgtwARcUBaplNENI6I+3N3lLQZMBoYC7QGzgLukZQ7rXoCcBnQDJgHXFHB2CskaWvgX8Dl6XjPAx6W1Cotsgg4HPge8GvgRkm7R8SXQE/go3QcjSPio3SfI4C70v69AjxF8nm+NUmgfVtOF8qtP2d7W5LXcWvgFGBYmdfCzDYyDt7MrDItgE8iYmUFZU4ChkTEoohYTBL4nJyzfTVwaUSsiIj/rmfdacBtEfFyRKyKiDuBFSRB4VoiYnpETI6IlRExnyRYObCK49kHaAxcHRFfR8SzwOMkAdsaj0TElHTM95AEpRX5JM2qfSbpM+DEnG2/BMZExJiIWB0RTwPTgMPSsfwrIt6OxESSoLJrJe09FxFPpf17EGiVjucbYATQXtKW1aj/D+nPYSJJoNm7kvbNLI8cvJlZZf4DtKzkuLStgPdylt9L162xOCKWl9mn7LrtgHPLBEHblKkHgHSa8HFJCyV9QXIsXssqjmcr4IOIWF2mv1vnLC/Mef4VSbBXkZYRseWaB3BvmXEdV2Zc+wPfT8fSU9JkSUvSbYdVYSwlOc//SxJcr8pZZk2fq1D/p2mWb42yPzsz28g4eDOzyrwELAeOqqDMRyRByhrbpuvWiHL2KbvuA+CK3CAoIraIiPvK2fevwBtAh4j4HnAxoErGkdvXbSTlfv5tC3xYxf2r6wPgrjLjahQRV6dTwg8D1wNt0sBvDN+OpbzXrcqqUD9As/T4ujXK/uzMbCPj4M3MKhQRnwODgFskHSVpC0mbpRmda9Ni9wGXSGolqWVa/u5qNvU34HRJeyvRSNLPJTUpp2wT4AtgmaQfAWeU2V4C7LCedl4GvgQuSMfRjeQYshHV7G9V3Q0cIelnkoolNUhPFGgH1Ac2BxYDKyX1BA7N2bcEaKHkpJENUVn9a1wmqb6kriTHxz24ge2ZWR1w8GZmlYqIPwK/JzkJYTFJNqk/MDItcjnJcVyzgTnAjHRdddqYRnLc283ApyQnCvRdT/HzSI4rW0oS9N1fZvtg4M50mnKt47ci4mvgSJKTAT4hueTJryLijer0t6oi4gOSS6pczLev3flAUUQsBf4PeIBkzCcCo3L2fYMkMH4nHUu1pjMrqz+1MN32EcnxfafX1mthZjVDEd8pK29mZhmVZh3vjoh2+e6LmVWdM29mZmZmGeLgzczMzKwWSLojvXj2q+vZLkl/kjRP0uwy12BcLwdvZmYFKiImeMrUrFYNB3pUsL0n0CF99CM5k75SDt7MzMzMakFETAKWVFCkF/DP9CLak4EtJX2/snodvJmZmZnlx9YkZ6CvsYC1LxheroqumG4biYa79fcpwVajPp16c767YJuQEa+8n+8u2Cao757bVvXC2zViQ/7WLp95y2/49n7NAMMiYlg1qihvjJX2w8GbmZmZ2QZIA7XqBGtlLSC5DeAa7ajCHU48bWpmZmamouo/vrtRwK/Ss073AT6PiI8r28mZNzMzMzPV/CytpPuAbkBLSQuAS4HNACLiVpJ7DR9GckeZr4BfV6VeB29mZmZmNZNJW0tEnFDJ9gDOrG69Dt7MzMzMaiHzVlscvJmZmZnVQuattjh4MzMzM3PmzczMzCxDnHkzMzMzyxBn3szMzMwyxJk3MzMzswxx5s3MzMwsQ5x5MzMzM8sQZ97MzMzMMsSZNzMzM7MMyVDwlp2empmZmZkzb2ZmZmYU+Zg3MzMzs+zI0LSpgzczMzMzn21qZmZmliHOvJmZmZlliDNvZmZmZhnizJuZmZlZhjjzZmZmZpYhzryZmZmZZYgzb2ZmZmYZ4sybmZmZWYY482ZmZmaWIc68mZmZmWWIgzczMzOzDPG0qZmZmVmGOPNmZmZmliEZyrxlJ8w0MzMzM2fezMzMzDxtamZmZpYlGZo2dfBmZmZmBU8O3szMzMyyw8GbmZmZWZZkJ3Zz8GZmZmbmzJtZHbv10pPoecAuLF6ylC7HXZnv7thGKiK45qoreH7SRBo0bMDQK67mxzvtvE651+a+yh8GDmDF8uXsf8CBXDhgIJJ44/XXuXzIpXy9YgXF9Yq5+JLB7NqxI+++8zaDLrmY11+by1m/O4dTfn1qHkZn+fb2rKk8c9dfWL16NZ279WTfI/ustX3GuNHMeHoUKiqifoOG9Dz1HFpuvR3vzpnOhPv/zqqV31BcbzMOOuE02u+8W55GUbiyFLxl57zYWiTpxTy121fSVvloe1Nz1+jJ9Drzlnx3wzZyzz83ifffm8/oJ8YyaPBQLh8yuNxylw8ZzKDBQxj9xFjef28+Lzw/CYAb/3gdp//2TB545DF+2/933PTH6wD4XtMtuXDAQAdtBWz16lWMvfPP9L7gSvpdezuvTR7PJx++t1aZnfc9mP+9+m+ceuVt7PPz3jxz960ANGzSlGPPHcL/Xv03Dv/N+Yy+9Zp8DKHgSar2I18cvAER8ZM8Nd0XcPBWA16Y8TZLPv8q392wjdz4Z8dxxJFHIYmOnTqzdOkXLF68aK0yixcv4ssvl9Gp825I4ogjj+LZceMAEGLZsi8BWLZ0Ka1atQagRYsW7LJrR+rV82RGofro7Tdp1mYrmrX+PsX1NuPH+3Tj39PXzgtsvkWj0udfr1he+se/bfsf0KRZSwBatmvPym++ZuU3X9dd5w3IVvDmTxpA0rKIaCypG3AZUAJ0Bh4B5gC/AxoCR0XE25KGA8uBnYE2wO8j4nFJ7YG7gDW/of0j4sW0jQuAk4HVwBPANKALcI+k/wL7RsR/a3+0ZoVr0aIS2rRtW7rcpk1bFpWUlAZhAItKSmjTJqdM27YsWlQCwAUXXcwZ/U7lj9dfw+rVq/nnPSPqrvO2UVv26Sd8r3mr0uUmzVvy0dtvrFNu+tOPMeWJh1m1ciUnXnztOtvfnPocbbf7AfU2q1+r/bVyZGfW1Jm3cnQiCdZ2JQm2doyIvYDbgbNyyrUHDgR+DtwqqQGwCOgeEbsDxwN/ApDUEzgK2DsiOgHXRsRDJAHcSRHR2YGbWR2IWGdV2W/PUV6Z9FP9gfvv4/wLBzB23ETOv3AAg/8wsHb6aZlT0fsm1x7de3HGH//JQX3+lxdG3rvWtsUL5jN+xO30+H9n11o/bf2ylHlz8LauqRHxcUSsAN4Gxqbr55AEbGs8EBGrI+It4B3gR8BmwN8kzQEeBHZKy/4U+EdEfAUQEUsq64SkfpKmSZq28pO5NTEus4I04t576H10L3of3YtWrVpTsnBh6baSkoW0at16rfJt2ralpCSnzMJvy4x+7FEO6X4oAIf+rCevzpldByOwLGjSvBVfLFlcurx0ySc0btZiveV32qcbb01/oXT5i/8s5uGbBnPE6RfQrI2PpskHB2/ZtiLn+eqc5dWsPc1c9mtWAOeQTLl2IpkSXZP3VjnlKxQRwyKiS0R0qddy3bPhzKxq+px4Eg888hgPPPIYBx3yU0aPGklEMHvWTBo3brLWlClAq1atabRFI2bPmklEMHrUSA46+JBkW+vWTJs6BYApL09m2+3a1/VwbCO11Q4/5NOFH/LZoo9ZtfIbXp88gQ6777tWmSULF5Q+nzfzZZq13RqA5V8u48EbLqFb71Npt+Muddpv+1ZtBW+Sekh6U9I8SReVs31bSeMlvSJptqTDKqvTx7xtuOMk3QlsD+wAvAk0BRZExGpJpwDFadmxwCBJ90bEV5Kap9m3pUCTfHR+U3PnVX3pukcHWm7ZmHlPDmXorWO4c+RL+e6WbWS6HnAgz0+ayOE9u9OgQUOGXP7tZWV6H92LBx55DICBgwYnlwpZsZz99j+A/bseAMCgwUO59uorWbVyJfU335xBg4cA8MnixZxw/DF8uWwZRUVF3H3XnTw6agyNGzeu+0FaXhQVF9P9lP6MuHYAsXo1HQ/8Ga3atWfSQ8P5/vY70mGPnzB97GPMn/sKRcXFNGjUhMN/cwGQHAf3aclHvDDybl4YeTcAfS68mkZNm+VzSAWnNjJpkoqBW4DuwAJgqqRREfFaTrFLSGbz/ippJ2AMa8/0rVtvefP0habMCQvnRcTh6foJ6fK03G3pCQufkmTXck9Y6AA8DHwFjAfOiojGaV0XAb8CvgbGRMTFko4BrgQqPGGh4W79/UOyGvXp1Jvz3QXbhIx45f18d8E2QX333LZO5yVbnHJftf/W/ufOEyrso6R9gcER8bN0eQBARFyVU+Y24J2IuCYtf0NlV8Fw5g1YE2BFxARgQs76bjnP19oGvBAR55Sp5y2gY86qATnbrgauLlP+YZJgz8zMzPKolo5h2xr4IGd5AbB3mTKDgbGSziK5WsVPK6vUx7yZmZlZwduQY95yTy5MH/3KVltOU2UzfCcAwyOiHXAYcJekCuMzZ942QET0zXcfzMzMLL8iYhgwrIIiC4BtcpbbAR+VKXMq0COt76X00mMtSS4/Vi5n3szMzKzg1dLZplOBDpK2l1Qf6AOMKlPmfeCQtA8/BhoAi6mAM29mZmZmtXDIW0SslNQfeIrkChR3RMRcSUOAaRExCjiX5Bqx55BMqfaNSs4mdfBmZmZmBa+2LrobEWNILv+Ru25QzvPXgP2qU6eDNzMzMyt4+bxjQnU5eDMzM7OC5+DNzMzMLEMcvJmZmZllSXZiNwdvZmZmZs68mZmZmWWIgzczMzOzDHHwZmZmZpYl2YndHLyZmZmZOfNmZmZmliEO3szMzMwyxMGbmZmZWYY4eDMzMzPLkuzEbhTluwNmZmZmVnXOvJmZmVnB87SpmZmZWYY4eDMzMzPLkAzFbg7ezMzMzJx5MzMzM8uQDMVuDt7MzMzMnHkzMzMzy5AMxW4O3szMzMyKirITvTl4MzMzs4LnzJuZmZlZhviYNzMzM7MMyVDs5uDNzMzMzJk3MzMzswxx8GZmZmaWIRmK3Ry8mZmZmTnzZmZmZpYhGYrdKMp3B8zMzMys6px5MzMzs4LnaVMzMzOzDMlQ7ObgzczMzMyZNzMzM7MMyVDs5uAtCz6denO+u2CbmGZ79s93F2wTsmSKP6Ms+5x5MzMzM8uQDMVuDt7MzMzMnHkzMzMzy5AMxW4O3szMzMyceTMzMzPLkAzFbg7ezMzMzLKUefO9Tc3MzKzgSar2o4r19pD0pqR5ki5aT5nekl6TNFfSvZXV6cybmZmZFbzaSLxJKgZuAboDC4CpkkZFxGs5ZToAA4D9IuJTSa0rq9eZNzMzMyt4tZR52wuYFxHvRMTXwAigV5kypwG3RMSnABGxqLJKHbyZmZlZwZOq/6iCrYEPcpYXpOty7QjsKOkFSZMl9aisUk+bmpmZWcHbkBMWJPUD+uWsGhYRw3KLlLNblFmuB3QAugHtgOck7RIRn62vXQdvZmZmZhsgDdSGVVBkAbBNznI74KNyykyOiG+AdyW9SRLMTV1fpZ42NTMzs4JXS9OmU4EOkraXVB/oA4wqU2YkcFDSB7UkmUZ9p6JKnXkzMzOzgldUC6ebRsRKSf2Bp4Bi4I6ImCtpCDAtIkal2w6V9BqwCjg/Iv5TUb0O3szMzKzg1dY1eiNiDDCmzLpBOc8D+H36qBIHb2ZmZlbwsnSHBQdvZmZmVvCKshO7OXgzMzMzc+bNzMzMLEMyFLs5eDMzMzNTudfT3Tg5eDMzM7OC52PezMzMzDLEx7yZmZmZZUiGYjcHb2ZmZma1cYeF2uLgzczMzApehmI3B29mZmZmPubNzMzMLEMyFLs5eDMzMzPL0jFvRfnugJmZmZlVnTNvZmZmVvCyk3dz8GZmZmbmExbMzMzMssS3xzIzMzPLEGfezMzMzDIkQ7GbgzczMzMzZ97MzMzMMsTHvJmZmZlliDNvZmZmZhmSndDNwZuZmZlZpm6P5eDNzMzMCl6GYjff29Q2XhHB1VdezuE9unPsL47g9dfmllvutbmvcsxRR3B4j+5cfeXlRAQAb7z+Or88oTe9j+7FCb2PZs7s2QC8+87bnHzi8XTpvAt3/uPvdTYey45bLz2J98ZdxbQHL853V2wjFxFcc+XlHNGzO8dV8jl17C+O4Iie3bkm53PqgnPPpvcxveh9TC96HnowvY/pBcCHHy5g7z06lm67/LJBdTamQiWp2o98cebNNlrPPzeJ99+bz+gnxjJn9iwuHzKYe0Y8uE65y4cMZtDgIXTs1JkzTz+NF56fxP5dD+TGP17H6b89k/27HshzkyZy0x+v4+/D7+J7TbfkwgEDGf/suDyMyrLgrtGTufX+idw+9Ff57opt5J5/bhLvvz+fUWOSz6krhg7m7vvW/Zy6Yuhg/nBp8jnV/4xvP6euveGm0jI3XHc1jRs3Ll1ut822PPDwY3UyDnPmzcohab6klvnuR5aMf3YcRxx5FJLo2KkzS5d+weLFi9Yqs3jxIr78chmdOu+GJI448iieHZcEZUIsW/YlAMuWLqVVq9YAtGjRgl127Ui9ev7uYuV7YcbbLPn8q3x3wzJgwvhxHF7Nz6nDjzxqnS+PEcHYJ5+gx2GH12X3LUeRVO1HvuTlr5ek4ohYlY+2LTsWLSqhTdu2pctt2rRlUUlJaRAGsKikhDZtcsq0bcuiRSUAXHDRxZzR71T+eP01rF69mn/eM6LuOm9mBWFRSQltq/s5lZbJNWP6NFq0aMF227UvXffhhws4/tijaNy4MWeedTa779Gl9gZim17mTdJASW9KekbSfZLOkzRBUpd0e0tJ89PnxZKukzRV0mxJv0nXd5M0XtK9wBxJQyX9LqeNKyT933ra75a295CkNyTdo3SyWdKgtK1XJQ3LWT9B0o2SJkl6XdKekh6R9Jaky3Pq/qWkKZJmSrpNUnEFr0MPSTMkzZI0Ll3XXNLIdKyTJXVM17eQNFbSK5JuI+cs5Oq0WdDSY0JylT3GIMork77UD9x/H+dfOICx4yZy/oUDGPyHgbXTTzMrWOV+BlXlc6pMmSfHPL5W1q1Vq9Y8+fR47n9oJOeefxEDLjiXZcuW1VCvrTxZOuat0uBN0h5AH2A34Ghgz0p2ORX4PCL2TMueJmn7dNtewMCI2An4O3BK2kZR2sY9FdS7G3A2sBOwA7Bfuv7miNgzInYBGgK5OeevI+IA4FbgMeBMYBegbxpc/Rg4HtgvIjoDq4CT1vM6tAL+BhwTEZ2A49JNlwGvRERH4GLgn+n6S4HnI2I3YBSwbVpPldqU1E/SNEnT/v63YRW8LJuWEffeQ++je9H76F60atWakoULS7eVlCykVevWa5Vv07YtJSU5ZRZ+W2b0Y49ySPdDATj0Zz15dc7sOhiBmW3qRtx3T+mJBK1at2ZhdT+nypRZuXIl4555mp/1OKx0Xf369dlyy2YA7LTzLrTbZlvem/9ubQ3JSAKi6j7ypSptdwUejYivIuILkkCkIocCv5I0E3gZaAF0SLdNiYh3ASJiPvAfSbul+7wSEf+poN4pEbEgIlYDM4H26fqDJL0saQ5wMLBzzj5r+joHmBsRH0fECuAdYBvgEGAPYGra30NIAsPy7ANMyun/knT9/sBd6bpngRaSmgIHAHen6/8FfJqWr1KbETEsIrpERJdTT+tXwcuyaelz4kk88MhjPPDIYxx0yE8ZPWokEcHsWTNp3LjJWlMRkHw7bbRFI2bPmklEMHrUSA46+JBkW+vWTJs6BYApL09m25zpCDOzDdXnhJN44OHHeODhxzjo4J/yeBU+p7bI+Zx6fNRIuh10SOn2lye/yPY77LDWYSJLlixh1ark6KIFH3zA++/Pp90229TNAG2jV9Vj3tbN+cJKvg3+GuSsF3BWRDyVW1hSN+DLMnXcDvQF2gJ3VNKHFTnPVwH1JDUA/gJ0iYgPJA0u05c1+6wus/9qkrELuDMiBlTSNmnZ8l6H8vKmUeb/suWr2mZB63rAgTw/aSKH9+xOgwYNGXL5laXbeh/diwceSc7CGjhoMH8YOIAVK5az3/4HsH/XAwAYNHgo1159JatWrqT+5pszaPAQAD5ZvJgTjj+GL5cto6ioiLvvupNHR41Z6ywvK2x3XtWXrnt0oOWWjZn35FCG3jqGO0e+lO9u2Uao6wEH8vxzEzmiZ3caNGzIZUNzPqeO6VV6tujAPwxm0CUDWLF8Oft1/fZzCuDJJ8bQo+fP16p3xvSp/OXmP1GvuJii4mIuGXQZTZtuWTeDKlBZuj2WypuLX6uAtDswHNibJOCZAdwG/AiYHhF/lXQ2cHZEtJfUDzgMOC4ivpG0I/AhyRTqeRFxeE7d9UmyYpsBHdZ3EkMa+JXuK+lmYBowEniTJAtXDEwGHoqIwZImpPtMK2f/CcB5wFck06n7RcQiSc2BJhHxXjl9aJWO/YCIeFdS84hYIulPwOKIGJq2c2NE7JauXxQRl0vqCYwBWgGtq9rmGstXlhsEmm2wZnv2z3cXbBOyZMrN+e6CbYIabla3d6w6+7E3qv239qZeP8pLxFdp5i0iZki6n2Sq8j3guXTT9cADkk4Gns3Z5XaSYGpGevLAYuCo9dT9taTxwGcbcvZpRHwm6W8kAeB8YGo1939N0iXA2PS4u29IjotbJ5CKiMVpYPpIWnYR0B0YDPxD0mySYPCUdJfLgPskzQAmAu9Xt00zMzOrG0XZSbxVnnlbZ4dkanJZRFz/nRtPgpcZJFm6t75rfZsqZ96spjnzZjXJmTerDXWdeTt39JvV/lt7wxE/zEvIl7eTJSTtBMwDxjlwMzMzs3wqUvUf+VLti/RGxOCaaDgiXqPMWZaSdiU9czPHiojYuybarCpJLwObl1l9ckTMqct+mJmZWd3I0PkKG9e9TdPgqPNG0I86DRbNzMwsv/J5u6vq2qiCNzMzM7N8yNLN3h28mZmZWcHLUOItU4GmmZmZWa0okqr9qIr0vuhvSpon6aIKyh0rKZTeN77CvlZjXGZmZmabJKn6j8rrVDFwC9CT5N7sJ6RX2yhbrgnwfyS3Fa2UgzczMzMreLV0qZC9gHkR8U5EfA2MAHqVU24ocC2wvEp9reKYzMzMzDZZtTRtujXwQc7ygnRdKUm7AdtExONV7atPWDAzM7OCtyEnLKS3zeyXs2pYRAzLLVLObqV3ckjvNHUj0Lc67Tp4MzMzs4K3IXdMSAO1YRUUWQBsk7PcDvgoZ7kJsAswIbkdPG2BUZKOjIhp66vUwZuZmZkVPNXOrVSnAh0kbQ98CPQBTlyzMSI+B1qW9kGaAJxXUeAGPubNzMzMrFZExEqgP/AU8DrwQETMlTRE0pEbWq8zb2ZmZlbwautG8xExBhhTZt2g9ZTtVpU6HbyZmZlZwaut4K02OHgzMzOzgqcM3R/LwZuZmZkVPGfezMzMzDIkQ4k3B29mZmZmVb3R/MbAwZuZmZkVPE+bmpmZmWVIhhJvDt7MzMzMimrnDgu1wsGbmZmZFTxn3szMzMwyxMe8mZmZmWWIzzY1MzMzy5AMxW4O3szMzMyceTMzMzPLkAzFbg7ezMzMzIry3YFqyFJfzczMzAqeM29mZmZW8JSheVMHb2ZmZlbwshO6OXgzMzMz89mmZmZmZlmSndDNwZuZmZmZLxViZmZmliU+YcHMzMwsQ7J07TQHb2ZmZlbwnHkzMzMzy5DshG4O3jJhxCvv57sLtolZMuXmfHfBNiHN9+qf7y7YJui/r9Tt55Qzb2ZmZmYZ4mPezMzMzDLEmTczMzOzDMlO6ObgzczMzMwX6TUzMzPLkqIM5d4cvJmZmVnBy1LmLUsnV5iZmZkVPGfezMzMrODJ06ZmZmZm2ZGlaVMHb2ZmZlbwfMKCmZmZWYY482ZmZmaWIQ7ezMzMzDLEJyyYmZmZZUhRdmI3B29mZmZmWcq8+SK9ZmZmVvCk6j+qVq96SHpT0jxJF5Wz/feSXpM0W9I4SdtVVqeDNzMzMyt42oB/ldYpFQO3AD2BnYATJO1UptgrQJeI6Ag8BFxbWb0O3szMzKzgFan6jyrYC5gXEe9ExNfACKBXboGIGB8RX6WLk4F2lfa1ekMzMzMz2/TURuYN2Br4IGd5QbpufU4FnqisUp+wYGZmZgVvQ67zJqkf0C9n1bCIGJZbpJzdYj11/RLoAhxYWbsO3szMzKzgbci5pmmgNqyCIguAbXKW2wEfrdO29FNgIHBgRKyorF0Hb2ZmZlbwimrnFgtTgQ6Stgc+BPoAJ+YWkLQbcBvQIyIWVaVSB29mZmZW8GojdIuIlZL6A08BxcAdETFX0hBgWkSMAq4DGgMPKgkg34+IIyuq18GbmZmZWS2JiDHAmDLrBuU8/2l163TwZmZmZpadGyw4eDMzMzN0kFCkAAATSElEQVTL0u2xHLyZmZlZwaud8xVqh4M3MzMzK3gZit0cvJmZmZllKXpz8GZmZmYFz8e8mZmZmWWIj3kzMzMzy5AMxW4O3szMzMyyFL05eDMzM7OC52PezMzMzDLEx7yZmZmZZUiGYjcHb2ZmZmZZit4cvJmZmVnB8zFvZmZmZhniY97MzMzMMiRDsZuDN8uGt2dN5Zm7/sLq1avp3K0n+x7ZZ63tM8aNZsbTo1BREfUbNKTnqefQcuvteHfOdCbc/3dWrfyG4nqbcdAJp9F+593yNArLt4jg2quu4PnnJtKgQQOGXHE1P95p53XKvTb3VQZdMoAVy5ezf9cDuWDAQCRxwblnM3/+uwAsXbqUJk2a8MDDj/Hhhws4+sjD2K799gB07NiJSy4dUqdjs43brZeeRM8DdmHxkqV0Oe7KfHfHypOh6M3Bm230Vq9exdg7/0yfi67he81bMnxQfzrssS8tt96utMzO+x7M7occAcBb01/kmbtvpc+FV9GwSVOOPXcITZq1ZPEH7zLi2gGc9ecR+RqK5dnzz03i/ffnM2rMWObMnsUVQwdz930PrlPuiqGD+cOlQ+jYqTP9zziNF56fxP5dD+TaG24qLXPDdVfTuHHj0uV222zLAw8/VifjsOy5a/Rkbr1/IrcP/VW+u2KbgKJ8d6AsSZ0lHZazfKSki2q5zW6SflKL9Q+WdF5t1b+p++jtN2nWZiuatf4+xfU248f7dOPf019cq8zmWzQqff71iuUoPXihbfsf0KRZSwBatmvPym++ZuU3X9dd522jMmH8OA4/8igk0bFTZ5Yu/YLFixetVWbx4kV8+eUyOnXeDUkcfuRRjH923FplIoKxTz5Bj8MOr8vuW4a9MONtlnz+Vb67YRXQBvzLl40x89YZ6AKMAYiIUcCoWm6zG7AMeLGScpYHyz79hO81b1W63KR5Sz56+411yk1/+jGmPPEwq1au5MSLr11n+5tTn6Ptdj+g3mb1a7W/tvFaVFJC27ZtS5fbtGnLopISWrVqvVaZNm3WLZNrxvRptGjRgu22a1+67sMPF3D8sUfRuHFjzjzrbHbfo0vtDcTMalyWTlio0cybpEaS/iVplqRXJR0vaQ9JEyVNl/SUpO+nZSdIukbSFEn/ltRVUn1gCHC8pJnp/n0l3ZzuM1zSXyWNl/SOpAMl3SHpdUnDc/pxqKSXJM2Q9KCkxun6+ZIuS9fPkfQjSe2B04Fz0ja7rmdsbSQ9mo5t1ppMnaTfp2N9VdLZOeUHSnpT0jPAD3PW/4+kJ9PX4zlJP6rJn8GmKCLWWVfeN549uvfijD/+k4P6/C8vjLx3rW2LF8xn/Ijb6fH/zl5nPysc5b6XynxiV6XMk2MeXyvr1qpVa558ejz3PzSSc8+/iAEXnMuyZctqqNdmVhe0AY98qelp0x7ARxHRKSJ2AZ4E/gwcGxF7AHcAV+SUrxcRewFnA5dGxNfAIOD+iOgcEfeX00Yz4GDgHGA0cCOwM7BrOuXaErgE+GlE7A5MA36fs/8n6fq/AudFxHzgVuDGtM3n1jO2PwETI6ITsDswV9IewK+BvYF9gNMk7Zau7wPsBhwN7JlTzzDgrPT1OA/4S3mNSeonaZqkaRMevbe8IgWjSfNWfLFkceny0iWf0LhZi/WW32mfbrw1/YXS5S/+s5iHbxrMEadfQLM2W9VqX23jM+K+e+h9TC96H9OLVq1bs3DhwtJtJSULadW69Vrl27RtS0nJ+susXLmScc88zc96lB7dQf369dlyy2YA7LTzLrTbZlveS09sMLOMyFD0VtPTpnOA6yVdAzwOfArsAjydfnMtBj7OKf9I+v90oH0V2xgdESFpDlASEXMAJM1N62gH7AS8kLZZH3hpPW0eXY2xHQz8CiAiVgGfS9ofeDQivkz78AjQlSQofjQivkrXj0r/bwz8BHgw55v85uU1FhHDSAI9hk99f91UQAHZaocf8unCD/ls0cc0ad6S1ydP4MjfDlirzJKFC2jeth0A82a+TLO2WwOw/MtlPHjDJXTrfSrtdtylzvtu+dfnhJPoc8JJAEyaOIH777ubHj1/zpzZs2jcuMlaU6aQZNG22KIRs2fNZNeOnXh81Ej6nHhy6faXJ7/I9jvsQJuc6dclS5bQtGlTiouLWfDBB7z//nzabbNN3QzQzGpEwV6kNyL+nWadDgOuAp4G5kbEvuvZZUX6/6pq9GXNPqtznq9ZrpfW9XREnFCDba5PRT/p8gKuIuCziOj8HdstKEXFxXQ/pT8jrh1ArF5NxwN/Rqt27Zn00HC+v/2OdNjjJ0wf+xjz575CUXExDRo14fDfXAAkx8F9WvIRL4y8mxdG3g1AnwuvplHTZvkckuVJ1wMO5PnnJnJEz+40aNiQy4Z+e8mG3sf0Kj1bdOAfBpdeKmS/rgewf9cDSss9+cQYevT8+Vr1zpg+lb/c/CfqFRdTVFzMJYMuo2nTLetmUJYJd17Vl657dKDllo2Z9+RQht46hjtHvlT5jlZnsnTMm8o7vmODK5O2ApZExHJJRwH9gB2BkyPiJUmbATtGxFxJE0imLaelU53TIqK9pGOAIyPilLTOvkCXiOifHtf2eEQ8lB6r9ng6PcuabcBEkqzawRExT9IWQLs0sJyf1vWJpC7A9RHRTdK5wPci4tIKxjYCmBwRN0kqBhoBPwCGk0yZCngZODl9PpxkOrUeMAO4LSKul/QiyRTtg0rSbx0jYlZFr2uhZ96s5h3fedt8d8E2Ic336p/vLtgm6L+v3Fyn4dS/F35V7b+1O7bdIi8hX00f87YrMEXSTGAgyfFrxwLXSJoFzCSZNqzIeGCnNScsVLcDEbEY6AvcJ2k2MBmo7KSA0cAvKjphAfgdcFA6XTsd2DkiZpAEaVNIArfbI+KVdP39JON9GMg9ju4k4NT09ZgL9KruGM3MzKyGZeiYtxrNvFntcObNapozb1aTnHmz2lDXmbe3Sv5b7b+1Hdo0zEsItzFe583MzMysTmXpmDcHb2VIGggcV2b1gxFxRXnlzczMLPsyFLs5eCsrDdIcqJmZmRWSDEVvDt7MzMys4BXsdd7MzMzMssjHvJmZmZllSIZiNwdvZmZmZlmK3mr6Ir1mZmZmVouceTMzM7OC5xMWzMzMzDLEJyyYmZmZZUiGYjcHb2ZmZmbOvJmZmZllSnaiNwdvZmZmVvCceTMzMzPLkAzFbr7Om5mZmZlU/UfV6lUPSW9KmifponK2by7p/nT7y5LaV1angzczMzMreNqAf5XWKRUDtwA9gZ2AEyTtVKbYqcCnEfED4EbgmsrqdfBmZmZmpg14VG4vYF5EvBMRXwMjgF5lyvQC7kyfPwQcIlWc13PwZmZmZgWvdmI3tgY+yFlekK4rt0xErAQ+B1pUVKmDNzMzMyt4G3LMm6R+kqblPPqVrbacpmIDyqzFZ5uamZlZwduQe5tGxDBgWAVFFgDb5Cy3Az5aT5kFkuoBTYElFbXrzJuZmZlZ7cybTgU6SNpeUn2gDzCqTJlRwCnp82OBZyPCmTczMzOzitTGdd4iYqWk/sBTQDFwR0TMlTQEmBYRo4C/A3dJmkeScetTWb0O3szMzKzg1dYdFiJiDDCmzLpBOc+XA8dVp05Pm5qZmZlliDNvZmZmVvA25ISFfHHwZmZmZgUvSzem97SpmZmZWYY482ZmZmYFL0uZNwdvZmZmVvB8zJuZmZlZhjjzZmZmZpYhGYrdHLyZmZmZZSl6c/BmZmZmBc/HvJmZmZlliI95MzMzM8uQDMVuDt7MzMzMshS9OXgzMzOzgudj3szMzMwyJEvHvCki8t0HsxojqV9EDMt3P2zT4feU1SS/n6wm+Mb0tqnpl+8O2CbH7ymrSX4/2Xfm4M3MzMwsQxy8mZmZmWWIgzfb1PhYEqtpfk9ZTfL7yb4zn7BgZmZmliHOvJmZmZlliIM326hIejFP7faVtFU+2jYzM6sOB2+2UYmIn+Sp6b6Agzfb6EmaL6llvvuxqZPUWdJhOctHSrqoltvsJqnWPgMlDZZ0Xm3Vb3XHd1iwjYqkZRHRWFI34DKgBOgMPALMAX4HNASOioi3JQ0HlgM7A22A30fE45LaA3cBjdKq+0fEi2kbFwAnA6uBJ4BpQBfgHkn/BfaNiP/W/mjtu5JUHBGr8t0P2yR1JvlcGAMQEaOAUbXcZjdgGZCXGQjLDmfebGPWiSRY25Uk2NoxIvYCbgfOyinXHjgQ+Dlwq6QGwCKge0TsDhwP/AlAUk/gKGDviOgEXBsRD5EEcCdFRGcHbrVH0kBJb0p6RtJ9ks6TNEFSl3R7S0nz0+fFkq6TNFXSbEm/Sdd3kzRe0r3AHElDJf0up40rJP3fetrvlrb3kKQ3JN0jJTfFkTQobetVScNy1k+QdKOkSZJel7SnpEckvSXp8py6fylpiqSZkm6TVFzB69BD0gxJsySNS9c1lzQyHetkSR3T9S0kjZX0iqTbyLl9dnXaLCSSGkn6V/r6virpeEl7SJooabqkpyR9Py07QdI16ev4b0ldJdUHhgDHp6/t8emhFTen+wyX9Nf0ffiOpAMl3ZG+P4bn9ONQSS+lP+sHJTVO18+XdFm6fo6kH6VfOE8Hzknb7LqesbWR9Gg6tllrMnWSfp+O9VVJZ+eUL/2dA36Ys/5/JD2Zvh7PSfpRzf4UrFZFhB9+bDQPYFn6fzfg6Zz1k4D90ucHAyPT58OB/1emXGegKUnmbQ4wE/gq3X4DcFo57U4AuuR7/JvyA9gj/XlsAXwPmAecl/vaAy2B+enzfsAl6fPNSQLs7dP3xpfA9um29sCM9HkR8DbQYj196AZ8DrRLy74E7J9ua55T7i7giJz3xjXp898BHwHfT/u0AGgB/BgYDWyWlvsL8Kv19KEV8EFO/5un//8ZuDTnPT4zff4nYFD6/OdApK9TldsstAdwDPC3nOWmJNmsVuny8cAdOT/fG9LnhwHPpM/7Ajfn1FG6TPK5M4IkkO4FfEHyJbMImE7yGdSS5POoUbrPhTk/x/nAWenz3wK3p88HA+dVMrb7gbPT58Xp2Nb8bjUCGgNzgd1Yz+9cuu84oEP6fG/g2Xz/3Pyo+sPTprYxW5HzfHXO8mrWnvIve72bAM4hmXLtRPKBujzdpnLKW93oCjwaEV8BSKpsCupQoKOkY9PlpkAH4GtgSkS8CxAR8yX9R9JuJFPnr0TEfyqod0pELEj7MJMk+HseOEjJlPoWQHOSP4Cj033W9HUOMDciPk73fwfYBtif5A/l1DRh15Ak+1uefYBJOf1fkq7fnyToICKeTTNuTYEDgKPT9f+S9Gla/pBqtFlo5gDXS7oGeBz4FNgFeDp9rYqBj3PKP5L+P53k/VAVoyMiJM0BSiJiDoCkuWkd7YCdgBfSNuuTfFkor82jqzG2g4FfAURyyMDnkvYn+d36Mu3DIyS/b0WU8zuXZgB/Ajyob+/Gvnk1+mB55uDNNgXHSbqTJCuzA/AmyR/6BRGxWtIpJB/WAGOBQZLujYivJDVP/3guBZrko/MFprzAeSXfHsLRIGe9SLITT+UWVnI85Jdl6ridJDPSFrijkj7kfilYBdRTMtX+F5IM4AeSBpfpS+4Xh7JfKuqlfb0zIgZU0jas/wuEylkXZf4vW76qbRaUiPi3pD1IMmlXAU+TBN37rmeXNT/TVVT972Jl74lVJLMHJ9Rgm+tT3ntnjfLeO0XAZxHR+Tu2a3niY95sU/AmMJHk5IPTI2I5yR/iUyRNBnYk/WMfEU+SZFGmpVmXNWdeDSc5Xm6mpIZ13P9CMQn4haSGkpoAR6Tr55NkkACOzSn/FHCGpM0AJO0oqRHlexToAeyZ7lddawK1T9KsxLEVFS7HOOBYSa3TvjaXtN16yr4EHChp+zVl0/WTgJPSdd2ATyLiizLrewLNNqDNgqLksj9fRcTdwPUk04KtJO2bbt9M0s6VVPNdv9BNBvaT9IO0zS0k7VgDbY4DzkjrLJb0PZL3yFFpG42AXwDPsZ7fufR99a6k49J6JKnTBo3S8sKZN9uoRETj9P8JJMeirFnfLef5WtuAFyLinDL1vAV0zFk1IGfb1cDVZco/DDz83XpvFYmIGZLuJzkG8T2SPy6Q/HF9QNLJwLM5u9xOejybkrmdxSQnm5RX99eSxpNkE6p99mlEfCbpbyTTbfOBqdXc/zVJlwBjJRUB3wBnkoyzbNnFkvoBj6RlFwHdSY53+oek2cBXwCnpLpcB90maQfIl5f3qtlmAdgWuk7Sa5HU5gyTD+6d0KroecBPJ1Pj6jAcuSr/kXVXdDqQ/574kP7s1U5KXAP+uYLfRwEOSepFknZ8rp8zvgGGSTiXJ2p0RES+lJ0pMScvcHhGvAKzndw6SLwR/Td9Dm5EcwzeruuO0/PDtsSzT0g+sxyM5Y9QyJJ2aXBYR19dAXUXADOC4NHA3M9tkOfNmmRYRffPdB8svSTuRHJT+qAM3MysEzryZ2SZH0q4kl/vItSIi9q7jfrzMumfxnbzmzESz9ZE0EDiuzOoHI+KKfPTHNi4O3szMzMwyxGebmpmZmWWIgzczMzOzDHHwZmZmZpYhDt7MzMzMMsTBm5mZmVmG/H851C6ZA7G7ogAAAABJRU5ErkJggg==\n",
      "text/plain": [
       "<Figure size 720x360 with 2 Axes>"
      ]
     },
     "metadata": {
      "needs_background": "light"
     },
     "output_type": "display_data"
    }
   ],
   "source": [
    "# Plot the correlation table\n",
    "fig = plt.figure(figsize=(10,5))\n",
    "sns.heatmap(df3.corr(method='pearson'), annot = True, cmap=\"Blues\")\n",
    "plt.title(\"Correlation Heatmap\")"
   ]
  },
  {
   "cell_type": "markdown",
   "metadata": {},
   "source": [
    "## Text Preprocessing"
   ]
  },
  {
   "cell_type": "code",
   "execution_count": 7,
   "metadata": {},
   "outputs": [
    {
     "data": {
      "text/plain": [
       "0    RT @re_aiiii: H eurobank έβγαλε διαφήμιση ότι ...\n",
       "1    RT @GTrapeziotis: Κανονικά ο Βαξεβάνης θα πρέπ...\n",
       "2    ΔΕΛΤΙΟ ΤΥΠΟΥ Συνάντηση μελών της ΚΟ του ΜέΡΑ25...\n",
       "3    Στις τράπεζες, οριακή άνοδο καταγράφουν Πειραι...\n",
       "4    RT @spigaro: Πρόεδρος στην Εθνική Τράπεζα ο Γκ...\n",
       "Name: text, dtype: object"
      ]
     },
     "execution_count": 7,
     "metadata": {},
     "output_type": "execute_result"
    }
   ],
   "source": [
    "# filter text column\n",
    "df_text = df['text']\n",
    "df_text.head()"
   ]
  },
  {
   "cell_type": "markdown",
   "metadata": {},
   "source": [
    "*Below i am going to use regular expressions in order to remove special characters, mentions, hashtags and urls*"
   ]
  },
  {
   "cell_type": "code",
   "execution_count": 35,
   "metadata": {},
   "outputs": [],
   "source": [
    "remove_RT = lambda x: re.sub(r'(http\\S+)|RT|(@[A-Za-z0-9]+)|(\\w+:\\/\\/\\S+)|([()\\\"#/;:<>{}`+=~|.!?_,])', '', str(x))\n",
    "df_text_clean = df_text.apply(remove_RT)"
   ]
  },
  {
   "cell_type": "code",
   "execution_count": 36,
   "metadata": {},
   "outputs": [
    {
     "data": {
      "text/plain": [
       "0      aiiii H eurobank έβγαλε διαφήμιση ότι ανησυχε...\n",
       "1       Κανονικά ο Βαξεβάνης θα πρέπει να κάνει δωρε...\n",
       "2     ΔΕΛΤΙΟ ΤΥΠΟΥ Συνάντηση μελών της ΚΟ του ΜέΡΑ25...\n",
       "3     Στις τράπεζες οριακή άνοδο καταγράφουν Πειραιώ...\n",
       "4       Πρόεδρος στην Εθνική Τράπεζα ο Γκίκας Χαρδού...\n",
       "5       Κανονικά ο Βαξεβάνης θα πρέπει να κάνει δωρε...\n",
       "6     Hatzidakis Δυστυχώς τον Λογαριασμό Επικούρησης...\n",
       "7     Axia Έρχεται σημαντικό re-rating στη μετοχή τη...\n",
       "8     Τα 190 εκατ τεμάχια αναμένεται να προσεγγίσει ...\n",
       "9     Bank Ευχαριστώ για την άμεση ανταπόκριση  Θα κ...\n",
       "10      Να μην ξεχνάμε και τα 125000000 ευρώ που χρω...\n",
       "11    Στις τράπεζες πτωτικά κινούνται Πειραιώς -15% ...\n",
       "12      Να φανταστώ ότι παίρνουν και τη Μαρέβα τηλέφ...\n",
       "13      -Γειά σας από τράπεζα Πειραιώς  -Σταρχιδια μ...\n",
       "14     Σας ενημερώνουμε ότι η υπηρεσία Apple Pay είν...\n",
       "15      Νέος πρόεδρος της Εθνικής Τράπεζας ο Γκίκας ...\n",
       "16    συνεργάτη της Bank να έρθει να κάνει έλεγχο…  ...\n",
       "17      Φανταστική ιστορία πριν λίγο στην Bank …μπαί...\n",
       "18    Τι μας έδειξε το α΄ 6μηνο 2021 της Alpha - Χωρ...\n",
       "19      Πως ο υπάλληλος που εκοβε εμβάσματα στην Εθν...\n",
       "Name: text, dtype: object"
      ]
     },
     "execution_count": 36,
     "metadata": {},
     "output_type": "execute_result"
    }
   ],
   "source": [
    "df_text_clean.head(20)"
   ]
  },
  {
   "cell_type": "code",
   "execution_count": 74,
   "metadata": {},
   "outputs": [
    {
     "data": {
      "text/plain": [
       "'  Κάνουν αύξηση μετοχικού κεφαλαίου στη ΔΕΗ χρησιμοποιώντας το κόλπο που έκαναν με την Πειραιώς για να χάσει τις μετοχές το Δημόσιο και να την παραδώσουν σε ιδιώτες Και μόνο το γεγονός ότι ο Μητσοτάκης το έκρυψε στη ΔΕΘ δείχνει ότι ζούμε την εποχή μιας πολιτικής Κοζα Νοστρα'"
      ]
     },
     "execution_count": 74,
     "metadata": {},
     "output_type": "execute_result"
    }
   ],
   "source": [
    "# Example\n",
    "df_text_clean[27]"
   ]
  },
  {
   "cell_type": "markdown",
   "metadata": {},
   "source": [
    "*Remove greek stopwords*"
   ]
  },
  {
   "cell_type": "code",
   "execution_count": 13,
   "metadata": {},
   "outputs": [
    {
     "name": "stdout",
     "output_type": "stream",
     "text": [
      "showing info https://raw.githubusercontent.com/nltk/nltk_data/gh-pages/index.xml\n"
     ]
    }
   ],
   "source": [
    "import nltk  \n",
    "nltk.download()\n",
    "from nltk.corpus import stopwords\n",
    "greek_stopwords = set(stopwords.words('greek'))"
   ]
  },
  {
   "cell_type": "code",
   "execution_count": 64,
   "metadata": {},
   "outputs": [],
   "source": [
    "more_words = ['του', 'της', 'τη', 'από', 'από', 'Στα', 'Στις', 'στις', 'το', 'Το', 'με', 'που','για', 'μου', 'μας', 'σας', 'στην', 'είναι', 'και','Και', 'ότι','στα', 'τους', 'Τους', 'ενώ']\n",
    "greek_stopwords.update(more_words)"
   ]
  },
  {
   "cell_type": "code",
   "execution_count": 65,
   "metadata": {},
   "outputs": [],
   "source": [
    "remove_words = lambda x: ' '.join([word for word in x.split() if word not in greek_stopwords])\n",
    "df_text_clean_rs = df_text_clean.apply(remove_words)"
   ]
  },
  {
   "cell_type": "code",
   "execution_count": 66,
   "metadata": {},
   "outputs": [
    {
     "data": {
      "text/plain": [
       "0    aiiii H eurobank έβγαλε διαφήμιση ανησυχεί δημ...\n",
       "1    Κανονικά Βαξεβάνης πρέπει κάνει δωρεάν συνδρομ...\n",
       "2    ΔΕΛΤΙΟ ΤΥΠΟΥ Συνάντηση μελών ΚΟ ΜέΡΑ25 ΣΕΥΤΠΕ ...\n",
       "3    τράπεζες οριακή άνοδο καταγράφουν Πειραιώς 010...\n",
       "4    Πρόεδρος Εθνική Τράπεζα Γκίκας Χαρδούβελης οπο...\n",
       "Name: text, dtype: object"
      ]
     },
     "execution_count": 66,
     "metadata": {},
     "output_type": "execute_result"
    }
   ],
   "source": [
    "# This is the final preprocessd corpus for the tfidf process\n",
    "df_text_clean_rs.head()"
   ]
  },
  {
   "cell_type": "code",
   "execution_count": 73,
   "metadata": {},
   "outputs": [
    {
     "data": {
      "text/plain": [
       "'Κάνουν αύξηση μετοχικού κεφαλαίου ΔΕΗ χρησιμοποιώντας κόλπο έκαναν Πειραιώς χάσει μετοχές Δημόσιο παραδώσουν ιδιώτες μόνο γεγονός Μητσοτάκης έκρυψε ΔΕΘ δείχνει ζούμε εποχή μιας πολιτικής Κοζα Νοστρα'"
      ]
     },
     "execution_count": 73,
     "metadata": {},
     "output_type": "execute_result"
    }
   ],
   "source": [
    "# Example\n",
    "df_text_clean_rs[27]"
   ]
  },
  {
   "cell_type": "markdown",
   "metadata": {},
   "source": [
    "*We calculate TFidf for every term. So with this approach we can create numeric feature vectors from the text.*"
   ]
  },
  {
   "cell_type": "code",
   "execution_count": 68,
   "metadata": {},
   "outputs": [],
   "source": [
    "from sklearn.feature_extraction.text import TfidfVectorizer\n",
    "v = TfidfVectorizer()\n",
    "x = v.fit_transform(df_text_clean_rs).toarray()"
   ]
  },
  {
   "cell_type": "code",
   "execution_count": 69,
   "metadata": {},
   "outputs": [],
   "source": [
    "# create a list with all the tfidf weights\n",
    "weights = np.asarray(x.mean(axis=0)).ravel().tolist()"
   ]
  },
  {
   "cell_type": "code",
   "execution_count": 70,
   "metadata": {},
   "outputs": [],
   "source": [
    "words_list = [word for line in df_text_clean_rs for word in line.split()]"
   ]
  },
  {
   "cell_type": "code",
   "execution_count": 71,
   "metadata": {},
   "outputs": [],
   "source": [
    "# apply the tfidf value to the corresponding term\n",
    "weights_df = pd.DataFrame({'term': v.get_feature_names(), 'weight': weights})"
   ]
  },
  {
   "cell_type": "markdown",
   "metadata": {},
   "source": [
    "**Below you can see the top20 words based on tfidf score**"
   ]
  },
  {
   "cell_type": "code",
   "execution_count": 72,
   "metadata": {},
   "outputs": [
    {
     "data": {
      "text/html": [
       "<div>\n",
       "<style scoped>\n",
       "    .dataframe tbody tr th:only-of-type {\n",
       "        vertical-align: middle;\n",
       "    }\n",
       "\n",
       "    .dataframe tbody tr th {\n",
       "        vertical-align: top;\n",
       "    }\n",
       "\n",
       "    .dataframe thead th {\n",
       "        text-align: right;\n",
       "    }\n",
       "</style>\n",
       "<table border=\"1\" class=\"dataframe\">\n",
       "  <thead>\n",
       "    <tr style=\"text-align: right;\">\n",
       "      <th></th>\n",
       "      <th>term</th>\n",
       "      <th>weight</th>\n",
       "    </tr>\n",
       "  </thead>\n",
       "  <tbody>\n",
       "    <tr>\n",
       "      <th>840</th>\n",
       "      <td>bank</td>\n",
       "      <td>0.031818</td>\n",
       "    </tr>\n",
       "    <tr>\n",
       "      <th>8231</th>\n",
       "      <td>πειραιώς</td>\n",
       "      <td>0.030805</td>\n",
       "    </tr>\n",
       "    <tr>\n",
       "      <th>791</th>\n",
       "      <td>alpha</td>\n",
       "      <td>0.030082</td>\n",
       "    </tr>\n",
       "    <tr>\n",
       "      <th>1037</th>\n",
       "      <td>eurobank</td>\n",
       "      <td>0.028103</td>\n",
       "    </tr>\n",
       "    <tr>\n",
       "      <th>10125</th>\n",
       "      <td>τράπεζα</td>\n",
       "      <td>0.027429</td>\n",
       "    </tr>\n",
       "    <tr>\n",
       "      <th>4392</th>\n",
       "      <td>εθνική</td>\n",
       "      <td>0.025617</td>\n",
       "    </tr>\n",
       "    <tr>\n",
       "      <th>5350</th>\n",
       "      <td>ευρώ</td>\n",
       "      <td>0.021129</td>\n",
       "    </tr>\n",
       "    <tr>\n",
       "      <th>10131</th>\n",
       "      <td>τράπεζας</td>\n",
       "      <td>0.018987</td>\n",
       "    </tr>\n",
       "    <tr>\n",
       "      <th>10134</th>\n",
       "      <td>τράπεζες</td>\n",
       "      <td>0.016922</td>\n",
       "    </tr>\n",
       "    <tr>\n",
       "      <th>8930</th>\n",
       "      <td>πρόεδρος</td>\n",
       "      <td>0.014369</td>\n",
       "    </tr>\n",
       "    <tr>\n",
       "      <th>4393</th>\n",
       "      <td>εθνικής</td>\n",
       "      <td>0.013252</td>\n",
       "    </tr>\n",
       "    <tr>\n",
       "      <th>4468</th>\n",
       "      <td>εκατ</td>\n",
       "      <td>0.011293</td>\n",
       "    </tr>\n",
       "    <tr>\n",
       "      <th>10768</th>\n",
       "      <td>χαρδούβελης</td>\n",
       "      <td>0.011142</td>\n",
       "    </tr>\n",
       "    <tr>\n",
       "      <th>3538</th>\n",
       "      <td>γκίκας</td>\n",
       "      <td>0.010805</td>\n",
       "    </tr>\n",
       "    <tr>\n",
       "      <th>4922</th>\n",
       "      <td>εξωτερικό</td>\n",
       "      <td>0.010567</td>\n",
       "    </tr>\n",
       "    <tr>\n",
       "      <th>10166</th>\n",
       "      <td>τραπεζα</td>\n",
       "      <td>0.009798</td>\n",
       "    </tr>\n",
       "    <tr>\n",
       "      <th>1974</th>\n",
       "      <td>έχει</td>\n",
       "      <td>0.008656</td>\n",
       "    </tr>\n",
       "    <tr>\n",
       "      <th>8978</th>\n",
       "      <td>πτώση</td>\n",
       "      <td>0.008584</td>\n",
       "    </tr>\n",
       "    <tr>\n",
       "      <th>6847</th>\n",
       "      <td>μέσω</td>\n",
       "      <td>0.008449</td>\n",
       "    </tr>\n",
       "    <tr>\n",
       "      <th>6972</th>\n",
       "      <td>μεγαλύτερη</td>\n",
       "      <td>0.008221</td>\n",
       "    </tr>\n",
       "  </tbody>\n",
       "</table>\n",
       "</div>"
      ],
      "text/plain": [
       "              term    weight\n",
       "840           bank  0.031818\n",
       "8231      πειραιώς  0.030805\n",
       "791          alpha  0.030082\n",
       "1037      eurobank  0.028103\n",
       "10125      τράπεζα  0.027429\n",
       "4392        εθνική  0.025617\n",
       "5350          ευρώ  0.021129\n",
       "10131     τράπεζας  0.018987\n",
       "10134     τράπεζες  0.016922\n",
       "8930      πρόεδρος  0.014369\n",
       "4393       εθνικής  0.013252\n",
       "4468          εκατ  0.011293\n",
       "10768  χαρδούβελης  0.011142\n",
       "3538        γκίκας  0.010805\n",
       "4922     εξωτερικό  0.010567\n",
       "10166      τραπεζα  0.009798\n",
       "1974          έχει  0.008656\n",
       "8978         πτώση  0.008584\n",
       "6847          μέσω  0.008449\n",
       "6972    μεγαλύτερη  0.008221"
      ]
     },
     "execution_count": 72,
     "metadata": {},
     "output_type": "execute_result"
    }
   ],
   "source": [
    "# Sort the top 20 keywords\n",
    "weights_df.sort_values(by='weight', ascending=False).head(20)"
   ]
  },
  {
   "cell_type": "markdown",
   "metadata": {},
   "source": [
    "## Word Cloud"
   ]
  },
  {
   "cell_type": "code",
   "execution_count": 75,
   "metadata": {},
   "outputs": [],
   "source": [
    "allwords = ' '.join( [twts for twts in df_text_clean_rs] )"
   ]
  },
  {
   "cell_type": "code",
   "execution_count": 76,
   "metadata": {},
   "outputs": [
    {
     "data": {
      "image/png": "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\n",
      "text/plain": [
       "<Figure size 432x288 with 1 Axes>"
      ]
     },
     "metadata": {
      "needs_background": "light"
     },
     "output_type": "display_data"
    }
   ],
   "source": [
    "wordcloud = WordCloud(width=500, height=300, random_state=21, max_font_size=119).generate(allwords)\n",
    "\n",
    "plt.imshow(wordcloud, interpolation = \"bilinear\")\n",
    "plt.axis('off')\n",
    "plt.show()"
   ]
  },
  {
   "cell_type": "markdown",
   "metadata": {},
   "source": [
    "*3-grams based on TF-IDF score*"
   ]
  },
  {
   "cell_type": "code",
   "execution_count": 77,
   "metadata": {
    "scrolled": false
   },
   "outputs": [],
   "source": [
    "# Getting trigrams \n",
    "vectorizer = CountVectorizer(ngram_range = (3,3))\n",
    "X2 = vectorizer.fit_transform(df_text_clean_rs) \n",
    "features = (vectorizer.get_feature_names())\n",
    "#print(\"\\n\\nFeatures : \\n\", features)\n",
    "#print(\"\\n\\nX1 : \\n\", X1.toarray())"
   ]
  },
  {
   "cell_type": "code",
   "execution_count": 78,
   "metadata": {},
   "outputs": [
    {
     "name": "stdout",
     "output_type": "stream",
     "text": [
      "\n",
      "\n",
      "Scores : \n",
      " [[0. 0. 0. ... 0. 0. 0.]\n",
      " [0. 0. 0. ... 0. 0. 0.]\n",
      " [0. 0. 0. ... 0. 0. 0.]\n",
      " ...\n",
      " [0. 0. 0. ... 0. 0. 0.]\n",
      " [0. 0. 0. ... 0. 0. 0.]\n",
      " [0. 0. 0. ... 0. 0. 0.]]\n"
     ]
    }
   ],
   "source": [
    "# Applying TFIDF\n",
    "vectorizer = TfidfVectorizer(ngram_range = (3,3))\n",
    "X2 = vectorizer.fit_transform(df_text_clean_rs)\n",
    "scores_Χ2 = (X2.toarray())\n",
    "print(\"\\n\\nScores : \\n\", scores_Χ2)"
   ]
  },
  {
   "cell_type": "code",
   "execution_count": 79,
   "metadata": {},
   "outputs": [
    {
     "name": "stdout",
     "output_type": "stream",
     "text": [
      "\n",
      "\n",
      "Words head : \n",
      "                                term      rank\n",
      "23078     πρόεδρος εθνικής τράπεζας  0.007039\n",
      "8780     αύξηση μετοχικού κεφαλαίου  0.005398\n",
      "23077       πρόεδρος εθνική τράπεζα  0.004857\n",
      "24294         στην τραπεζα πειραιως  0.004514\n",
      "8475               ατε στην τραπεζα  0.004328\n",
      "25764                  της ατε στην  0.004328\n",
      "20861              παραδοση της ατε  0.004328\n",
      "28386  χρησιμοποιώντας κόλπο έκαναν  0.004296\n",
      "5589             έκρυψε δεθ δείχνει  0.004296\n",
      "20864       παραδώσουν ιδιώτες μόνο  0.004296\n"
     ]
    }
   ],
   "source": [
    "mean_X2 = X2.mean(axis = 0)\n",
    "data1 = []\n",
    "for col, term in enumerate(features):\n",
    "    data1.append( (term, mean_X2[0,col] ))\n",
    "ranking = pd.DataFrame(data1, columns = ['term','rank'])\n",
    "words = (ranking.sort_values('rank', ascending = False))\n",
    "print (\"\\n\\nWords head : \\n\", words.head(10))"
   ]
  },
  {
   "cell_type": "markdown",
   "metadata": {},
   "source": [
    "*2-grams based on TF-IDF score*"
   ]
  },
  {
   "cell_type": "code",
   "execution_count": 80,
   "metadata": {},
   "outputs": [],
   "source": [
    "# Getting bigrams \n",
    "vectorizer = CountVectorizer(ngram_range = (2,2))\n",
    "X1 = vectorizer.fit_transform(df_text_clean_rs) \n",
    "features = (vectorizer.get_feature_names())\n",
    "#print(\"\\n\\nFeatures : \\n\", features)\n",
    "#print(\"\\n\\nX1 : \\n\", X1.toarray())"
   ]
  },
  {
   "cell_type": "code",
   "execution_count": 81,
   "metadata": {},
   "outputs": [
    {
     "name": "stdout",
     "output_type": "stream",
     "text": [
      "\n",
      "\n",
      "Scores : \n",
      " [[0. 0. 0. ... 0. 0. 0.]\n",
      " [0. 0. 0. ... 0. 0. 0.]\n",
      " [0. 0. 0. ... 0. 0. 0.]\n",
      " ...\n",
      " [0. 0. 0. ... 0. 0. 0.]\n",
      " [0. 0. 0. ... 0. 0. 0.]\n",
      " [0. 0. 0. ... 0. 0. 0.]]\n"
     ]
    }
   ],
   "source": [
    "# Applying TFIDF\n",
    "vectorizer = TfidfVectorizer(ngram_range = (2,2))\n",
    "X1 = vectorizer.fit_transform(df_text_clean_rs)\n",
    "scores = (X2.toarray())\n",
    "print(\"\\n\\nScores : \\n\", scores)"
   ]
  },
  {
   "cell_type": "code",
   "execution_count": 82,
   "metadata": {},
   "outputs": [
    {
     "name": "stdout",
     "output_type": "stream",
     "text": [
      "\n",
      "\n",
      "Words head : \n",
      "                       term      rank\n",
      "1639            alpha bank  0.022834\n",
      "10357       εθνική τράπεζα  0.012971\n",
      "23970     τράπεζα πειραιώς  0.012683\n",
      "10382     εθνικής τράπεζας  0.010930\n",
      "8320    γκίκας χαρδούβελης  0.008491\n",
      "24130    τράπεζας πειραιώς  0.008362\n",
      "20994     πρόεδρος εθνικής  0.007211\n",
      "24218  τράπεζες μεγαλύτερη  0.005785\n",
      "15503      λεφτά εξωτερικό  0.005640\n",
      "16557  μετοχικού κεφαλαίου  0.005582\n"
     ]
    }
   ],
   "source": [
    "means_X1 = X1.mean(axis = 0)\n",
    "data1 = []\n",
    "for col, term in enumerate(features):\n",
    "    data1.append( (term, means_X1[0,col] ))\n",
    "ranking = pd.DataFrame(data1, columns = ['term','rank'])\n",
    "words = (ranking.sort_values('rank', ascending = False))\n",
    "print (\"\\n\\nWords head : \\n\", words.head(10))"
   ]
  },
  {
   "cell_type": "markdown",
   "metadata": {},
   "source": [
    "# Modelling - Sentiment Classification"
   ]
  },
  {
   "cell_type": "markdown",
   "metadata": {},
   "source": [
    "## Random Forest classifier"
   ]
  },
  {
   "cell_type": "code",
   "execution_count": 83,
   "metadata": {},
   "outputs": [],
   "source": [
    "# The vector with the sentiment. Based on these values we will do the classification\n",
    "y = df.iloc[:, 5].values"
   ]
  },
  {
   "cell_type": "code",
   "execution_count": 84,
   "metadata": {},
   "outputs": [],
   "source": [
    "from sklearn.model_selection import train_test_split  \n",
    "from sklearn.metrics import classification_report, confusion_matrix, accuracy_score\n",
    "X_train, X_test, y_train, y_test = train_test_split(x, y, test_size=0.2, random_state=0)"
   ]
  },
  {
   "cell_type": "code",
   "execution_count": 85,
   "metadata": {},
   "outputs": [
    {
     "data": {
      "text/plain": [
       "RandomForestClassifier(bootstrap=True, class_weight=None, criterion='gini',\n",
       "            max_depth=None, max_features='auto', max_leaf_nodes=None,\n",
       "            min_impurity_decrease=0.0, min_impurity_split=None,\n",
       "            min_samples_leaf=1, min_samples_split=2,\n",
       "            min_weight_fraction_leaf=0.0, n_estimators=100, n_jobs=None,\n",
       "            oob_score=False, random_state=0, verbose=0, warm_start=False)"
      ]
     },
     "execution_count": 85,
     "metadata": {},
     "output_type": "execute_result"
    }
   ],
   "source": [
    "from sklearn.ensemble import RandomForestClassifier\n",
    "text_classifier = RandomForestClassifier(n_estimators=100, random_state=0)  \n",
    "text_classifier.fit(X_train, y_train)"
   ]
  },
  {
   "cell_type": "code",
   "execution_count": 86,
   "metadata": {},
   "outputs": [
    {
     "name": "stdout",
     "output_type": "stream",
     "text": [
      "[[443  72   1]\n",
      " [ 29 441   1]\n",
      " [  0   5   8]]\n",
      "              precision    recall  f1-score   support\n",
      "\n",
      "    negative       0.94      0.86      0.90       516\n",
      "     neutral       0.85      0.94      0.89       471\n",
      "    positive       0.80      0.62      0.70        13\n",
      "\n",
      "   micro avg       0.89      0.89      0.89      1000\n",
      "   macro avg       0.86      0.80      0.83      1000\n",
      "weighted avg       0.90      0.89      0.89      1000\n",
      "\n",
      "0.892\n"
     ]
    }
   ],
   "source": [
    "predictions = text_classifier.predict(X_test)\n",
    " \n",
    "print(confusion_matrix(y_test,predictions))  \n",
    "print(classification_report(y_test,predictions))  \n",
    "print(accuracy_score(y_test, predictions))"
   ]
  },
  {
   "cell_type": "markdown",
   "metadata": {},
   "source": [
    "**The accuracy score is 0.89**"
   ]
  },
  {
   "cell_type": "markdown",
   "metadata": {},
   "source": [
    "## Logistic Regression"
   ]
  },
  {
   "cell_type": "code",
   "execution_count": 23,
   "metadata": {
    "scrolled": true
   },
   "outputs": [
    {
     "name": "stderr",
     "output_type": "stream",
     "text": [
      "[Parallel(n_jobs=1)]: Using backend SequentialBackend with 1 concurrent workers.\n",
      "C:\\Users\\uogss\\AppData\\Local\\Continuum\\anaconda3\\lib\\site-packages\\sklearn\\linear_model\\logistic.py:758: ConvergenceWarning: lbfgs failed to converge. Increase the number of iterations.\n",
      "  \"of iterations.\", ConvergenceWarning)\n",
      "C:\\Users\\uogss\\AppData\\Local\\Continuum\\anaconda3\\lib\\site-packages\\sklearn\\linear_model\\logistic.py:758: ConvergenceWarning: lbfgs failed to converge. Increase the number of iterations.\n",
      "  \"of iterations.\", ConvergenceWarning)\n",
      "C:\\Users\\uogss\\AppData\\Local\\Continuum\\anaconda3\\lib\\site-packages\\sklearn\\linear_model\\logistic.py:758: ConvergenceWarning: lbfgs failed to converge. Increase the number of iterations.\n",
      "  \"of iterations.\", ConvergenceWarning)\n",
      "C:\\Users\\uogss\\AppData\\Local\\Continuum\\anaconda3\\lib\\site-packages\\sklearn\\linear_model\\logistic.py:758: ConvergenceWarning: lbfgs failed to converge. Increase the number of iterations.\n",
      "  \"of iterations.\", ConvergenceWarning)\n",
      "C:\\Users\\uogss\\AppData\\Local\\Continuum\\anaconda3\\lib\\site-packages\\sklearn\\linear_model\\logistic.py:758: ConvergenceWarning: lbfgs failed to converge. Increase the number of iterations.\n",
      "  \"of iterations.\", ConvergenceWarning)\n",
      "C:\\Users\\uogss\\AppData\\Local\\Continuum\\anaconda3\\lib\\site-packages\\sklearn\\linear_model\\logistic.py:758: ConvergenceWarning: lbfgs failed to converge. Increase the number of iterations.\n",
      "  \"of iterations.\", ConvergenceWarning)\n",
      "C:\\Users\\uogss\\AppData\\Local\\Continuum\\anaconda3\\lib\\site-packages\\sklearn\\linear_model\\logistic.py:758: ConvergenceWarning: lbfgs failed to converge. Increase the number of iterations.\n",
      "  \"of iterations.\", ConvergenceWarning)\n",
      "C:\\Users\\uogss\\AppData\\Local\\Continuum\\anaconda3\\lib\\site-packages\\sklearn\\linear_model\\logistic.py:758: ConvergenceWarning: lbfgs failed to converge. Increase the number of iterations.\n",
      "  \"of iterations.\", ConvergenceWarning)\n",
      "C:\\Users\\uogss\\AppData\\Local\\Continuum\\anaconda3\\lib\\site-packages\\sklearn\\linear_model\\logistic.py:758: ConvergenceWarning: lbfgs failed to converge. Increase the number of iterations.\n",
      "  \"of iterations.\", ConvergenceWarning)\n",
      "C:\\Users\\uogss\\AppData\\Local\\Continuum\\anaconda3\\lib\\site-packages\\sklearn\\linear_model\\logistic.py:758: ConvergenceWarning: lbfgs failed to converge. Increase the number of iterations.\n",
      "  \"of iterations.\", ConvergenceWarning)\n",
      "C:\\Users\\uogss\\AppData\\Local\\Continuum\\anaconda3\\lib\\site-packages\\sklearn\\linear_model\\logistic.py:758: ConvergenceWarning: lbfgs failed to converge. Increase the number of iterations.\n",
      "  \"of iterations.\", ConvergenceWarning)\n",
      "C:\\Users\\uogss\\AppData\\Local\\Continuum\\anaconda3\\lib\\site-packages\\sklearn\\linear_model\\logistic.py:758: ConvergenceWarning: lbfgs failed to converge. Increase the number of iterations.\n",
      "  \"of iterations.\", ConvergenceWarning)\n",
      "C:\\Users\\uogss\\AppData\\Local\\Continuum\\anaconda3\\lib\\site-packages\\sklearn\\linear_model\\logistic.py:758: ConvergenceWarning: lbfgs failed to converge. Increase the number of iterations.\n",
      "  \"of iterations.\", ConvergenceWarning)\n",
      "C:\\Users\\uogss\\AppData\\Local\\Continuum\\anaconda3\\lib\\site-packages\\sklearn\\linear_model\\logistic.py:758: ConvergenceWarning: lbfgs failed to converge. Increase the number of iterations.\n",
      "  \"of iterations.\", ConvergenceWarning)\n",
      "C:\\Users\\uogss\\AppData\\Local\\Continuum\\anaconda3\\lib\\site-packages\\sklearn\\linear_model\\logistic.py:758: ConvergenceWarning: lbfgs failed to converge. Increase the number of iterations.\n",
      "  \"of iterations.\", ConvergenceWarning)\n",
      "C:\\Users\\uogss\\AppData\\Local\\Continuum\\anaconda3\\lib\\site-packages\\sklearn\\linear_model\\logistic.py:758: ConvergenceWarning: lbfgs failed to converge. Increase the number of iterations.\n",
      "  \"of iterations.\", ConvergenceWarning)\n",
      "C:\\Users\\uogss\\AppData\\Local\\Continuum\\anaconda3\\lib\\site-packages\\sklearn\\linear_model\\logistic.py:758: ConvergenceWarning: lbfgs failed to converge. Increase the number of iterations.\n",
      "  \"of iterations.\", ConvergenceWarning)\n",
      "[Parallel(n_jobs=1)]: Done   5 out of   5 | elapsed:  2.1min finished\n"
     ]
    }
   ],
   "source": [
    "import pickle \n",
    "from sklearn.linear_model import LogisticRegressionCV\n",
    "\n",
    "clf = LogisticRegressionCV(cv=5,\n",
    "                          scoring='accuracy',\n",
    "                          random_state=0,\n",
    "                          n_jobs=1,\n",
    "                          verbose=1,\n",
    "                          max_iter=100,\n",
    "                          multi_class='multinomial').fit(X_train, y_train)\n",
    "saved_model = open('saved_model.csv', 'wb')\n",
    "pickle.dump(clf, saved_model)\n",
    "saved_model.close()"
   ]
  },
  {
   "cell_type": "code",
   "execution_count": 24,
   "metadata": {},
   "outputs": [],
   "source": [
    "filename = 'saved_model.csv'\n",
    "saved_clf = pickle.load(open(filename, 'rb'))"
   ]
  },
  {
   "cell_type": "code",
   "execution_count": 25,
   "metadata": {},
   "outputs": [
    {
     "name": "stderr",
     "output_type": "stream",
     "text": [
      "C:\\Users\\uogss\\AppData\\Local\\Continuum\\anaconda3\\lib\\site-packages\\sklearn\\linear_model\\logistic.py:1926: ChangedBehaviorWarning: The long-standing behavior to use the accuracy score has changed. The scoring parameter is now used. This warning will disappear in version 0.22.\n",
      "  ChangedBehaviorWarning)\n"
     ]
    },
    {
     "data": {
      "text/plain": [
       "0.922"
      ]
     },
     "execution_count": 25,
     "metadata": {},
     "output_type": "execute_result"
    }
   ],
   "source": [
    "saved_clf.score(X_test, y_test)"
   ]
  },
  {
   "cell_type": "markdown",
   "metadata": {},
   "source": [
    "**The accuracy score is 0.92**"
   ]
  },
  {
   "cell_type": "markdown",
   "metadata": {},
   "source": [
    "## Support Vector Classifier"
   ]
  },
  {
   "cell_type": "code",
   "execution_count": 48,
   "metadata": {},
   "outputs": [
    {
     "data": {
      "text/plain": [
       "LinearSVC(C=1.0, class_weight=None, dual=True, fit_intercept=True,\n",
       "     intercept_scaling=1, loss='squared_hinge', max_iter=1000,\n",
       "     multi_class='ovr', penalty='l2', random_state=None, tol=0.0001,\n",
       "     verbose=0)"
      ]
     },
     "execution_count": 48,
     "metadata": {},
     "output_type": "execute_result"
    }
   ],
   "source": [
    "from sklearn.svm import LinearSVC\n",
    "clf = LinearSVC()\n",
    "clf.fit(X_train, y_train)"
   ]
  },
  {
   "cell_type": "code",
   "execution_count": 49,
   "metadata": {},
   "outputs": [],
   "source": [
    "y_pred = clf.predict(X_test)"
   ]
  },
  {
   "cell_type": "code",
   "execution_count": 50,
   "metadata": {},
   "outputs": [
    {
     "name": "stdout",
     "output_type": "stream",
     "text": [
      "              precision    recall  f1-score   support\n",
      "\n",
      "    negative       0.92      0.95      0.93       516\n",
      "     neutral       0.93      0.91      0.92       471\n",
      "    positive       0.80      0.62      0.70        13\n",
      "\n",
      "   micro avg       0.93      0.93      0.93      1000\n",
      "   macro avg       0.88      0.82      0.85      1000\n",
      "weighted avg       0.93      0.93      0.93      1000\n",
      "\n"
     ]
    }
   ],
   "source": [
    "print(classification_report(y_test, y_pred))"
   ]
  },
 ],
 "metadata": {
  "kernelspec": {
   "display_name": "Python 3",
   "language": "python",
   "name": "python3"
  },
  "language_info": {
   "codemirror_mode": {
    "name": "ipython",
    "version": 3
   },
   "file_extension": ".py",
   "mimetype": "text/x-python",
   "name": "python",
   "nbconvert_exporter": "python",
   "pygments_lexer": "ipython3",
   "version": "3.7.3"
  }
 },
 "nbformat": 4,
 "nbformat_minor": 2
}
