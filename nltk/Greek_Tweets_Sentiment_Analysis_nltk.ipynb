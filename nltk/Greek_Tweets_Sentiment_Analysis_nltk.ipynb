{
  "nbformat": 4,
  "nbformat_minor": 0,
  "metadata": {
    "kernelspec": {
      "display_name": "Python 3",
      "language": "python",
      "name": "python3"
    },
    "language_info": {
      "codemirror_mode": {
        "name": "ipython",
        "version": 3
      },
      "file_extension": ".py",
      "mimetype": "text/x-python",
      "name": "python",
      "nbconvert_exporter": "python",
      "pygments_lexer": "ipython3",
      "version": "3.7.3"
    },
    "colab": {
      "provenance": []
    }
  },
  "cells": [
    {
      "cell_type": "code",
      "metadata": {
        "id": "VtHNQIC4VGoA"
      },
      "source": [
        "import json\n",
        "import pandas as pd\n",
        "import matplotlib.pyplot as plt\n",
        "from wordcloud import WordCloud\n",
        "import seaborn as sns\n",
        "import re\n",
        "import numpy as np\n",
        "import sklearn\n",
        "from sklearn.feature_extraction.text import CountVectorizer\n",
        "from sklearn.feature_extraction.text import TfidfVectorizer\n",
        "from sklearn import preprocessing"
      ],
      "execution_count": 31,
      "outputs": []
    },
    {
      "cell_type": "markdown",
      "metadata": {
        "id": "soLRs0MiVGoD"
      },
      "source": [
        "## Read the dataset"
      ]
    },
    {
      "cell_type": "code",
      "metadata": {
        "id": "P-XMIcjLVGoD"
      },
      "source": [
        "tweets = []\n",
        "for line in open('bank_greek_tweets.json', 'r'):\n",
        "    tweets.append(json.loads(line))"
      ],
      "execution_count": 2,
      "outputs": []
    },
    {
      "cell_type": "code",
      "metadata": {
        "id": "DoawLX7eVGoE"
      },
      "source": [
        "# Store as a dataframe\n",
        "df = pd.DataFrame(tweets)"
      ],
      "execution_count": 3,
      "outputs": []
    },
    {
      "cell_type": "code",
      "metadata": {
        "id": "DEEW8uK6VGoE",
        "outputId": "c8796764-997e-4120-f449-19e8b878ceb0",
        "colab": {
          "base_uri": "https://localhost:8080/",
          "height": 206
        }
      },
      "source": [
        "df.head()"
      ],
      "execution_count": 4,
      "outputs": [
        {
          "output_type": "execute_result",
          "data": {
            "text/plain": [
              "                    id  channel  \\\n",
              "0  1402218796425924611  twitter   \n",
              "1  1441689475105624067  twitter   \n",
              "2  1415971011229634565  twitter   \n",
              "3  1435188973878579202  twitter   \n",
              "4  1412508851467960320  twitter   \n",
              "\n",
              "                                                text               createdate  \\\n",
              "0  RT @re_aiiii: H eurobank έβγαλε διαφήμιση ότι ...  2021-06-08 10:59:47.000   \n",
              "1  RT @GTrapeziotis: Κανονικά ο Βαξεβάνης θα πρέπ...  2021-09-25 09:02:10.000   \n",
              "2  ΔΕΛΤΙΟ ΤΥΠΟΥ Συνάντηση μελών της ΚΟ του ΜέΡΑ25...  2021-07-16 09:46:11.000   \n",
              "3  Στις τράπεζες, οριακή άνοδο καταγράφουν Πειραι...  2021-09-07 10:31:30.000   \n",
              "4  RT @spigaro: Πρόεδρος στην Εθνική Τράπεζα ο Γκ...  2021-07-06 20:28:47.000   \n",
              "\n",
              "   impact       query_name sentiment  \n",
              "0    0.20         Eurobank  negative  \n",
              "1    0.10     Piraeus Bank   neutral  \n",
              "2    0.07     Piraeus Bank  negative  \n",
              "3    0.30       Alpha Bank   neutral  \n",
              "4    0.13  Ethniki Trapeza  negative  "
            ],
            "text/html": [
              "\n",
              "  <div id=\"df-9738510d-ad5d-473c-9809-d8b3c65161ca\">\n",
              "    <div class=\"colab-df-container\">\n",
              "      <div>\n",
              "<style scoped>\n",
              "    .dataframe tbody tr th:only-of-type {\n",
              "        vertical-align: middle;\n",
              "    }\n",
              "\n",
              "    .dataframe tbody tr th {\n",
              "        vertical-align: top;\n",
              "    }\n",
              "\n",
              "    .dataframe thead th {\n",
              "        text-align: right;\n",
              "    }\n",
              "</style>\n",
              "<table border=\"1\" class=\"dataframe\">\n",
              "  <thead>\n",
              "    <tr style=\"text-align: right;\">\n",
              "      <th></th>\n",
              "      <th>id</th>\n",
              "      <th>channel</th>\n",
              "      <th>text</th>\n",
              "      <th>createdate</th>\n",
              "      <th>impact</th>\n",
              "      <th>query_name</th>\n",
              "      <th>sentiment</th>\n",
              "    </tr>\n",
              "  </thead>\n",
              "  <tbody>\n",
              "    <tr>\n",
              "      <th>0</th>\n",
              "      <td>1402218796425924611</td>\n",
              "      <td>twitter</td>\n",
              "      <td>RT @re_aiiii: H eurobank έβγαλε διαφήμιση ότι ...</td>\n",
              "      <td>2021-06-08 10:59:47.000</td>\n",
              "      <td>0.20</td>\n",
              "      <td>Eurobank</td>\n",
              "      <td>negative</td>\n",
              "    </tr>\n",
              "    <tr>\n",
              "      <th>1</th>\n",
              "      <td>1441689475105624067</td>\n",
              "      <td>twitter</td>\n",
              "      <td>RT @GTrapeziotis: Κανονικά ο Βαξεβάνης θα πρέπ...</td>\n",
              "      <td>2021-09-25 09:02:10.000</td>\n",
              "      <td>0.10</td>\n",
              "      <td>Piraeus Bank</td>\n",
              "      <td>neutral</td>\n",
              "    </tr>\n",
              "    <tr>\n",
              "      <th>2</th>\n",
              "      <td>1415971011229634565</td>\n",
              "      <td>twitter</td>\n",
              "      <td>ΔΕΛΤΙΟ ΤΥΠΟΥ Συνάντηση μελών της ΚΟ του ΜέΡΑ25...</td>\n",
              "      <td>2021-07-16 09:46:11.000</td>\n",
              "      <td>0.07</td>\n",
              "      <td>Piraeus Bank</td>\n",
              "      <td>negative</td>\n",
              "    </tr>\n",
              "    <tr>\n",
              "      <th>3</th>\n",
              "      <td>1435188973878579202</td>\n",
              "      <td>twitter</td>\n",
              "      <td>Στις τράπεζες, οριακή άνοδο καταγράφουν Πειραι...</td>\n",
              "      <td>2021-09-07 10:31:30.000</td>\n",
              "      <td>0.30</td>\n",
              "      <td>Alpha Bank</td>\n",
              "      <td>neutral</td>\n",
              "    </tr>\n",
              "    <tr>\n",
              "      <th>4</th>\n",
              "      <td>1412508851467960320</td>\n",
              "      <td>twitter</td>\n",
              "      <td>RT @spigaro: Πρόεδρος στην Εθνική Τράπεζα ο Γκ...</td>\n",
              "      <td>2021-07-06 20:28:47.000</td>\n",
              "      <td>0.13</td>\n",
              "      <td>Ethniki Trapeza</td>\n",
              "      <td>negative</td>\n",
              "    </tr>\n",
              "  </tbody>\n",
              "</table>\n",
              "</div>\n",
              "      <button class=\"colab-df-convert\" onclick=\"convertToInteractive('df-9738510d-ad5d-473c-9809-d8b3c65161ca')\"\n",
              "              title=\"Convert this dataframe to an interactive table.\"\n",
              "              style=\"display:none;\">\n",
              "        \n",
              "  <svg xmlns=\"http://www.w3.org/2000/svg\" height=\"24px\"viewBox=\"0 0 24 24\"\n",
              "       width=\"24px\">\n",
              "    <path d=\"M0 0h24v24H0V0z\" fill=\"none\"/>\n",
              "    <path d=\"M18.56 5.44l.94 2.06.94-2.06 2.06-.94-2.06-.94-.94-2.06-.94 2.06-2.06.94zm-11 1L8.5 8.5l.94-2.06 2.06-.94-2.06-.94L8.5 2.5l-.94 2.06-2.06.94zm10 10l.94 2.06.94-2.06 2.06-.94-2.06-.94-.94-2.06-.94 2.06-2.06.94z\"/><path d=\"M17.41 7.96l-1.37-1.37c-.4-.4-.92-.59-1.43-.59-.52 0-1.04.2-1.43.59L10.3 9.45l-7.72 7.72c-.78.78-.78 2.05 0 2.83L4 21.41c.39.39.9.59 1.41.59.51 0 1.02-.2 1.41-.59l7.78-7.78 2.81-2.81c.8-.78.8-2.07 0-2.86zM5.41 20L4 18.59l7.72-7.72 1.47 1.35L5.41 20z\"/>\n",
              "  </svg>\n",
              "      </button>\n",
              "      \n",
              "  <style>\n",
              "    .colab-df-container {\n",
              "      display:flex;\n",
              "      flex-wrap:wrap;\n",
              "      gap: 12px;\n",
              "    }\n",
              "\n",
              "    .colab-df-convert {\n",
              "      background-color: #E8F0FE;\n",
              "      border: none;\n",
              "      border-radius: 50%;\n",
              "      cursor: pointer;\n",
              "      display: none;\n",
              "      fill: #1967D2;\n",
              "      height: 32px;\n",
              "      padding: 0 0 0 0;\n",
              "      width: 32px;\n",
              "    }\n",
              "\n",
              "    .colab-df-convert:hover {\n",
              "      background-color: #E2EBFA;\n",
              "      box-shadow: 0px 1px 2px rgba(60, 64, 67, 0.3), 0px 1px 3px 1px rgba(60, 64, 67, 0.15);\n",
              "      fill: #174EA6;\n",
              "    }\n",
              "\n",
              "    [theme=dark] .colab-df-convert {\n",
              "      background-color: #3B4455;\n",
              "      fill: #D2E3FC;\n",
              "    }\n",
              "\n",
              "    [theme=dark] .colab-df-convert:hover {\n",
              "      background-color: #434B5C;\n",
              "      box-shadow: 0px 1px 3px 1px rgba(0, 0, 0, 0.15);\n",
              "      filter: drop-shadow(0px 1px 2px rgba(0, 0, 0, 0.3));\n",
              "      fill: #FFFFFF;\n",
              "    }\n",
              "  </style>\n",
              "\n",
              "      <script>\n",
              "        const buttonEl =\n",
              "          document.querySelector('#df-9738510d-ad5d-473c-9809-d8b3c65161ca button.colab-df-convert');\n",
              "        buttonEl.style.display =\n",
              "          google.colab.kernel.accessAllowed ? 'block' : 'none';\n",
              "\n",
              "        async function convertToInteractive(key) {\n",
              "          const element = document.querySelector('#df-9738510d-ad5d-473c-9809-d8b3c65161ca');\n",
              "          const dataTable =\n",
              "            await google.colab.kernel.invokeFunction('convertToInteractive',\n",
              "                                                     [key], {});\n",
              "          if (!dataTable) return;\n",
              "\n",
              "          const docLinkHtml = 'Like what you see? Visit the ' +\n",
              "            '<a target=\"_blank\" href=https://colab.research.google.com/notebooks/data_table.ipynb>data table notebook</a>'\n",
              "            + ' to learn more about interactive tables.';\n",
              "          element.innerHTML = '';\n",
              "          dataTable['output_type'] = 'display_data';\n",
              "          await google.colab.output.renderOutput(dataTable, element);\n",
              "          const docLink = document.createElement('div');\n",
              "          docLink.innerHTML = docLinkHtml;\n",
              "          element.appendChild(docLink);\n",
              "        }\n",
              "      </script>\n",
              "    </div>\n",
              "  </div>\n",
              "  "
            ]
          },
          "metadata": {},
          "execution_count": 4
        }
      ]
    },
    {
      "cell_type": "code",
      "metadata": {
        "id": "gfCZ8MKAVGoG"
      },
      "source": [
        "df4 = df[~df.text.str.contains(\"RT\")]"
      ],
      "execution_count": 5,
      "outputs": []
    },
    {
      "cell_type": "code",
      "metadata": {
        "id": "JWnmMUSaVGoG",
        "outputId": "bb6c5bfe-8407-4ff4-e621-71b51df0f4f9"
      },
      "source": [
        "df4.shape"
      ],
      "execution_count": null,
      "outputs": [
        {
          "data": {
            "text/plain": [
              "(2405, 7)"
            ]
          },
          "execution_count": 53,
          "metadata": {},
          "output_type": "execute_result"
        }
      ]
    },
    {
      "cell_type": "markdown",
      "metadata": {
        "id": "eH_E8P66VGoH"
      },
      "source": [
        "## Extract some descriptives"
      ]
    },
    {
      "cell_type": "markdown",
      "metadata": {
        "id": "L9nluwxwVGoI"
      },
      "source": [
        "*With the following command we print a summary of the table about the index type, column type, non-null values and memory usage*"
      ]
    },
    {
      "cell_type": "code",
      "metadata": {
        "id": "AdpxE9ZOVGoJ",
        "outputId": "88ebd4b6-0e81-4d1e-851f-610c125cd63f"
      },
      "source": [
        "print(df.info())"
      ],
      "execution_count": null,
      "outputs": [
        {
          "name": "stdout",
          "output_type": "stream",
          "text": [
            "<class 'pandas.core.frame.DataFrame'>\n",
            "RangeIndex: 5000 entries, 0 to 4999\n",
            "Data columns (total 7 columns):\n",
            "channel       5000 non-null object\n",
            "createdate    5000 non-null object\n",
            "id            5000 non-null int64\n",
            "impact        5000 non-null float64\n",
            "query_name    5000 non-null object\n",
            "sentiment     5000 non-null object\n",
            "text          5000 non-null object\n",
            "dtypes: float64(1), int64(1), object(5)\n",
            "memory usage: 273.5+ KB\n",
            "None\n"
          ]
        }
      ]
    },
    {
      "cell_type": "code",
      "metadata": {
        "id": "TSKYBRIhVGoK",
        "outputId": "bd084b2d-e523-46a1-f031-adb66a078be9"
      },
      "source": [
        "min(df[\"createdate\"])"
      ],
      "execution_count": null,
      "outputs": [
        {
          "data": {
            "text/plain": [
              "'2021-06-02 06:01:28.000'"
            ]
          },
          "execution_count": 108,
          "metadata": {},
          "output_type": "execute_result"
        }
      ]
    },
    {
      "cell_type": "code",
      "metadata": {
        "id": "XpyYMPH4VGoL",
        "outputId": "54021ceb-9ee3-4e8c-baaa-ebbb64ba00b5"
      },
      "source": [
        "max(df[\"createdate\"])"
      ],
      "execution_count": null,
      "outputs": [
        {
          "data": {
            "text/plain": [
              "'2021-10-31 23:33:57.000'"
            ]
          },
          "execution_count": 109,
          "metadata": {},
          "output_type": "execute_result"
        }
      ]
    },
    {
      "cell_type": "markdown",
      "metadata": {
        "id": "PG2obEikVGoL"
      },
      "source": [
        " *We have 5 months of tweets*"
      ]
    },
    {
      "cell_type": "code",
      "metadata": {
        "id": "xotxOMnDVGoM",
        "outputId": "32b5c5a3-cca0-4564-bddc-105734b8d46d"
      },
      "source": [
        "df.channel.unique()"
      ],
      "execution_count": null,
      "outputs": [
        {
          "data": {
            "text/plain": [
              "array(['twitter'], dtype=object)"
            ]
          },
          "execution_count": 110,
          "metadata": {},
          "output_type": "execute_result"
        }
      ]
    },
    {
      "cell_type": "markdown",
      "metadata": {
        "id": "fhENpGBwVGoM"
      },
      "source": [
        "*Only from 'twitter' channel we have data*"
      ]
    },
    {
      "cell_type": "code",
      "metadata": {
        "id": "ZrOHo0MDVGoN",
        "outputId": "98243721-bff7-4ff3-bbbd-6e9d2ef476db"
      },
      "source": [
        "df.query_name.unique()"
      ],
      "execution_count": null,
      "outputs": [
        {
          "data": {
            "text/plain": [
              "array(['Eurobank', 'Piraeus Bank', 'Alpha Bank', 'Ethniki Trapeza'],\n",
              "      dtype=object)"
            ]
          },
          "execution_count": 111,
          "metadata": {},
          "output_type": "execute_result"
        }
      ]
    },
    {
      "cell_type": "markdown",
      "metadata": {
        "id": "JeBiqv6kVGoO"
      },
      "source": [
        "*4 banks in the queries*"
      ]
    },
    {
      "cell_type": "code",
      "metadata": {
        "id": "4uDQG2qgVGoO",
        "outputId": "3fa65cd6-766c-4851-97e4-e50346166f63",
        "colab": {
          "base_uri": "https://localhost:8080/"
        }
      },
      "source": [
        "# Total count of tweets per sentiment\n",
        "df.groupby(\"sentiment\")[\"id\"].count()"
      ],
      "execution_count": 6,
      "outputs": [
        {
          "output_type": "execute_result",
          "data": {
            "text/plain": [
              "sentiment\n",
              "negative    2533\n",
              "neutral     2425\n",
              "positive      42\n",
              "Name: id, dtype: int64"
            ]
          },
          "metadata": {},
          "execution_count": 6
        }
      ]
    },
    {
      "cell_type": "code",
      "metadata": {
        "id": "pkVTOfu0VGoP",
        "outputId": "efadd956-7caf-4714-d95a-114fe4cbe9fc",
        "colab": {
          "base_uri": "https://localhost:8080/"
        }
      },
      "source": [
        "# Total count of tweets per bank\n",
        "df.groupby(\"query_name\")[\"id\"].count().sort_values(ascending=True)"
      ],
      "execution_count": 7,
      "outputs": [
        {
          "output_type": "execute_result",
          "data": {
            "text/plain": [
              "query_name\n",
              "Eurobank            899\n",
              "Alpha Bank         1171\n",
              "Ethniki Trapeza    1400\n",
              "Piraeus Bank       1530\n",
              "Name: id, dtype: int64"
            ]
          },
          "metadata": {},
          "execution_count": 7
        }
      ]
    },
    {
      "cell_type": "code",
      "metadata": {
        "id": "BAIteUWpVGoQ",
        "outputId": "f76b337b-d18e-4fba-fea1-7399a6bd7d60",
        "colab": {
          "base_uri": "https://localhost:8080/",
          "height": 250
        }
      },
      "source": [
        "# df['month'] = df['createdate'].str.slice(0, 7)\n",
        "df['month'] = pd.DatetimeIndex(df['createdate']).month\n",
        "df.head()"
      ],
      "execution_count": 9,
      "outputs": [
        {
          "output_type": "execute_result",
          "data": {
            "text/plain": [
              "                    id  channel  \\\n",
              "0  1402218796425924611  twitter   \n",
              "1  1441689475105624067  twitter   \n",
              "2  1415971011229634565  twitter   \n",
              "3  1435188973878579202  twitter   \n",
              "4  1412508851467960320  twitter   \n",
              "\n",
              "                                                text               createdate  \\\n",
              "0  RT @re_aiiii: H eurobank έβγαλε διαφήμιση ότι ...  2021-06-08 10:59:47.000   \n",
              "1  RT @GTrapeziotis: Κανονικά ο Βαξεβάνης θα πρέπ...  2021-09-25 09:02:10.000   \n",
              "2  ΔΕΛΤΙΟ ΤΥΠΟΥ Συνάντηση μελών της ΚΟ του ΜέΡΑ25...  2021-07-16 09:46:11.000   \n",
              "3  Στις τράπεζες, οριακή άνοδο καταγράφουν Πειραι...  2021-09-07 10:31:30.000   \n",
              "4  RT @spigaro: Πρόεδρος στην Εθνική Τράπεζα ο Γκ...  2021-07-06 20:28:47.000   \n",
              "\n",
              "   impact       query_name sentiment  month  \n",
              "0    0.20         Eurobank  negative      6  \n",
              "1    0.10     Piraeus Bank   neutral      9  \n",
              "2    0.07     Piraeus Bank  negative      7  \n",
              "3    0.30       Alpha Bank   neutral      9  \n",
              "4    0.13  Ethniki Trapeza  negative      7  "
            ],
            "text/html": [
              "\n",
              "  <div id=\"df-e01cca06-58fc-4994-b436-2f2aabf4d8d7\">\n",
              "    <div class=\"colab-df-container\">\n",
              "      <div>\n",
              "<style scoped>\n",
              "    .dataframe tbody tr th:only-of-type {\n",
              "        vertical-align: middle;\n",
              "    }\n",
              "\n",
              "    .dataframe tbody tr th {\n",
              "        vertical-align: top;\n",
              "    }\n",
              "\n",
              "    .dataframe thead th {\n",
              "        text-align: right;\n",
              "    }\n",
              "</style>\n",
              "<table border=\"1\" class=\"dataframe\">\n",
              "  <thead>\n",
              "    <tr style=\"text-align: right;\">\n",
              "      <th></th>\n",
              "      <th>id</th>\n",
              "      <th>channel</th>\n",
              "      <th>text</th>\n",
              "      <th>createdate</th>\n",
              "      <th>impact</th>\n",
              "      <th>query_name</th>\n",
              "      <th>sentiment</th>\n",
              "      <th>month</th>\n",
              "    </tr>\n",
              "  </thead>\n",
              "  <tbody>\n",
              "    <tr>\n",
              "      <th>0</th>\n",
              "      <td>1402218796425924611</td>\n",
              "      <td>twitter</td>\n",
              "      <td>RT @re_aiiii: H eurobank έβγαλε διαφήμιση ότι ...</td>\n",
              "      <td>2021-06-08 10:59:47.000</td>\n",
              "      <td>0.20</td>\n",
              "      <td>Eurobank</td>\n",
              "      <td>negative</td>\n",
              "      <td>6</td>\n",
              "    </tr>\n",
              "    <tr>\n",
              "      <th>1</th>\n",
              "      <td>1441689475105624067</td>\n",
              "      <td>twitter</td>\n",
              "      <td>RT @GTrapeziotis: Κανονικά ο Βαξεβάνης θα πρέπ...</td>\n",
              "      <td>2021-09-25 09:02:10.000</td>\n",
              "      <td>0.10</td>\n",
              "      <td>Piraeus Bank</td>\n",
              "      <td>neutral</td>\n",
              "      <td>9</td>\n",
              "    </tr>\n",
              "    <tr>\n",
              "      <th>2</th>\n",
              "      <td>1415971011229634565</td>\n",
              "      <td>twitter</td>\n",
              "      <td>ΔΕΛΤΙΟ ΤΥΠΟΥ Συνάντηση μελών της ΚΟ του ΜέΡΑ25...</td>\n",
              "      <td>2021-07-16 09:46:11.000</td>\n",
              "      <td>0.07</td>\n",
              "      <td>Piraeus Bank</td>\n",
              "      <td>negative</td>\n",
              "      <td>7</td>\n",
              "    </tr>\n",
              "    <tr>\n",
              "      <th>3</th>\n",
              "      <td>1435188973878579202</td>\n",
              "      <td>twitter</td>\n",
              "      <td>Στις τράπεζες, οριακή άνοδο καταγράφουν Πειραι...</td>\n",
              "      <td>2021-09-07 10:31:30.000</td>\n",
              "      <td>0.30</td>\n",
              "      <td>Alpha Bank</td>\n",
              "      <td>neutral</td>\n",
              "      <td>9</td>\n",
              "    </tr>\n",
              "    <tr>\n",
              "      <th>4</th>\n",
              "      <td>1412508851467960320</td>\n",
              "      <td>twitter</td>\n",
              "      <td>RT @spigaro: Πρόεδρος στην Εθνική Τράπεζα ο Γκ...</td>\n",
              "      <td>2021-07-06 20:28:47.000</td>\n",
              "      <td>0.13</td>\n",
              "      <td>Ethniki Trapeza</td>\n",
              "      <td>negative</td>\n",
              "      <td>7</td>\n",
              "    </tr>\n",
              "  </tbody>\n",
              "</table>\n",
              "</div>\n",
              "      <button class=\"colab-df-convert\" onclick=\"convertToInteractive('df-e01cca06-58fc-4994-b436-2f2aabf4d8d7')\"\n",
              "              title=\"Convert this dataframe to an interactive table.\"\n",
              "              style=\"display:none;\">\n",
              "        \n",
              "  <svg xmlns=\"http://www.w3.org/2000/svg\" height=\"24px\"viewBox=\"0 0 24 24\"\n",
              "       width=\"24px\">\n",
              "    <path d=\"M0 0h24v24H0V0z\" fill=\"none\"/>\n",
              "    <path d=\"M18.56 5.44l.94 2.06.94-2.06 2.06-.94-2.06-.94-.94-2.06-.94 2.06-2.06.94zm-11 1L8.5 8.5l.94-2.06 2.06-.94-2.06-.94L8.5 2.5l-.94 2.06-2.06.94zm10 10l.94 2.06.94-2.06 2.06-.94-2.06-.94-.94-2.06-.94 2.06-2.06.94z\"/><path d=\"M17.41 7.96l-1.37-1.37c-.4-.4-.92-.59-1.43-.59-.52 0-1.04.2-1.43.59L10.3 9.45l-7.72 7.72c-.78.78-.78 2.05 0 2.83L4 21.41c.39.39.9.59 1.41.59.51 0 1.02-.2 1.41-.59l7.78-7.78 2.81-2.81c.8-.78.8-2.07 0-2.86zM5.41 20L4 18.59l7.72-7.72 1.47 1.35L5.41 20z\"/>\n",
              "  </svg>\n",
              "      </button>\n",
              "      \n",
              "  <style>\n",
              "    .colab-df-container {\n",
              "      display:flex;\n",
              "      flex-wrap:wrap;\n",
              "      gap: 12px;\n",
              "    }\n",
              "\n",
              "    .colab-df-convert {\n",
              "      background-color: #E8F0FE;\n",
              "      border: none;\n",
              "      border-radius: 50%;\n",
              "      cursor: pointer;\n",
              "      display: none;\n",
              "      fill: #1967D2;\n",
              "      height: 32px;\n",
              "      padding: 0 0 0 0;\n",
              "      width: 32px;\n",
              "    }\n",
              "\n",
              "    .colab-df-convert:hover {\n",
              "      background-color: #E2EBFA;\n",
              "      box-shadow: 0px 1px 2px rgba(60, 64, 67, 0.3), 0px 1px 3px 1px rgba(60, 64, 67, 0.15);\n",
              "      fill: #174EA6;\n",
              "    }\n",
              "\n",
              "    [theme=dark] .colab-df-convert {\n",
              "      background-color: #3B4455;\n",
              "      fill: #D2E3FC;\n",
              "    }\n",
              "\n",
              "    [theme=dark] .colab-df-convert:hover {\n",
              "      background-color: #434B5C;\n",
              "      box-shadow: 0px 1px 3px 1px rgba(0, 0, 0, 0.15);\n",
              "      filter: drop-shadow(0px 1px 2px rgba(0, 0, 0, 0.3));\n",
              "      fill: #FFFFFF;\n",
              "    }\n",
              "  </style>\n",
              "\n",
              "      <script>\n",
              "        const buttonEl =\n",
              "          document.querySelector('#df-e01cca06-58fc-4994-b436-2f2aabf4d8d7 button.colab-df-convert');\n",
              "        buttonEl.style.display =\n",
              "          google.colab.kernel.accessAllowed ? 'block' : 'none';\n",
              "\n",
              "        async function convertToInteractive(key) {\n",
              "          const element = document.querySelector('#df-e01cca06-58fc-4994-b436-2f2aabf4d8d7');\n",
              "          const dataTable =\n",
              "            await google.colab.kernel.invokeFunction('convertToInteractive',\n",
              "                                                     [key], {});\n",
              "          if (!dataTable) return;\n",
              "\n",
              "          const docLinkHtml = 'Like what you see? Visit the ' +\n",
              "            '<a target=\"_blank\" href=https://colab.research.google.com/notebooks/data_table.ipynb>data table notebook</a>'\n",
              "            + ' to learn more about interactive tables.';\n",
              "          element.innerHTML = '';\n",
              "          dataTable['output_type'] = 'display_data';\n",
              "          await google.colab.output.renderOutput(dataTable, element);\n",
              "          const docLink = document.createElement('div');\n",
              "          docLink.innerHTML = docLinkHtml;\n",
              "          element.appendChild(docLink);\n",
              "        }\n",
              "      </script>\n",
              "    </div>\n",
              "  </div>\n",
              "  "
            ]
          },
          "metadata": {},
          "execution_count": 9
        }
      ]
    },
    {
      "cell_type": "markdown",
      "metadata": {
        "id": "gmKRRtSBVGoR"
      },
      "source": [
        "*We created an extra column named as 'month' based on createdate in order to answer the task questions*"
      ]
    },
    {
      "cell_type": "code",
      "metadata": {
        "id": "nm3T00CmVGoR",
        "outputId": "b83bf1fb-04f0-4c5f-9885-7e11303a1761",
        "colab": {
          "base_uri": "https://localhost:8080/",
          "height": 421
        }
      },
      "source": [
        "df1 = df[df[\"sentiment\"] == \"negative\"].groupby(\"month\")[\"sentiment\"].count()\n",
        "print(df1)\n",
        "df1.plot.bar(x=\"Month\", y=\"Sentiment\")"
      ],
      "execution_count": 10,
      "outputs": [
        {
          "output_type": "stream",
          "name": "stdout",
          "text": [
            "month\n",
            "6     563\n",
            "7     969\n",
            "8     194\n",
            "9     558\n",
            "10    249\n",
            "Name: sentiment, dtype: int64\n"
          ]
        },
        {
          "output_type": "execute_result",
          "data": {
            "text/plain": [
              "<AxesSubplot:xlabel='month'>"
            ]
          },
          "metadata": {},
          "execution_count": 10
        },
        {
          "output_type": "display_data",
          "data": {
            "text/plain": [
              "<Figure size 432x288 with 1 Axes>"
            ],
            "image/png": "[encoded data removed]"
          },
          "metadata": {
            "needs_background": "light"
          }
        }
      ]
    },
    {
      "cell_type": "markdown",
      "metadata": {
        "id": "SvOoJB-NVGoS"
      },
      "source": [
        "**Month 7(July 21) has the biggest number of negative tweets**"
      ]
    },
    {
      "cell_type": "code",
      "metadata": {
        "id": "NPn5e9vSVGoT",
        "outputId": "69225cae-e60a-4061-d003-4b1b536790e2"
      },
      "source": [
        "df2 = df[(df[\"month\"] == 7) & (df[\"sentiment\"] == \"negative\")].groupby(\"query_name\")[\"sentiment\"].count()\n",
        "print(df2)\n",
        "df2.plot.bar()"
      ],
      "execution_count": null,
      "outputs": [
        {
          "name": "stdout",
          "output_type": "stream",
          "text": [
            "query_name\n",
            "Alpha Bank          47\n",
            "Ethniki Trapeza    531\n",
            "Eurobank            70\n",
            "Piraeus Bank       321\n",
            "Name: sentiment, dtype: int64\n"
          ]
        },
        {
          "data": {
            "text/plain": [
              "<matplotlib.axes._subplots.AxesSubplot at 0x16070a068d0>"
            ]
          },
          "execution_count": 121,
          "metadata": {},
          "output_type": "execute_result"
        },
        {
          "data": {
            "image/png": "[encoded data removed]",
            "text/plain": [
              "<Figure size 432x288 with 1 Axes>"
            ]
          },
          "metadata": {
            "needs_background": "light"
          },
          "output_type": "display_data"
        }
      ]
    },
    {
      "cell_type": "markdown",
      "metadata": {
        "id": "DUOBig8mVGoT"
      },
      "source": [
        "**Ethniki trapeza has for July the most negative sentiment**"
      ]
    },
    {
      "cell_type": "code",
      "metadata": {
        "id": "TI10bqlIVGoT"
      },
      "source": [
        "# We select the columns that may could be correlated. The other columns are enumerated\n",
        "df3 = df[[\"impact\", \"query_name\", \"sentiment\"]]"
      ],
      "execution_count": null,
      "outputs": []
    },
    {
      "cell_type": "code",
      "metadata": {
        "id": "56ORU0ePVGoT",
        "outputId": "ef4d8b30-9ee8-4e84-f7ab-765144ed95d6"
      },
      "source": [
        "df3['query_name_code'] = pd.factorize(df['query_name'])[0] + 1\n",
        "df3['sentiment_code'] = pd.factorize(df['sentiment'])[0] + 1\n",
        "df3.head()"
      ],
      "execution_count": null,
      "outputs": [
        {
          "name": "stderr",
          "output_type": "stream",
          "text": [
            "C:\\Users\\uogss\\AppData\\Local\\Continuum\\anaconda3\\lib\\site-packages\\ipykernel_launcher.py:1: SettingWithCopyWarning: \n",
            "A value is trying to be set on a copy of a slice from a DataFrame.\n",
            "Try using .loc[row_indexer,col_indexer] = value instead\n",
            "\n",
            "See the caveats in the documentation: http://pandas.pydata.org/pandas-docs/stable/indexing.html#indexing-view-versus-copy\n",
            "  \"\"\"Entry point for launching an IPython kernel.\n",
            "C:\\Users\\uogss\\AppData\\Local\\Continuum\\anaconda3\\lib\\site-packages\\ipykernel_launcher.py:2: SettingWithCopyWarning: \n",
            "A value is trying to be set on a copy of a slice from a DataFrame.\n",
            "Try using .loc[row_indexer,col_indexer] = value instead\n",
            "\n",
            "See the caveats in the documentation: http://pandas.pydata.org/pandas-docs/stable/indexing.html#indexing-view-versus-copy\n",
            "  \n"
          ]
        },
        {
          "data": {
            "text/html": [
              "<div>\n",
              "<style scoped>\n",
              "    .dataframe tbody tr th:only-of-type {\n",
              "        vertical-align: middle;\n",
              "    }\n",
              "\n",
              "    .dataframe tbody tr th {\n",
              "        vertical-align: top;\n",
              "    }\n",
              "\n",
              "    .dataframe thead th {\n",
              "        text-align: right;\n",
              "    }\n",
              "</style>\n",
              "<table border=\"1\" class=\"dataframe\">\n",
              "  <thead>\n",
              "    <tr style=\"text-align: right;\">\n",
              "      <th></th>\n",
              "      <th>impact</th>\n",
              "      <th>query_name</th>\n",
              "      <th>sentiment</th>\n",
              "      <th>query_name_code</th>\n",
              "      <th>sentiment_code</th>\n",
              "    </tr>\n",
              "  </thead>\n",
              "  <tbody>\n",
              "    <tr>\n",
              "      <th>0</th>\n",
              "      <td>0.20</td>\n",
              "      <td>Eurobank</td>\n",
              "      <td>negative</td>\n",
              "      <td>1</td>\n",
              "      <td>1</td>\n",
              "    </tr>\n",
              "    <tr>\n",
              "      <th>1</th>\n",
              "      <td>0.10</td>\n",
              "      <td>Piraeus Bank</td>\n",
              "      <td>neutral</td>\n",
              "      <td>2</td>\n",
              "      <td>2</td>\n",
              "    </tr>\n",
              "    <tr>\n",
              "      <th>2</th>\n",
              "      <td>0.07</td>\n",
              "      <td>Piraeus Bank</td>\n",
              "      <td>negative</td>\n",
              "      <td>2</td>\n",
              "      <td>1</td>\n",
              "    </tr>\n",
              "    <tr>\n",
              "      <th>3</th>\n",
              "      <td>0.30</td>\n",
              "      <td>Alpha Bank</td>\n",
              "      <td>neutral</td>\n",
              "      <td>3</td>\n",
              "      <td>2</td>\n",
              "    </tr>\n",
              "    <tr>\n",
              "      <th>4</th>\n",
              "      <td>0.13</td>\n",
              "      <td>Ethniki Trapeza</td>\n",
              "      <td>negative</td>\n",
              "      <td>4</td>\n",
              "      <td>1</td>\n",
              "    </tr>\n",
              "  </tbody>\n",
              "</table>\n",
              "</div>"
            ],
            "text/plain": [
              "   impact       query_name sentiment  query_name_code  sentiment_code\n",
              "0    0.20         Eurobank  negative                1               1\n",
              "1    0.10     Piraeus Bank   neutral                2               2\n",
              "2    0.07     Piraeus Bank  negative                2               1\n",
              "3    0.30       Alpha Bank   neutral                3               2\n",
              "4    0.13  Ethniki Trapeza  negative                4               1"
            ]
          },
          "execution_count": 61,
          "metadata": {},
          "output_type": "execute_result"
        }
      ]
    },
    {
      "cell_type": "markdown",
      "metadata": {
        "id": "5utJ233AVGoU"
      },
      "source": [
        "*Above i converted the categorical columns to numerical in order to apply the correlation method*"
      ]
    },
    {
      "cell_type": "code",
      "metadata": {
        "id": "AyyoGHpRVGoV",
        "outputId": "a96a0642-7fe0-4375-b824-78c562e49cea"
      },
      "source": [
        "df3.corr()"
      ],
      "execution_count": null,
      "outputs": [
        {
          "data": {
            "text/html": [
              "<div>\n",
              "<style scoped>\n",
              "    .dataframe tbody tr th:only-of-type {\n",
              "        vertical-align: middle;\n",
              "    }\n",
              "\n",
              "    .dataframe tbody tr th {\n",
              "        vertical-align: top;\n",
              "    }\n",
              "\n",
              "    .dataframe thead th {\n",
              "        text-align: right;\n",
              "    }\n",
              "</style>\n",
              "<table border=\"1\" class=\"dataframe\">\n",
              "  <thead>\n",
              "    <tr style=\"text-align: right;\">\n",
              "      <th></th>\n",
              "      <th>impact</th>\n",
              "      <th>query_name_code</th>\n",
              "      <th>sentiment_code</th>\n",
              "    </tr>\n",
              "  </thead>\n",
              "  <tbody>\n",
              "    <tr>\n",
              "      <th>impact</th>\n",
              "      <td>1.000000</td>\n",
              "      <td>-0.080782</td>\n",
              "      <td>0.324342</td>\n",
              "    </tr>\n",
              "    <tr>\n",
              "      <th>query_name_code</th>\n",
              "      <td>-0.080782</td>\n",
              "      <td>1.000000</td>\n",
              "      <td>-0.075441</td>\n",
              "    </tr>\n",
              "    <tr>\n",
              "      <th>sentiment_code</th>\n",
              "      <td>0.324342</td>\n",
              "      <td>-0.075441</td>\n",
              "      <td>1.000000</td>\n",
              "    </tr>\n",
              "  </tbody>\n",
              "</table>\n",
              "</div>"
            ],
            "text/plain": [
              "                   impact  query_name_code  sentiment_code\n",
              "impact           1.000000        -0.080782        0.324342\n",
              "query_name_code -0.080782         1.000000       -0.075441\n",
              "sentiment_code   0.324342        -0.075441        1.000000"
            ]
          },
          "execution_count": 62,
          "metadata": {},
          "output_type": "execute_result"
        }
      ]
    },
    {
      "cell_type": "markdown",
      "metadata": {
        "id": "FFdpbU1wVGoV"
      },
      "source": [
        "*Does not seem that we have correlations betwwen different columns*"
      ]
    },
    {
      "cell_type": "code",
      "metadata": {
        "id": "dTTj1r8bVGoV",
        "outputId": "31d61954-0260-4299-9b51-b957881f6057"
      },
      "source": [
        "# Plot the correlation table\n",
        "fig = plt.figure(figsize=(10,5))\n",
        "sns.heatmap(df3.corr(method='pearson'), annot = True, cmap=\"Blues\")\n",
        "plt.title(\"Correlation Heatmap\")"
      ],
      "execution_count": null,
      "outputs": [
        {
          "data": {
            "text/plain": [
              "Text(0.5, 1.0, 'Correlation Heatmap')"
            ]
          },
          "execution_count": 128,
          "metadata": {},
          "output_type": "execute_result"
        },
        {
          "data": {
            "image/png": "[encoded data removed]",
            "text/plain": [
              "<Figure size 720x360 with 2 Axes>"
            ]
          },
          "metadata": {
            "needs_background": "light"
          },
          "output_type": "display_data"
        }
      ]
    },
    {
      "cell_type": "markdown",
      "metadata": {
        "id": "sbVdrqKgVGoW"
      },
      "source": [
        "## Text Preprocessing"
      ]
    },
    {
      "cell_type": "code",
      "metadata": {
        "id": "EUCV0tOwVGoX",
        "outputId": "3671b42e-6e3d-43d8-f49d-72a63c6df176",
        "colab": {
          "base_uri": "https://localhost:8080/"
        }
      },
      "source": [
        "# filter text column\n",
        "df_text = df['text']\n",
        "df_text.head()"
      ],
      "execution_count": 11,
      "outputs": [
        {
          "output_type": "execute_result",
          "data": {
            "text/plain": [
              "0    RT @re_aiiii: H eurobank έβγαλε διαφήμιση ότι ...\n",
              "1    RT @GTrapeziotis: Κανονικά ο Βαξεβάνης θα πρέπ...\n",
              "2    ΔΕΛΤΙΟ ΤΥΠΟΥ Συνάντηση μελών της ΚΟ του ΜέΡΑ25...\n",
              "3    Στις τράπεζες, οριακή άνοδο καταγράφουν Πειραι...\n",
              "4    RT @spigaro: Πρόεδρος στην Εθνική Τράπεζα ο Γκ...\n",
              "Name: text, dtype: object"
            ]
          },
          "metadata": {},
          "execution_count": 11
        }
      ]
    },
    {
      "cell_type": "markdown",
      "metadata": {
        "id": "vQe02jFGVGoX"
      },
      "source": [
        "*Below i am going to use regular expressions in order to remove special characters, mentions, hashtags and urls*"
      ]
    },
    {
      "cell_type": "code",
      "metadata": {
        "id": "MGJrrREoVGoZ"
      },
      "source": [
        "remove_RT = lambda x: re.sub(r'(http\\S+)|RT|([A-Za-z0-9]+)|(\\w+:\\/\\/\\S+)|([()\\\"#/;@:<>{}`+=~|.!?_,])', '', str(x))\n",
        "df_text_clean = df_text.apply(remove_RT)"
      ],
      "execution_count": 12,
      "outputs": []
    },
    {
      "cell_type": "code",
      "metadata": {
        "id": "6HxpCTx-VGob"
      },
      "source": [
        "df_text_clean.head(20)"
      ],
      "execution_count": null,
      "outputs": []
    },
    {
      "cell_type": "markdown",
      "metadata": {
        "id": "7ZvLXmxJVGob"
      },
      "source": [
        "*Remove greek stopwords*"
      ]
    },
    {
      "cell_type": "code",
      "metadata": {
        "id": "eWEJmEF8VGoc"
      },
      "source": [
        "import nltk  \n",
        "nltk.download('stopwords')\n",
        "from nltk.corpus import stopwords\n",
        "greek_stopwords = set(stopwords.words('greek'))"
      ],
      "execution_count": null,
      "outputs": []
    },
    {
      "cell_type": "code",
      "metadata": {
        "id": "fDsrSlmKVGod"
      },
      "source": [
        "more_words = ['του', 'της', 'τη', 'από', 'στις', 'το', 'με', 'μου', 'μας', 'σας', 'στην', 'είναι', 'και', 'ότι', 'στις','τράπεζα','τράπεζας','ενώ']\n",
        "greek_stopwords.update(more_words)"
      ],
      "execution_count": 19,
      "outputs": []
    },
    {
      "cell_type": "code",
      "metadata": {
        "id": "4aW2cH5tVGou"
      },
      "source": [
        "remove_words = lambda x: ' '.join([word for word in x.split() if word not in greek_stopwords])\n",
        "df_text_clean_rs = df_text_clean.apply(remove_words)"
      ],
      "execution_count": 20,
      "outputs": []
    },
    {
      "cell_type": "code",
      "metadata": {
        "id": "7Rs1U_SsVGou",
        "outputId": "b666ac75-75e3-4658-9cda-ee66d897052a",
        "colab": {
          "base_uri": "https://localhost:8080/"
        }
      },
      "source": [
        "# This is the final preprocessd corpus for the tfidf process\n",
        "df_text_clean_rs.head()"
      ],
      "execution_count": 21,
      "outputs": [
        {
          "output_type": "execute_result",
          "data": {
            "text/plain": [
              "0    έβγαλε διαφήμιση ανησυχεί δημογραφικό Κάντε πα...\n",
              "1    Κανονικά Βαξεβάνης πρέπει κάνει δωρεάν συνδρομ...\n",
              "2    ΔΕΛΤΙΟ ΤΥΠΟΥ Συνάντηση μελών ΚΟ ΜέΡΑ ΣΕΥΤΠΕ Το...\n",
              "3    Στις τράπεζες οριακή άνοδο καταγράφουν Πειραιώ...\n",
              "4    Πρόεδρος Εθνική Τράπεζα Γκίκας Χαρδούβελης οπο...\n",
              "Name: text, dtype: object"
            ]
          },
          "metadata": {},
          "execution_count": 21
        }
      ]
    },
    {
      "cell_type": "markdown",
      "metadata": {
        "id": "6S2vtYL_VGov"
      },
      "source": [
        "*We calculate TFidf for every term. So with this approach we can create numeric feature vectors from the text.*"
      ]
    },
    {
      "cell_type": "code",
      "metadata": {
        "id": "Vsc7QbIaVGow"
      },
      "source": [
        "from sklearn.feature_extraction.text import TfidfVectorizer\n",
        "v = TfidfVectorizer()\n",
        "x = v.fit_transform(df_text_clean_rs).toarray()"
      ],
      "execution_count": 33,
      "outputs": []
    },
    {
      "cell_type": "code",
      "metadata": {
        "id": "e9Qq2ey0VGox"
      },
      "source": [
        "# create a list with all the tfidf weights\n",
        "weights = np.asarray(x.mean(axis=0)).ravel().tolist()"
      ],
      "execution_count": 35,
      "outputs": []
    },
    {
      "cell_type": "code",
      "metadata": {
        "id": "t-tOFDpQVGoy"
      },
      "source": [
        "words_list = [word for line in df_text_clean_rs for word in line.split()]"
      ],
      "execution_count": 36,
      "outputs": []
    },
    {
      "cell_type": "code",
      "metadata": {
        "id": "Lece_8DEVGoz"
      },
      "source": [
        "# apply the tfidf value to the corresponding term\n",
        "weights_df = pd.DataFrame({'term': v.get_feature_names_out(), 'weight': weights})"
      ],
      "execution_count": 37,
      "outputs": []
    },
    {
      "cell_type": "markdown",
      "metadata": {
        "id": "Qhzps_AiVGoz"
      },
      "source": [
        "**Below you can see the top20 words based on tfidf score**"
      ]
    },
    {
      "cell_type": "code",
      "metadata": {
        "id": "1iMb-qbDVGoz",
        "outputId": "253636c8-6246-4c44-d26f-ffa25a79c2fa",
        "colab": {
          "base_uri": "https://localhost:8080/",
          "height": 676
        }
      },
      "source": [
        "# Sort the top 20 keywords\n",
        "weights_df.sort_values(by='weight', ascending=False).head(20)"
      ],
      "execution_count": 38,
      "outputs": [
        {
          "output_type": "execute_result",
          "data": {
            "text/plain": [
              "             term    weight\n",
              "6537     πειραιώς  0.035440\n",
              "2691       εθνική  0.030380\n",
              "3648         ευρώ  0.026764\n",
              "8433      τράπεζα  0.024493\n",
              "8441     τράπεζες  0.022039\n",
              "7749         στις  0.020820\n",
              "8438     τράπεζας  0.017634\n",
              "7239     πρόεδρος  0.014718\n",
              "8421         τους  0.014502\n",
              "2692      εθνικής  0.014007\n",
              "2767         εκατ  0.014006\n",
              "7680          στα  0.013678\n",
              "7287        πτώση  0.012045\n",
              "9077  χαρδούβελης  0.011465\n",
              "1840       γκίκας  0.011244\n",
              "5275   μεγαλύτερη  0.011124\n",
              "3219    εξωτερικό  0.011041\n",
              "499    ακολουθούν  0.010943\n",
              "837       ανοδικά  0.010875\n",
              "4152          και  0.010820"
            ],
            "text/html": [
              "\n",
              "  <div id=\"df-2b7ba90e-aa37-4876-ae29-2d5230a49c4e\">\n",
              "    <div class=\"colab-df-container\">\n",
              "      <div>\n",
              "<style scoped>\n",
              "    .dataframe tbody tr th:only-of-type {\n",
              "        vertical-align: middle;\n",
              "    }\n",
              "\n",
              "    .dataframe tbody tr th {\n",
              "        vertical-align: top;\n",
              "    }\n",
              "\n",
              "    .dataframe thead th {\n",
              "        text-align: right;\n",
              "    }\n",
              "</style>\n",
              "<table border=\"1\" class=\"dataframe\">\n",
              "  <thead>\n",
              "    <tr style=\"text-align: right;\">\n",
              "      <th></th>\n",
              "      <th>term</th>\n",
              "      <th>weight</th>\n",
              "    </tr>\n",
              "  </thead>\n",
              "  <tbody>\n",
              "    <tr>\n",
              "      <th>6537</th>\n",
              "      <td>πειραιώς</td>\n",
              "      <td>0.035440</td>\n",
              "    </tr>\n",
              "    <tr>\n",
              "      <th>2691</th>\n",
              "      <td>εθνική</td>\n",
              "      <td>0.030380</td>\n",
              "    </tr>\n",
              "    <tr>\n",
              "      <th>3648</th>\n",
              "      <td>ευρώ</td>\n",
              "      <td>0.026764</td>\n",
              "    </tr>\n",
              "    <tr>\n",
              "      <th>8433</th>\n",
              "      <td>τράπεζα</td>\n",
              "      <td>0.024493</td>\n",
              "    </tr>\n",
              "    <tr>\n",
              "      <th>8441</th>\n",
              "      <td>τράπεζες</td>\n",
              "      <td>0.022039</td>\n",
              "    </tr>\n",
              "    <tr>\n",
              "      <th>7749</th>\n",
              "      <td>στις</td>\n",
              "      <td>0.020820</td>\n",
              "    </tr>\n",
              "    <tr>\n",
              "      <th>8438</th>\n",
              "      <td>τράπεζας</td>\n",
              "      <td>0.017634</td>\n",
              "    </tr>\n",
              "    <tr>\n",
              "      <th>7239</th>\n",
              "      <td>πρόεδρος</td>\n",
              "      <td>0.014718</td>\n",
              "    </tr>\n",
              "    <tr>\n",
              "      <th>8421</th>\n",
              "      <td>τους</td>\n",
              "      <td>0.014502</td>\n",
              "    </tr>\n",
              "    <tr>\n",
              "      <th>2692</th>\n",
              "      <td>εθνικής</td>\n",
              "      <td>0.014007</td>\n",
              "    </tr>\n",
              "    <tr>\n",
              "      <th>2767</th>\n",
              "      <td>εκατ</td>\n",
              "      <td>0.014006</td>\n",
              "    </tr>\n",
              "    <tr>\n",
              "      <th>7680</th>\n",
              "      <td>στα</td>\n",
              "      <td>0.013678</td>\n",
              "    </tr>\n",
              "    <tr>\n",
              "      <th>7287</th>\n",
              "      <td>πτώση</td>\n",
              "      <td>0.012045</td>\n",
              "    </tr>\n",
              "    <tr>\n",
              "      <th>9077</th>\n",
              "      <td>χαρδούβελης</td>\n",
              "      <td>0.011465</td>\n",
              "    </tr>\n",
              "    <tr>\n",
              "      <th>1840</th>\n",
              "      <td>γκίκας</td>\n",
              "      <td>0.011244</td>\n",
              "    </tr>\n",
              "    <tr>\n",
              "      <th>5275</th>\n",
              "      <td>μεγαλύτερη</td>\n",
              "      <td>0.011124</td>\n",
              "    </tr>\n",
              "    <tr>\n",
              "      <th>3219</th>\n",
              "      <td>εξωτερικό</td>\n",
              "      <td>0.011041</td>\n",
              "    </tr>\n",
              "    <tr>\n",
              "      <th>499</th>\n",
              "      <td>ακολουθούν</td>\n",
              "      <td>0.010943</td>\n",
              "    </tr>\n",
              "    <tr>\n",
              "      <th>837</th>\n",
              "      <td>ανοδικά</td>\n",
              "      <td>0.010875</td>\n",
              "    </tr>\n",
              "    <tr>\n",
              "      <th>4152</th>\n",
              "      <td>και</td>\n",
              "      <td>0.010820</td>\n",
              "    </tr>\n",
              "  </tbody>\n",
              "</table>\n",
              "</div>\n",
              "      <button class=\"colab-df-convert\" onclick=\"convertToInteractive('df-2b7ba90e-aa37-4876-ae29-2d5230a49c4e')\"\n",
              "              title=\"Convert this dataframe to an interactive table.\"\n",
              "              style=\"display:none;\">\n",
              "        \n",
              "  <svg xmlns=\"http://www.w3.org/2000/svg\" height=\"24px\"viewBox=\"0 0 24 24\"\n",
              "       width=\"24px\">\n",
              "    <path d=\"M0 0h24v24H0V0z\" fill=\"none\"/>\n",
              "    <path d=\"M18.56 5.44l.94 2.06.94-2.06 2.06-.94-2.06-.94-.94-2.06-.94 2.06-2.06.94zm-11 1L8.5 8.5l.94-2.06 2.06-.94-2.06-.94L8.5 2.5l-.94 2.06-2.06.94zm10 10l.94 2.06.94-2.06 2.06-.94-2.06-.94-.94-2.06-.94 2.06-2.06.94z\"/><path d=\"M17.41 7.96l-1.37-1.37c-.4-.4-.92-.59-1.43-.59-.52 0-1.04.2-1.43.59L10.3 9.45l-7.72 7.72c-.78.78-.78 2.05 0 2.83L4 21.41c.39.39.9.59 1.41.59.51 0 1.02-.2 1.41-.59l7.78-7.78 2.81-2.81c.8-.78.8-2.07 0-2.86zM5.41 20L4 18.59l7.72-7.72 1.47 1.35L5.41 20z\"/>\n",
              "  </svg>\n",
              "      </button>\n",
              "      \n",
              "  <style>\n",
              "    .colab-df-container {\n",
              "      display:flex;\n",
              "      flex-wrap:wrap;\n",
              "      gap: 12px;\n",
              "    }\n",
              "\n",
              "    .colab-df-convert {\n",
              "      background-color: #E8F0FE;\n",
              "      border: none;\n",
              "      border-radius: 50%;\n",
              "      cursor: pointer;\n",
              "      display: none;\n",
              "      fill: #1967D2;\n",
              "      height: 32px;\n",
              "      padding: 0 0 0 0;\n",
              "      width: 32px;\n",
              "    }\n",
              "\n",
              "    .colab-df-convert:hover {\n",
              "      background-color: #E2EBFA;\n",
              "      box-shadow: 0px 1px 2px rgba(60, 64, 67, 0.3), 0px 1px 3px 1px rgba(60, 64, 67, 0.15);\n",
              "      fill: #174EA6;\n",
              "    }\n",
              "\n",
              "    [theme=dark] .colab-df-convert {\n",
              "      background-color: #3B4455;\n",
              "      fill: #D2E3FC;\n",
              "    }\n",
              "\n",
              "    [theme=dark] .colab-df-convert:hover {\n",
              "      background-color: #434B5C;\n",
              "      box-shadow: 0px 1px 3px 1px rgba(0, 0, 0, 0.15);\n",
              "      filter: drop-shadow(0px 1px 2px rgba(0, 0, 0, 0.3));\n",
              "      fill: #FFFFFF;\n",
              "    }\n",
              "  </style>\n",
              "\n",
              "      <script>\n",
              "        const buttonEl =\n",
              "          document.querySelector('#df-2b7ba90e-aa37-4876-ae29-2d5230a49c4e button.colab-df-convert');\n",
              "        buttonEl.style.display =\n",
              "          google.colab.kernel.accessAllowed ? 'block' : 'none';\n",
              "\n",
              "        async function convertToInteractive(key) {\n",
              "          const element = document.querySelector('#df-2b7ba90e-aa37-4876-ae29-2d5230a49c4e');\n",
              "          const dataTable =\n",
              "            await google.colab.kernel.invokeFunction('convertToInteractive',\n",
              "                                                     [key], {});\n",
              "          if (!dataTable) return;\n",
              "\n",
              "          const docLinkHtml = 'Like what you see? Visit the ' +\n",
              "            '<a target=\"_blank\" href=https://colab.research.google.com/notebooks/data_table.ipynb>data table notebook</a>'\n",
              "            + ' to learn more about interactive tables.';\n",
              "          element.innerHTML = '';\n",
              "          dataTable['output_type'] = 'display_data';\n",
              "          await google.colab.output.renderOutput(dataTable, element);\n",
              "          const docLink = document.createElement('div');\n",
              "          docLink.innerHTML = docLinkHtml;\n",
              "          element.appendChild(docLink);\n",
              "        }\n",
              "      </script>\n",
              "    </div>\n",
              "  </div>\n",
              "  "
            ]
          },
          "metadata": {},
          "execution_count": 38
        }
      ]
    },
    {
      "cell_type": "markdown",
      "metadata": {
        "id": "jUovRdxzVGo0"
      },
      "source": [
        "## Word Cloud"
      ]
    },
    {
      "cell_type": "code",
      "metadata": {
        "id": "oY_WbFFhVGo0"
      },
      "source": [
        "allwords = ' '.join( [twts for twts in df_text_clean_rs] )"
      ],
      "execution_count": 39,
      "outputs": []
    },
    {
      "cell_type": "code",
      "metadata": {
        "id": "QiQWAmK6VGo1",
        "outputId": "516314df-960a-49b5-abdd-80f524302fad",
        "colab": {
          "base_uri": "https://localhost:8080/",
          "height": 232
        }
      },
      "source": [
        "wordcloud = WordCloud(width=500, height=300, random_state=21, max_font_size=119).generate(allwords)\n",
        "\n",
        "plt.imshow(wordcloud, interpolation = \"bilinear\")\n",
        "plt.axis('off')\n",
        "plt.show()"
      ],
      "execution_count": 40,
      "outputs": [
        {
          "output_type": "display_data",
          "data": {
            "text/plain": [
              "<Figure size 432x288 with 1 Axes>"
            ],
            "image/png": "[encoded data removed]"
          },
          "metadata": {
            "needs_background": "light"
          }
        }
      ]
    },
    {
      "cell_type": "markdown",
      "metadata": {
        "id": "5HZFPTh5VGo2"
      },
      "source": [
        "*3-grams based on TF-IDF score*"
      ]
    },
    {
      "cell_type": "code",
      "metadata": {
        "scrolled": false,
        "id": "nmgX1ABVVGo2"
      },
      "source": [
        "# Getting trigrams \n",
        "vectorizer = CountVectorizer(ngram_range = (3,3))\n",
        "X1 = vectorizer.fit_transform(df_text_clean_rs) \n",
        "features = (vectorizer.get_feature_names_out())\n",
        "#print(\"\\n\\nFeatures : \\n\", features)\n",
        "#print(\"\\n\\nX1 : \\n\", X1.toarray())"
      ],
      "execution_count": null,
      "outputs": []
    },
    {
      "cell_type": "code",
      "metadata": {
        "id": "VUqFQrjPVGo3"
      },
      "source": [
        "# Applying TFIDF\n",
        "vectorizer = TfidfVectorizer(ngram_range = (3,3))\n",
        "X2 = vectorizer.fit_transform(df_text_clean_rs)\n",
        "scores = (X2.toarray())\n",
        "nscores = preprocessing.normalize(scores)\n",
        "print(\"\\n\\nScores : \\n\", nscores)"
      ],
      "execution_count": null,
      "outputs": []
    },
    {
      "cell_type": "code",
      "metadata": {
        "id": "Z0mRjL0uVGo3"
      },
      "source": [
        "sums = X2.mean(axis = 0)\n",
        "data1 = []\n",
        "for col, term in enumerate(features):\n",
        "    data1.append( (term, sums[0,col] ))\n",
        "ranking = pd.DataFrame(data1, columns = ['term','rank'])\n",
        "words = (ranking.sort_values('rank', ascending = False))\n",
        "print (\"\\n\\nWords head : \\n\", words.head(10))"
      ],
      "execution_count": null,
      "outputs": []
    },
    {
      "cell_type": "markdown",
      "metadata": {
        "id": "xh2uanL8VGo4"
      },
      "source": [
        "*2-grams based on TF-IDF score*"
      ]
    },
    {
      "cell_type": "code",
      "metadata": {
        "id": "dAym6k48VGo5"
      },
      "source": [
        "# Getting bigrams \n",
        "vectorizer = CountVectorizer(ngram_range = (2,2))\n",
        "X1 = vectorizer.fit_transform(df_text_clean_rs) \n",
        "features = (vectorizer.get_feature_names_out())\n",
        "#print(\"\\n\\nFeatures : \\n\", features)\n",
        "#print(\"\\n\\nX1 : \\n\", X1.toarray())"
      ],
      "execution_count": null,
      "outputs": []
    },
    {
      "cell_type": "code",
      "metadata": {
        "id": "YpMTaQe1VGo7"
      },
      "source": [
        "# Applying TFIDF\n",
        "vectorizer = TfidfVectorizer(ngram_range = (2,2))\n",
        "X2 = vectorizer.fit_transform(df_text_clean_rs)\n",
        "scores = (X2.toarray())\n",
        "nscores = preprocessing.normalize(scores)\n",
        "print(\"\\n\\nScores : \\n\", nscores)"
      ],
      "execution_count": null,
      "outputs": []
    },
    {
      "cell_type": "code",
      "metadata": {
        "id": "w1JO5dAtVGo8"
      },
      "source": [
        "sums = X2.mean(axis = 0)\n",
        "data1 = []\n",
        "for col, term in enumerate(features):\n",
        "    data1.append( (term, sums[0,col] ))\n",
        "ranking = pd.DataFrame(data1, columns = ['term','rank'])\n",
        "words = (ranking.sort_values('rank', ascending = False))\n",
        "print (\"\\n\\nWords head : \\n\", words.head(10))"
      ],
      "execution_count": null,
      "outputs": []
    },
    {
      "cell_type": "markdown",
      "metadata": {
        "id": "3nLhCe8YVGo8"
      },
      "source": [
        "# Modelling - Sentiment Classification"
      ]
    },
    {
      "cell_type": "markdown",
      "metadata": {
        "id": "Kql_otXJVGo9"
      },
      "source": [
        "## Random Forest classifier"
      ]
    },
    {
      "cell_type": "code",
      "metadata": {
        "id": "QR9Yizx5VGo9"
      },
      "source": [
        "# The vector with the sentiment. Based on these values we will do the classification\n",
        "y = df.iloc[:, 5].values"
      ],
      "execution_count": 49,
      "outputs": []
    },
    {
      "cell_type": "code",
      "metadata": {
        "id": "HUsShcWTVGo-"
      },
      "source": [
        "from sklearn.model_selection import train_test_split  \n",
        "X_train, X_test, y_train, y_test = train_test_split(x, y, test_size=0.2, random_state=0)"
      ],
      "execution_count": 50,
      "outputs": []
    },
    {
      "cell_type": "code",
      "metadata": {
        "id": "GH5WIA1rVGo-",
        "outputId": "81f94ecf-c6b1-4480-fc17-bf7fcee0619d",
        "colab": {
          "base_uri": "https://localhost:8080/",
          "height": 74
        }
      },
      "source": [
        "from sklearn.ensemble import RandomForestClassifier\n",
        "text_classifier = RandomForestClassifier(n_estimators=100, random_state=0)  \n",
        "text_classifier.fit(X_train, y_train)"
      ],
      "execution_count": 51,
      "outputs": [
        {
          "output_type": "execute_result",
          "data": {
            "text/plain": [
              "RandomForestClassifier(random_state=0)"
            ],
            "text/html": [
              "<style>#sk-container-id-1 {color: black;background-color: white;}#sk-container-id-1 pre{padding: 0;}#sk-container-id-1 div.sk-toggleable {background-color: white;}#sk-container-id-1 label.sk-toggleable__label {cursor: pointer;display: block;width: 100%;margin-bottom: 0;padding: 0.3em;box-sizing: border-box;text-align: center;}#sk-container-id-1 label.sk-toggleable__label-arrow:before {content: \"▸\";float: left;margin-right: 0.25em;color: #696969;}#sk-container-id-1 label.sk-toggleable__label-arrow:hover:before {color: black;}#sk-container-id-1 div.sk-estimator:hover label.sk-toggleable__label-arrow:before {color: black;}#sk-container-id-1 div.sk-toggleable__content {max-height: 0;max-width: 0;overflow: hidden;text-align: left;background-color: #f0f8ff;}#sk-container-id-1 div.sk-toggleable__content pre {margin: 0.2em;color: black;border-radius: 0.25em;background-color: #f0f8ff;}#sk-container-id-1 input.sk-toggleable__control:checked~div.sk-toggleable__content {max-height: 200px;max-width: 100%;overflow: auto;}#sk-container-id-1 input.sk-toggleable__control:checked~label.sk-toggleable__label-arrow:before {content: \"▾\";}#sk-container-id-1 div.sk-estimator input.sk-toggleable__control:checked~label.sk-toggleable__label {background-color: #d4ebff;}#sk-container-id-1 div.sk-label input.sk-toggleable__control:checked~label.sk-toggleable__label {background-color: #d4ebff;}#sk-container-id-1 input.sk-hidden--visually {border: 0;clip: rect(1px 1px 1px 1px);clip: rect(1px, 1px, 1px, 1px);height: 1px;margin: -1px;overflow: hidden;padding: 0;position: absolute;width: 1px;}#sk-container-id-1 div.sk-estimator {font-family: monospace;background-color: #f0f8ff;border: 1px dotted black;border-radius: 0.25em;box-sizing: border-box;margin-bottom: 0.5em;}#sk-container-id-1 div.sk-estimator:hover {background-color: #d4ebff;}#sk-container-id-1 div.sk-parallel-item::after {content: \"\";width: 100%;border-bottom: 1px solid gray;flex-grow: 1;}#sk-container-id-1 div.sk-label:hover label.sk-toggleable__label {background-color: #d4ebff;}#sk-container-id-1 div.sk-serial::before {content: \"\";position: absolute;border-left: 1px solid gray;box-sizing: border-box;top: 0;bottom: 0;left: 50%;z-index: 0;}#sk-container-id-1 div.sk-serial {display: flex;flex-direction: column;align-items: center;background-color: white;padding-right: 0.2em;padding-left: 0.2em;position: relative;}#sk-container-id-1 div.sk-item {position: relative;z-index: 1;}#sk-container-id-1 div.sk-parallel {display: flex;align-items: stretch;justify-content: center;background-color: white;position: relative;}#sk-container-id-1 div.sk-item::before, #sk-container-id-1 div.sk-parallel-item::before {content: \"\";position: absolute;border-left: 1px solid gray;box-sizing: border-box;top: 0;bottom: 0;left: 50%;z-index: -1;}#sk-container-id-1 div.sk-parallel-item {display: flex;flex-direction: column;z-index: 1;position: relative;background-color: white;}#sk-container-id-1 div.sk-parallel-item:first-child::after {align-self: flex-end;width: 50%;}#sk-container-id-1 div.sk-parallel-item:last-child::after {align-self: flex-start;width: 50%;}#sk-container-id-1 div.sk-parallel-item:only-child::after {width: 0;}#sk-container-id-1 div.sk-dashed-wrapped {border: 1px dashed gray;margin: 0 0.4em 0.5em 0.4em;box-sizing: border-box;padding-bottom: 0.4em;background-color: white;}#sk-container-id-1 div.sk-label label {font-family: monospace;font-weight: bold;display: inline-block;line-height: 1.2em;}#sk-container-id-1 div.sk-label-container {text-align: center;}#sk-container-id-1 div.sk-container {/* jupyter's `normalize.less` sets `[hidden] { display: none; }` but bootstrap.min.css set `[hidden] { display: none !important; }` so we also need the `!important` here to be able to override the default hidden behavior on the sphinx rendered scikit-learn.org. See: https://github.com/scikit-learn/scikit-learn/issues/21755 */display: inline-block !important;position: relative;}#sk-container-id-1 div.sk-text-repr-fallback {display: none;}</style><div id=\"sk-container-id-1\" class=\"sk-top-container\"><div class=\"sk-text-repr-fallback\"><pre>RandomForestClassifier(random_state=0)</pre><b>In a Jupyter environment, please rerun this cell to show the HTML representation or trust the notebook. <br />On GitHub, the HTML representation is unable to render, please try loading this page with nbviewer.org.</b></div><div class=\"sk-container\" hidden><div class=\"sk-item\"><div class=\"sk-estimator sk-toggleable\"><input class=\"sk-toggleable__control sk-hidden--visually\" id=\"sk-estimator-id-1\" type=\"checkbox\" checked><label for=\"sk-estimator-id-1\" class=\"sk-toggleable__label sk-toggleable__label-arrow\">RandomForestClassifier</label><div class=\"sk-toggleable__content\"><pre>RandomForestClassifier(random_state=0)</pre></div></div></div></div></div>"
            ]
          },
          "metadata": {},
          "execution_count": 51
        }
      ]
    },
    {
      "cell_type": "code",
      "metadata": {
        "id": "T_mY707rVGo-",
        "outputId": "494437c8-0ca0-4da4-f350-01f5f1bc7949",
        "colab": {
          "base_uri": "https://localhost:8080/"
        }
      },
      "source": [
        "predictions = text_classifier.predict(X_test)\n",
        " \n",
        "from sklearn.metrics import classification_report, confusion_matrix, accuracy_score\n",
        " \n",
        "print(confusion_matrix(y_test,predictions))  \n",
        "print(classification_report(y_test,predictions))  \n",
        "print(accuracy_score(y_test, predictions))"
      ],
      "execution_count": 52,
      "outputs": [
        {
          "output_type": "stream",
          "name": "stdout",
          "text": [
            "[[181  15  13  12]\n",
            " [ 14 247  13   7]\n",
            " [ 49   6 102  14]\n",
            " [ 32   5   6 284]]\n",
            "                 precision    recall  f1-score   support\n",
            "\n",
            "     Alpha Bank       0.66      0.82      0.73       221\n",
            "Ethniki Trapeza       0.90      0.88      0.89       281\n",
            "       Eurobank       0.76      0.60      0.67       171\n",
            "   Piraeus Bank       0.90      0.87      0.88       327\n",
            "\n",
            "       accuracy                           0.81      1000\n",
            "      macro avg       0.80      0.79      0.79      1000\n",
            "   weighted avg       0.82      0.81      0.81      1000\n",
            "\n",
            "0.814\n"
          ]
        }
      ]
    },
    {
      "cell_type": "markdown",
      "metadata": {
        "id": "8jVA4bgKVGo_"
      },
      "source": [
        "**The accuracy score is 0.895**"
      ]
    },
    {
      "cell_type": "markdown",
      "metadata": {
        "id": "V96kPT78VGpA"
      },
      "source": [
        "## Logistic Regression"
      ]
    },
    {
      "cell_type": "code",
      "metadata": {
        "scrolled": true,
        "id": "sy3mDiUSVGpA"
      },
      "source": [
        "import pickle \n",
        "from sklearn.linear_model import LogisticRegressionCV\n",
        "\n",
        "clf = LogisticRegressionCV(cv=5,\n",
        "                          scoring='accuracy',\n",
        "                          random_state=0,\n",
        "                          n_jobs=1,\n",
        "                          verbose=1,\n",
        "                          max_iter=300).fit(X_train, y_train)\n",
        "saved_model = open('saved_model.csv', 'wb')\n",
        "pickle.dump(clf, saved_model)\n",
        "saved_model.close()"
      ],
      "execution_count": null,
      "outputs": []
    },
    {
      "cell_type": "code",
      "metadata": {
        "id": "9uNwG1tNVGpA"
      },
      "source": [
        "filename = 'saved_model.csv'\n",
        "saved_clf = pickle.load(open(filename, 'rb'))"
      ],
      "execution_count": null,
      "outputs": []
    },
    {
      "cell_type": "code",
      "metadata": {
        "id": "6PUpHMC2VGpB",
        "outputId": "45cb85d4-003a-43e6-fef4-685dcce1aa1f"
      },
      "source": [
        "saved_clf.score(X_test, y_test)"
      ],
      "execution_count": null,
      "outputs": [
        {
          "name": "stderr",
          "output_type": "stream",
          "text": [
            "C:\\Users\\uogss\\AppData\\Local\\Continuum\\anaconda3\\lib\\site-packages\\sklearn\\linear_model\\logistic.py:1926: ChangedBehaviorWarning: The long-standing behavior to use the accuracy score has changed. The scoring parameter is now used. This warning will disappear in version 0.22.\n",
            "  ChangedBehaviorWarning)\n"
          ]
        },
        {
          "data": {
            "text/plain": [
              "0.926"
            ]
          },
          "execution_count": 43,
          "metadata": {},
          "output_type": "execute_result"
        }
      ]
    },
    {
      "cell_type": "markdown",
      "metadata": {
        "id": "TGiD28VMVGpB"
      },
      "source": [
        "**The accuracy score is 0.926**"
      ]
    },
    {
      "cell_type": "markdown",
      "metadata": {
        "id": "BAES9J8bVGpC"
      },
      "source": [
        "## Support Vector Classifier"
      ]
    },
    {
      "cell_type": "code",
      "metadata": {
        "id": "TPmzp6wmVGpC",
        "outputId": "2c43588e-0fe7-447b-bdd1-5b6e0288382f"
      },
      "source": [
        "from sklearn.svm import LinearSVC\n",
        "clf = LinearSVC()\n",
        "clf.fit(X_train, y_train)"
      ],
      "execution_count": null,
      "outputs": [
        {
          "data": {
            "text/plain": [
              "LinearSVC(C=1.0, class_weight=None, dual=True, fit_intercept=True,\n",
              "     intercept_scaling=1, loss='squared_hinge', max_iter=1000,\n",
              "     multi_class='ovr', penalty='l2', random_state=None, tol=0.0001,\n",
              "     verbose=0)"
            ]
          },
          "execution_count": 48,
          "metadata": {},
          "output_type": "execute_result"
        }
      ]
    },
    {
      "cell_type": "code",
      "metadata": {
        "id": "9EBe9CO_VGpD"
      },
      "source": [
        "y_pred = clf.predict(X_test)"
      ],
      "execution_count": null,
      "outputs": []
    },
    {
      "cell_type": "code",
      "metadata": {
        "id": "bHFewD-OVGpD",
        "outputId": "e6c6f38c-d721-41bc-f7e7-376cd52aded8"
      },
      "source": [
        "print(classification_report(y_test, y_pred))"
      ],
      "execution_count": null,
      "outputs": [
        {
          "name": "stdout",
          "output_type": "stream",
          "text": [
            "              precision    recall  f1-score   support\n",
            "\n",
            "    negative       0.92      0.95      0.93       516\n",
            "     neutral       0.93      0.91      0.92       471\n",
            "    positive       0.80      0.62      0.70        13\n",
            "\n",
            "   micro avg       0.93      0.93      0.93      1000\n",
            "   macro avg       0.88      0.82      0.85      1000\n",
            "weighted avg       0.93      0.93      0.93      1000\n",
            "\n"
          ]
        }
      ]
    }
  ]
}